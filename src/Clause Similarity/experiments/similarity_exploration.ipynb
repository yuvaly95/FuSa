{
 "cells": [
  {
   "cell_type": "code",
   "id": "initial_id",
   "metadata": {
    "collapsed": true,
    "ExecuteTime": {
     "end_time": "2025-01-21T06:03:27.516928Z",
     "start_time": "2025-01-21T06:03:27.506926Z"
    }
   },
   "source": [
    "from util import parse_markdown_to_dataframe, get_embedding\n",
    "from tqdm import tqdm\n",
    "from pathlib import Path\n",
    "import os"
   ],
   "outputs": [],
   "execution_count": 8
  },
  {
   "metadata": {
    "ExecuteTime": {
     "end_time": "2025-01-21T06:03:28.051265Z",
     "start_time": "2025-01-21T06:03:28.043810Z"
    }
   },
   "cell_type": "code",
   "source": [
    "src_dir = Path(os.getcwd()).parent.parent\n",
    "data_dir_path = Path(src_dir, \"data\")\n",
    "md_path = Path(data_dir_path, \"ISO26262-8.md\")\n",
    "ISO26262_10_path = Path(data_dir_path, 'ISO26262-10.md')\n",
    "ISO26262_8_path = Path(data_dir_path, 'ISO26262-8.md')\n",
    "EN50128_path = Path(data_dir_path, 'EN50128.md')"
   ],
   "id": "e4f0efd118a481c9",
   "outputs": [],
   "execution_count": 9
  },
  {
   "metadata": {
    "ExecuteTime": {
     "end_time": "2025-01-21T06:03:28.587096Z",
     "start_time": "2025-01-21T06:03:28.543828Z"
    }
   },
   "cell_type": "code",
   "source": "df = parse_markdown_to_dataframe(EN50128_path)",
   "id": "49559f608aba8ab8",
   "outputs": [],
   "execution_count": 10
  },
  {
   "metadata": {
    "ExecuteTime": {
     "end_time": "2025-01-21T06:03:28.808507Z",
     "start_time": "2025-01-21T06:03:28.799034Z"
    }
   },
   "cell_type": "code",
   "source": "df.head(15)",
   "id": "a18b0277f82607c6",
   "outputs": [
    {
     "data": {
      "text/plain": [
       "   Number                               Heading  \\\n",
       "0       8                                         \n",
       "1       1                                 Scope   \n",
       "2     1.1                                         \n",
       "3     1.2                                         \n",
       "4     1.3                                         \n",
       "5     1.4                                         \n",
       "6     1.5                                         \n",
       "7     1.6                                         \n",
       "8     1.7                                         \n",
       "9     1.8                                         \n",
       "10    1.9                                         \n",
       "11      2                  Normative references   \n",
       "12      3  Terms, definitions and abbreviations   \n",
       "13    3.1                 Terms and definitions   \n",
       "14  3.1.1                            assessment   \n",
       "\n",
       "                                               Clause  \n",
       "0   The principles applied in developing high inte...  \n",
       "1                                                      \n",
       "2   This European Standard specifies the process a...  \n",
       "3   This European Standard is applicable exclusive...  \n",
       "4   This European Standard is not relevant for sof...  \n",
       "5   This European Standard applies to all safety r...  \n",
       "6   This European Standard also addresses the use ...  \n",
       "7   Software developed according to any version of...  \n",
       "8   This European Standard considers that modern a...  \n",
       "9   This European Standard is not intended to addr...  \n",
       "10  This European Standard is not intended to be r...  \n",
       "11  The following referenced documents are indispe...  \n",
       "12                                                     \n",
       "13  For the purposes of this document, the followi...  \n",
       "14  process of analysis to determine whether softw...  "
      ],
      "text/html": [
       "<div>\n",
       "<style scoped>\n",
       "    .dataframe tbody tr th:only-of-type {\n",
       "        vertical-align: middle;\n",
       "    }\n",
       "\n",
       "    .dataframe tbody tr th {\n",
       "        vertical-align: top;\n",
       "    }\n",
       "\n",
       "    .dataframe thead th {\n",
       "        text-align: right;\n",
       "    }\n",
       "</style>\n",
       "<table border=\"1\" class=\"dataframe\">\n",
       "  <thead>\n",
       "    <tr style=\"text-align: right;\">\n",
       "      <th></th>\n",
       "      <th>Number</th>\n",
       "      <th>Heading</th>\n",
       "      <th>Clause</th>\n",
       "    </tr>\n",
       "  </thead>\n",
       "  <tbody>\n",
       "    <tr>\n",
       "      <th>0</th>\n",
       "      <td>8</td>\n",
       "      <td></td>\n",
       "      <td>The principles applied in developing high inte...</td>\n",
       "    </tr>\n",
       "    <tr>\n",
       "      <th>1</th>\n",
       "      <td>1</td>\n",
       "      <td>Scope</td>\n",
       "      <td></td>\n",
       "    </tr>\n",
       "    <tr>\n",
       "      <th>2</th>\n",
       "      <td>1.1</td>\n",
       "      <td></td>\n",
       "      <td>This European Standard specifies the process a...</td>\n",
       "    </tr>\n",
       "    <tr>\n",
       "      <th>3</th>\n",
       "      <td>1.2</td>\n",
       "      <td></td>\n",
       "      <td>This European Standard is applicable exclusive...</td>\n",
       "    </tr>\n",
       "    <tr>\n",
       "      <th>4</th>\n",
       "      <td>1.3</td>\n",
       "      <td></td>\n",
       "      <td>This European Standard is not relevant for sof...</td>\n",
       "    </tr>\n",
       "    <tr>\n",
       "      <th>5</th>\n",
       "      <td>1.4</td>\n",
       "      <td></td>\n",
       "      <td>This European Standard applies to all safety r...</td>\n",
       "    </tr>\n",
       "    <tr>\n",
       "      <th>6</th>\n",
       "      <td>1.5</td>\n",
       "      <td></td>\n",
       "      <td>This European Standard also addresses the use ...</td>\n",
       "    </tr>\n",
       "    <tr>\n",
       "      <th>7</th>\n",
       "      <td>1.6</td>\n",
       "      <td></td>\n",
       "      <td>Software developed according to any version of...</td>\n",
       "    </tr>\n",
       "    <tr>\n",
       "      <th>8</th>\n",
       "      <td>1.7</td>\n",
       "      <td></td>\n",
       "      <td>This European Standard considers that modern a...</td>\n",
       "    </tr>\n",
       "    <tr>\n",
       "      <th>9</th>\n",
       "      <td>1.8</td>\n",
       "      <td></td>\n",
       "      <td>This European Standard is not intended to addr...</td>\n",
       "    </tr>\n",
       "    <tr>\n",
       "      <th>10</th>\n",
       "      <td>1.9</td>\n",
       "      <td></td>\n",
       "      <td>This European Standard is not intended to be r...</td>\n",
       "    </tr>\n",
       "    <tr>\n",
       "      <th>11</th>\n",
       "      <td>2</td>\n",
       "      <td>Normative references</td>\n",
       "      <td>The following referenced documents are indispe...</td>\n",
       "    </tr>\n",
       "    <tr>\n",
       "      <th>12</th>\n",
       "      <td>3</td>\n",
       "      <td>Terms, definitions and abbreviations</td>\n",
       "      <td></td>\n",
       "    </tr>\n",
       "    <tr>\n",
       "      <th>13</th>\n",
       "      <td>3.1</td>\n",
       "      <td>Terms and definitions</td>\n",
       "      <td>For the purposes of this document, the followi...</td>\n",
       "    </tr>\n",
       "    <tr>\n",
       "      <th>14</th>\n",
       "      <td>3.1.1</td>\n",
       "      <td>assessment</td>\n",
       "      <td>process of analysis to determine whether softw...</td>\n",
       "    </tr>\n",
       "  </tbody>\n",
       "</table>\n",
       "</div>"
      ]
     },
     "execution_count": 11,
     "metadata": {},
     "output_type": "execute_result"
    }
   ],
   "execution_count": 11
  },
  {
   "metadata": {
    "ExecuteTime": {
     "end_time": "2025-01-21T06:03:29.820950Z",
     "start_time": "2025-01-21T06:03:29.817963Z"
    }
   },
   "cell_type": "code",
   "source": "model_names = ['Alibaba-NLP/gte-Qwen2-1.5B-instruct']",
   "id": "59e6cae620a506ab",
   "outputs": [],
   "execution_count": 12
  },
  {
   "metadata": {
    "ExecuteTime": {
     "end_time": "2025-01-21T06:03:30.411431Z",
     "start_time": "2025-01-21T06:03:30.405472Z"
    }
   },
   "cell_type": "code",
   "source": "tqdm.pandas()",
   "id": "72e026100bd2a65c",
   "outputs": [],
   "execution_count": 13
  },
  {
   "metadata": {},
   "cell_type": "code",
   "source": [
    "for name in model_names:\n",
    "    df[f\"embed_{name}\"] = df['Clause'].progress_apply(get_embedding, model_name=name)"
   ],
   "id": "cb7b44e646947de5",
   "outputs": [],
   "execution_count": null
  },
  {
   "metadata": {},
   "cell_type": "code",
   "outputs": [],
   "execution_count": null,
   "source": "df.head()",
   "id": "393d4369894bc9da"
  },
  {
   "metadata": {},
   "cell_type": "code",
   "outputs": [],
   "execution_count": null,
   "source": "",
   "id": "537864416babfa23"
  }
 ],
 "metadata": {
  "kernelspec": {
   "display_name": "Python 3",
   "language": "python",
   "name": "python3"
  },
  "language_info": {
   "codemirror_mode": {
    "name": "ipython",
    "version": 2
   },
   "file_extension": ".py",
   "mimetype": "text/x-python",
   "name": "python",
   "nbconvert_exporter": "python",
   "pygments_lexer": "ipython2",
   "version": "2.7.6"
  }
 },
 "nbformat": 4,
 "nbformat_minor": 5
}
