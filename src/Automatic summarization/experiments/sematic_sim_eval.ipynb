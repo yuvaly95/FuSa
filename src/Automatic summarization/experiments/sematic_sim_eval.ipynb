{
 "cells": [
  {
   "cell_type": "code",
   "id": "initial_id",
   "metadata": {
    "collapsed": true,
    "ExecuteTime": {
     "end_time": "2025-01-04T16:06:17.557583Z",
     "start_time": "2025-01-04T16:06:17.553636Z"
    }
   },
   "source": [
    "from sentence_transformers import SentenceTransformer\n",
    "from sklearn.metrics.pairwise import cosine_similarity\n",
    "from functools import lru_cache"
   ],
   "outputs": [],
   "execution_count": 12
  },
  {
   "metadata": {
    "ExecuteTime": {
     "end_time": "2025-01-04T16:06:01.415299Z",
     "start_time": "2025-01-04T16:05:59.768286Z"
    }
   },
   "cell_type": "code",
   "source": [
    "# Load the pre-trained model globally (so it's not loaded multiple times)\n",
    "model = SentenceTransformer('all-MiniLM-L6-v2')\n"
   ],
   "id": "81a5df086ff30574",
   "outputs": [],
   "execution_count": 11
  },
  {
   "metadata": {
    "ExecuteTime": {
     "end_time": "2025-01-04T16:07:26.661917Z",
     "start_time": "2025-01-04T16:07:26.658689Z"
    }
   },
   "cell_type": "code",
   "source": [
    "# Cache function to store embeddings\n",
    "@lru_cache(maxsize=100)  # Cache up to 100 entries, adjust as needed\n",
    "def get_embedding(text):\n",
    "    \"\"\"\n",
    "    Compute and cache the embedding for a given text.\n",
    "    \"\"\"\n",
    "    embedding = model.encode(text, show_progress_bar=True)\n",
    "    return tuple(embedding)  # Tuples are hashable and compatible with lru_cache"
   ],
   "id": "c9c3a68f522e4930",
   "outputs": [],
   "execution_count": 16
  },
  {
   "metadata": {
    "ExecuteTime": {
     "end_time": "2025-01-04T16:07:27.461319Z",
     "start_time": "2025-01-04T16:07:27.457209Z"
    }
   },
   "cell_type": "code",
   "source": [
    "def compute_similarity(text1, text2):\n",
    "    \"\"\"\n",
    "    Compute the cosine similarity between the embeddings of two texts.\n",
    "    \"\"\"\n",
    "    embedding1 = get_embedding(text1)\n",
    "    embedding2 = get_embedding(text2)\n",
    "    \n",
    "    # Convert tuple back to numpy array for similarity calculation\n",
    "    similarity_score = cosine_similarity([embedding1], [embedding2])[0][0]\n",
    "    \n",
    "    return similarity_score"
   ],
   "id": "1dcd0bedf406b847",
   "outputs": [],
   "execution_count": 17
  },
  {
   "metadata": {},
   "cell_type": "markdown",
   "source": "### sanity check",
   "id": "30754b0c3cbe70ee"
  },
  {
   "metadata": {
    "ExecuteTime": {
     "end_time": "2025-01-04T16:07:29.219875Z",
     "start_time": "2025-01-04T16:07:29.215592Z"
    }
   },
   "cell_type": "code",
   "source": [
    "text1 = \"The sky is blue and clear today.\"\n",
    "text2 = \"Today's sky is clear and has a blue color.\"\n",
    "text3 = \"Functional Safety Standards are complex, sometimes blue, documents\""
   ],
   "id": "fb76d4c40c4f3fa2",
   "outputs": [],
   "execution_count": 18
  },
  {
   "metadata": {
    "ExecuteTime": {
     "end_time": "2025-01-04T16:07:34.992323Z",
     "start_time": "2025-01-04T16:07:34.985379Z"
    }
   },
   "cell_type": "code",
   "source": [
    "similarity_1 = compute_similarity(text1, text2)\n",
    "similarity_2 = compute_similarity(text1, text3)\n",
    "similarity_3 = compute_similarity(text2, text3)\n",
    "print(f\"Cosine Similarity 1-2: {similarity_1:.4f}\")\n",
    "print(f\"Cosine Similarity 1-3: {similarity_2:.4f}\")\n",
    "print(f\"Cosine Similarity 2-3: {similarity_3:.4f}\")"
   ],
   "id": "52682f29c5aed3f3",
   "outputs": [
    {
     "name": "stdout",
     "output_type": "stream",
     "text": [
      "Cosine Similarity 1-2: 0.9523\n",
      "Cosine Similarity 1-3: 0.1014\n",
      "Cosine Similarity 2-3: 0.1451\n"
     ]
    }
   ],
   "execution_count": 20
  },
  {
   "metadata": {
    "ExecuteTime": {
     "end_time": "2025-01-04T16:15:44.354341Z",
     "start_time": "2025-01-04T16:15:44.349318Z"
    }
   },
   "cell_type": "code",
   "source": "",
   "id": "646b9930e7dfb266",
   "outputs": [
    {
     "data": {
      "text/plain": [
       "CacheInfo(hits=9, misses=3, maxsize=100, currsize=3)"
      ]
     },
     "execution_count": 25,
     "metadata": {},
     "output_type": "execute_result"
    }
   ],
   "execution_count": 25
  },
  {
   "metadata": {},
   "cell_type": "code",
   "outputs": [],
   "execution_count": null,
   "source": "",
   "id": "c64fb03d095e1e6d"
  }
 ],
 "metadata": {
  "kernelspec": {
   "display_name": "Python 3",
   "language": "python",
   "name": "python3"
  },
  "language_info": {
   "codemirror_mode": {
    "name": "ipython",
    "version": 2
   },
   "file_extension": ".py",
   "mimetype": "text/x-python",
   "name": "python",
   "nbconvert_exporter": "python",
   "pygments_lexer": "ipython2",
   "version": "2.7.6"
  }
 },
 "nbformat": 4,
 "nbformat_minor": 5
}
