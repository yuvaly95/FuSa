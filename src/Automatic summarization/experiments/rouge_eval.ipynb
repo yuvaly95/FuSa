{
 "cells": [
  {
   "metadata": {},
   "cell_type": "markdown",
   "source": "### Test rouge score libraries",
   "id": "afe15a3891343d90"
  },
  {
   "metadata": {
    "ExecuteTime": {
     "end_time": "2024-12-15T13:09:48.891283Z",
     "start_time": "2024-12-15T13:09:48.886952Z"
    }
   },
   "cell_type": "code",
   "source": [
    "import pandas as pd\n",
    "from rouge_score import rouge_scorer"
   ],
   "id": "c9cab28b85c1bc3",
   "outputs": [],
   "execution_count": 31
  },
  {
   "metadata": {
    "ExecuteTime": {
     "end_time": "2024-12-15T12:52:35.169685Z",
     "start_time": "2024-12-15T12:52:35.165324Z"
    }
   },
   "cell_type": "code",
   "source": [
    "scorer = rouge_scorer.RougeScorer(['rouge1','rouge2','rougeL', 'rougeLsum'], use_stemmer=True)\n",
    "scores = scorer.score('The quick brown fox jumps over the lazy dog',\n",
    "                      'The quick brown dog jumps on the log.')"
   ],
   "id": "172efdf08709c5ca",
   "outputs": [],
   "execution_count": 28
  },
  {
   "metadata": {
    "ExecuteTime": {
     "end_time": "2024-12-15T12:52:36.550858Z",
     "start_time": "2024-12-15T12:52:36.546073Z"
    }
   },
   "cell_type": "code",
   "source": "scores",
   "id": "acb1778155ace44d",
   "outputs": [
    {
     "data": {
      "text/plain": [
       "{'rouge1': Score(precision=0.75, recall=0.6666666666666666, fmeasure=0.7058823529411765),\n",
       " 'rouge2': Score(precision=0.2857142857142857, recall=0.25, fmeasure=0.26666666666666666),\n",
       " 'rougeL': Score(precision=0.625, recall=0.5555555555555556, fmeasure=0.5882352941176471),\n",
       " 'rougeLsum': Score(precision=0.625, recall=0.5555555555555556, fmeasure=0.5882352941176471)}"
      ]
     },
     "execution_count": 29,
     "metadata": {},
     "output_type": "execute_result"
    }
   ],
   "execution_count": 29
  },
  {
   "metadata": {
    "ExecuteTime": {
     "end_time": "2024-12-15T12:43:27.027237Z",
     "start_time": "2024-12-15T12:43:27.022318Z"
    }
   },
   "cell_type": "code",
   "source": "import evaluate",
   "id": "165a103166a59982",
   "outputs": [],
   "execution_count": 22
  },
  {
   "metadata": {
    "ExecuteTime": {
     "end_time": "2024-12-15T12:47:25.619134Z",
     "start_time": "2024-12-15T12:47:24.389809Z"
    }
   },
   "cell_type": "code",
   "source": "rouge = evaluate.load('rouge')",
   "id": "5dbbc552568ea991",
   "outputs": [
    {
     "name": "stderr",
     "output_type": "stream",
     "text": [
      "Downloading builder script: 100%|██████████| 6.27k/6.27k [00:00<00:00, 5.81MB/s]\n"
     ]
    }
   ],
   "execution_count": 24
  },
  {
   "metadata": {
    "ExecuteTime": {
     "end_time": "2024-12-15T12:48:41.499924Z",
     "start_time": "2024-12-15T12:48:41.495952Z"
    }
   },
   "cell_type": "code",
   "source": [
    "predictions = ['The quick brown fox jumps over the lazy dog']\n",
    "references = ['The quick brown dog jumps on the log.']"
   ],
   "id": "d67c4a63280ccf40",
   "outputs": [],
   "execution_count": 25
  },
  {
   "metadata": {
    "ExecuteTime": {
     "end_time": "2024-12-15T12:53:42.872243Z",
     "start_time": "2024-12-15T12:53:42.802028Z"
    }
   },
   "cell_type": "code",
   "source": [
    "results = rouge.compute(predictions=predictions, references=references, use_stemmer=True)\n",
    "results"
   ],
   "id": "8d9e5b3a901468c6",
   "outputs": [
    {
     "data": {
      "text/plain": [
       "{'rouge1': np.float64(0.7058823529411765),\n",
       " 'rouge2': np.float64(0.26666666666666666),\n",
       " 'rougeL': np.float64(0.5882352941176471),\n",
       " 'rougeLsum': np.float64(0.5882352941176471)}"
      ]
     },
     "execution_count": 30,
     "metadata": {},
     "output_type": "execute_result"
    }
   ],
   "execution_count": 30
  },
  {
   "metadata": {},
   "cell_type": "markdown",
   "source": "### ",
   "id": "b8095d4e530ecd7d"
  }
 ],
 "metadata": {
  "kernelspec": {
   "display_name": "Python 3",
   "language": "python",
   "name": "python3"
  },
  "language_info": {
   "codemirror_mode": {
    "name": "ipython",
    "version": 2
   },
   "file_extension": ".py",
   "mimetype": "text/x-python",
   "name": "python",
   "nbconvert_exporter": "python",
   "pygments_lexer": "ipython2",
   "version": "2.7.6"
  }
 },
 "nbformat": 4,
 "nbformat_minor": 5
}
