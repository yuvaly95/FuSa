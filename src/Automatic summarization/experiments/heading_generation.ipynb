{
 "cells": [
  {
   "cell_type": "code",
   "id": "initial_id",
   "metadata": {
    "collapsed": true,
    "ExecuteTime": {
     "end_time": "2025-01-05T10:14:14.119391Z",
     "start_time": "2025-01-05T10:14:14.112468Z"
    }
   },
   "source": [
    "import pandas as pd\n",
    "from sentence_transformers import SentenceTransformer\n",
    "from sklearn.metrics.pairwise import cosine_similarity\n",
    "from transformers import pipeline\n",
    "from functools import lru_cache\n",
    "import evaluate\n",
    "from tqdm import tqdm"
   ],
   "outputs": [],
   "execution_count": 20
  },
  {
   "metadata": {
    "ExecuteTime": {
     "end_time": "2025-01-05T10:36:00.635483Z",
     "start_time": "2025-01-05T10:36:00.630966Z"
    }
   },
   "cell_type": "code",
   "source": [
    "@lru_cache(maxsize=512)\n",
    "def generate_clause_heading_pipeline_single(clause, summarizer, max_length=6, min_length=2, max_input_length = 512):\n",
    "    \"\"\"\n",
    "    Generate a heading for a single clause using the summarization pipeline.\n",
    "    Args:\n",
    "        clause (str): A single clause text.\n",
    "        summarizer (pipeline): Hugging Face summarization pipeline.\n",
    "        max_length (int): Maximum length of the generated heading.\n",
    "        min_length (int): Minimum length of the generated heading.\n",
    "        max_input_length(int): Maximum length of the input text.\n",
    "    Returns:\n",
    "        str: The generated heading.\n",
    "    \"\"\"\n",
    "    tokenized_length = len(clause.split())\n",
    "\n",
    "    # Truncate the clause if it's too long\n",
    "    if tokenized_length > max_input_length:\n",
    "        clause = \" \".join(clause.split()[:max_input_length])\n",
    "\n",
    "    # Generate the summary\n",
    "    try:\n",
    "        summary = summarizer(clause, max_length=max_length, min_length=min_length, do_sample=False)[0][\"summary_text\"]\n",
    "    except Exception as e:\n",
    "        return f\"Error generating heading: {str(e)}\"\n",
    "\n",
    "    return summary"
   ],
   "id": "216d748a91f47637",
   "outputs": [],
   "execution_count": 44
  },
  {
   "metadata": {},
   "cell_type": "markdown",
   "source": "### Sanity",
   "id": "e421342187c2760a"
  },
  {
   "metadata": {
    "ExecuteTime": {
     "end_time": "2025-01-05T10:12:11.914673Z",
     "start_time": "2025-01-05T10:12:11.910601Z"
    }
   },
   "cell_type": "code",
   "source": [
    "clauses = [\n",
    "    \"The system shall detect and report any failure in the primary sensor within 10 milliseconds to avoid false readings.\",\n",
    "    \"All redundant control channels must undergo cross-verification every 5 seconds to ensure functional safety and prevent system failure.\",\n",
    "    \"Software components handling safety-critical tasks must log events and errors in compliance with ISO 26262 Part 6, Section 9.\"\n",
    "]"
   ],
   "id": "a807db7cd47771cb",
   "outputs": [],
   "execution_count": 3
  },
  {
   "metadata": {
    "ExecuteTime": {
     "end_time": "2025-01-05T10:35:19.323974Z",
     "start_time": "2025-01-05T10:35:16.061561Z"
    }
   },
   "cell_type": "code",
   "source": "summarizer = pipeline(\"summarization\", model=\"google/pegasus-xsum\")",
   "id": "e3811ede2033ab36",
   "outputs": [
    {
     "name": "stderr",
     "output_type": "stream",
     "text": [
      "Some weights of PegasusForConditionalGeneration were not initialized from the model checkpoint at google/pegasus-xsum and are newly initialized: ['model.decoder.embed_positions.weight', 'model.encoder.embed_positions.weight']\n",
      "You should probably TRAIN this model on a down-stream task to be able to use it for predictions and inference.\n",
      "Device set to use cpu\n"
     ]
    }
   ],
   "execution_count": 42
  },
  {
   "metadata": {
    "ExecuteTime": {
     "end_time": "2025-01-05T10:35:21.080818Z",
     "start_time": "2025-01-05T10:35:20.005172Z"
    }
   },
   "cell_type": "code",
   "source": [
    "heading = generate_clause_heading_pipeline_single(clauses[0], summarizer= summarizer)\n",
    "print(f\"{heading}\")"
   ],
   "id": "2d84abb5d3de454c",
   "outputs": [
    {
     "name": "stdout",
     "output_type": "stream",
     "text": [
      "The purpose of this\n"
     ]
    }
   ],
   "execution_count": 43
  },
  {
   "metadata": {
    "ExecuteTime": {
     "end_time": "2025-01-05T10:12:18.725589Z",
     "start_time": "2025-01-05T10:12:18.661359Z"
    }
   },
   "cell_type": "code",
   "source": "from keybert import KeyBERT",
   "id": "9fa65eb02c7bd5ad",
   "outputs": [],
   "execution_count": 5
  },
  {
   "metadata": {
    "ExecuteTime": {
     "end_time": "2025-01-05T10:12:18.735940Z",
     "start_time": "2025-01-05T10:12:18.731942Z"
    }
   },
   "cell_type": "code",
   "source": [
    "# Function to generate keyword-based heading for a single clause\n",
    "def generate_keyword_heading(clause, num_kw=5, num_kw_to_return=1, kw_model: KeyBERT = None):\n",
    "    \"\"\"\n",
    "    Generate a keyword-based heading for a single clause.\n",
    "    \n",
    "    Args:\n",
    "        clause (str): The clause text.\n",
    "        num_keywords (int): Number of keywords to extract for the heading.\n",
    "        \n",
    "    Returns:\n",
    "        str: A keyword-based heading.\n",
    "    \"\"\"\n",
    "    \n",
    "    keywords = kw_model.extract_keywords(clause, keyphrase_ngram_range=(1, 3), top_n=num_kw)\n",
    "    \n",
    "    keywords_text = \", \".join([kw[0] for kw in keywords[:num_kw_to_return]])  # Join top keywords into a heading\n",
    "    return keywords_text"
   ],
   "id": "c2c64b1958ac702",
   "outputs": [],
   "execution_count": 6
  },
  {
   "metadata": {
    "ExecuteTime": {
     "end_time": "2025-01-05T10:13:33.474506Z",
     "start_time": "2025-01-05T10:13:31.661503Z"
    }
   },
   "cell_type": "code",
   "source": [
    "model = KeyBERT('all-MiniLM-L6-v2')\n",
    "heading = generate_keyword_heading(clauses[0], num_kw=3, num_kw_to_return=1, kw_model=model)\n",
    "print(f\"{heading}\")"
   ],
   "id": "55def7224541bb92",
   "outputs": [
    {
     "name": "stdout",
     "output_type": "stream",
     "text": [
      "failure primary sensor\n"
     ]
    }
   ],
   "execution_count": 11
  },
  {
   "metadata": {},
   "cell_type": "markdown",
   "source": "### Load data",
   "id": "8c8d0019fb9d2035"
  },
  {
   "metadata": {
    "ExecuteTime": {
     "end_time": "2025-01-05T10:13:35.745836Z",
     "start_time": "2025-01-05T10:13:35.741692Z"
    }
   },
   "cell_type": "code",
   "source": "from pathlib import Path",
   "id": "d48f7ccc0698c158",
   "outputs": [],
   "execution_count": 12
  },
  {
   "metadata": {
    "ExecuteTime": {
     "end_time": "2025-01-05T10:13:36.424481Z",
     "start_time": "2025-01-05T10:13:36.420745Z"
    }
   },
   "cell_type": "code",
   "source": "data_dir = Path().cwd().parent.joinpath('data')",
   "id": "47981d6f785032fc",
   "outputs": [],
   "execution_count": 13
  },
  {
   "metadata": {
    "ExecuteTime": {
     "end_time": "2025-01-05T10:13:36.781486Z",
     "start_time": "2025-01-05T10:13:36.777170Z"
    }
   },
   "cell_type": "code",
   "source": "file_path = data_dir.joinpath('output/ISO26262-8_df.csv')",
   "id": "583b948cbdee30ad",
   "outputs": [],
   "execution_count": 14
  },
  {
   "metadata": {
    "ExecuteTime": {
     "end_time": "2025-01-05T10:13:37.478753Z",
     "start_time": "2025-01-05T10:13:37.468213Z"
    }
   },
   "cell_type": "code",
   "source": "df = pd.read_csv(file_path, index_col=0)",
   "id": "78dd0b722367cae7",
   "outputs": [],
   "execution_count": 15
  },
  {
   "metadata": {
    "ExecuteTime": {
     "end_time": "2025-01-05T10:13:38.638221Z",
     "start_time": "2025-01-05T10:13:38.627014Z"
    }
   },
   "cell_type": "code",
   "source": "df.head()",
   "id": "bea9442a29e21edc",
   "outputs": [
    {
     "data": {
      "text/plain": [
       "  Number                      Heading  \\\n",
       "0      1                        Scope   \n",
       "1      2         Normative references   \n",
       "2      3        Terms and definitions   \n",
       "3      4  Requirements for compliance   \n",
       "4    4.1                      Purpose   \n",
       "\n",
       "                                              Clause  \n",
       "0  This document is intended to be applied to saf...  \n",
       "1  The following documents are referred to in the...  \n",
       "2  For the purposes of this document, the terms, ...  \n",
       "3                                                NaN  \n",
       "4  This clause describes how: - a) to achieve com...  "
      ],
      "text/html": [
       "<div>\n",
       "<style scoped>\n",
       "    .dataframe tbody tr th:only-of-type {\n",
       "        vertical-align: middle;\n",
       "    }\n",
       "\n",
       "    .dataframe tbody tr th {\n",
       "        vertical-align: top;\n",
       "    }\n",
       "\n",
       "    .dataframe thead th {\n",
       "        text-align: right;\n",
       "    }\n",
       "</style>\n",
       "<table border=\"1\" class=\"dataframe\">\n",
       "  <thead>\n",
       "    <tr style=\"text-align: right;\">\n",
       "      <th></th>\n",
       "      <th>Number</th>\n",
       "      <th>Heading</th>\n",
       "      <th>Clause</th>\n",
       "    </tr>\n",
       "  </thead>\n",
       "  <tbody>\n",
       "    <tr>\n",
       "      <th>0</th>\n",
       "      <td>1</td>\n",
       "      <td>Scope</td>\n",
       "      <td>This document is intended to be applied to saf...</td>\n",
       "    </tr>\n",
       "    <tr>\n",
       "      <th>1</th>\n",
       "      <td>2</td>\n",
       "      <td>Normative references</td>\n",
       "      <td>The following documents are referred to in the...</td>\n",
       "    </tr>\n",
       "    <tr>\n",
       "      <th>2</th>\n",
       "      <td>3</td>\n",
       "      <td>Terms and definitions</td>\n",
       "      <td>For the purposes of this document, the terms, ...</td>\n",
       "    </tr>\n",
       "    <tr>\n",
       "      <th>3</th>\n",
       "      <td>4</td>\n",
       "      <td>Requirements for compliance</td>\n",
       "      <td>NaN</td>\n",
       "    </tr>\n",
       "    <tr>\n",
       "      <th>4</th>\n",
       "      <td>4.1</td>\n",
       "      <td>Purpose</td>\n",
       "      <td>This clause describes how: - a) to achieve com...</td>\n",
       "    </tr>\n",
       "  </tbody>\n",
       "</table>\n",
       "</div>"
      ]
     },
     "execution_count": 16,
     "metadata": {},
     "output_type": "execute_result"
    }
   ],
   "execution_count": 16
  },
  {
   "metadata": {
    "ExecuteTime": {
     "end_time": "2025-01-05T10:13:42.337518Z",
     "start_time": "2025-01-05T10:13:42.332574Z"
    }
   },
   "cell_type": "code",
   "source": "df.shape",
   "id": "c1c93090da500c89",
   "outputs": [
    {
     "data": {
      "text/plain": [
       "(139, 3)"
      ]
     },
     "execution_count": 17,
     "metadata": {},
     "output_type": "execute_result"
    }
   ],
   "execution_count": 17
  },
  {
   "metadata": {},
   "cell_type": "markdown",
   "source": "## Generate headings",
   "id": "73acad840c4525e9"
  },
  {
   "metadata": {
    "ExecuteTime": {
     "end_time": "2025-01-05T10:26:14.934972Z",
     "start_time": "2025-01-05T10:26:14.930975Z"
    }
   },
   "cell_type": "code",
   "source": "df[\"Clause\"] = df[\"Clause\"].fillna(\"\")",
   "id": "f5f6daf7fca92a5a",
   "outputs": [],
   "execution_count": 31
  },
  {
   "metadata": {},
   "cell_type": "markdown",
   "source": "### keybert",
   "id": "55ca1c6f8d0d703f"
  },
  {
   "metadata": {
    "ExecuteTime": {
     "end_time": "2025-01-05T10:26:19.087325Z",
     "start_time": "2025-01-05T10:26:17.237766Z"
    }
   },
   "cell_type": "code",
   "source": "kw_model = KeyBERT('all-MiniLM-L6-v2')",
   "id": "37ca1f69985201b0",
   "outputs": [],
   "execution_count": 32
  },
  {
   "metadata": {
    "ExecuteTime": {
     "end_time": "2025-01-05T10:26:19.093898Z",
     "start_time": "2025-01-05T10:26:19.090619Z"
    }
   },
   "cell_type": "code",
   "source": "tqdm.pandas()",
   "id": "43cbb71271a4a011",
   "outputs": [],
   "execution_count": 33
  },
  {
   "metadata": {
    "ExecuteTime": {
     "end_time": "2025-01-05T10:26:47.831840Z",
     "start_time": "2025-01-05T10:26:19.103704Z"
    }
   },
   "cell_type": "code",
   "source": "df[\"Keybert-all-MiniLM-L6-v2\"] = df[\"Clause\"].progress_apply(lambda clause: generate_keyword_heading(str(clause), kw_model=kw_model))",
   "id": "2044b98eeba2dc73",
   "outputs": [
    {
     "name": "stderr",
     "output_type": "stream",
     "text": [
      "100%|██████████| 139/139 [00:28<00:00,  4.84it/s]\n"
     ]
    }
   ],
   "execution_count": 34
  },
  {
   "metadata": {
    "ExecuteTime": {
     "end_time": "2025-01-05T10:26:47.849961Z",
     "start_time": "2025-01-05T10:26:47.842915Z"
    }
   },
   "cell_type": "code",
   "source": "df.head()",
   "id": "94afc7e95e8b6e24",
   "outputs": [
    {
     "data": {
      "text/plain": [
       "  Number                      Heading  \\\n",
       "0      1                        Scope   \n",
       "1      2         Normative references   \n",
       "2      3        Terms and definitions   \n",
       "3      4  Requirements for compliance   \n",
       "4    4.1                      Purpose   \n",
       "\n",
       "                                              Clause  \\\n",
       "0  This document is intended to be applied to saf...   \n",
       "1  The following documents are referred to in the...   \n",
       "2  For the purposes of this document, the terms, ...   \n",
       "3                                                      \n",
       "4  This clause describes how: - a) to achieve com...   \n",
       "\n",
       "       Keybert-all-MiniLM-L6-v2  \n",
       "0        safety related systems  \n",
       "1  functional safety automotive  \n",
       "2   iec maintain terminological  \n",
       "3                                \n",
       "4          compliance iso 26262  "
      ],
      "text/html": [
       "<div>\n",
       "<style scoped>\n",
       "    .dataframe tbody tr th:only-of-type {\n",
       "        vertical-align: middle;\n",
       "    }\n",
       "\n",
       "    .dataframe tbody tr th {\n",
       "        vertical-align: top;\n",
       "    }\n",
       "\n",
       "    .dataframe thead th {\n",
       "        text-align: right;\n",
       "    }\n",
       "</style>\n",
       "<table border=\"1\" class=\"dataframe\">\n",
       "  <thead>\n",
       "    <tr style=\"text-align: right;\">\n",
       "      <th></th>\n",
       "      <th>Number</th>\n",
       "      <th>Heading</th>\n",
       "      <th>Clause</th>\n",
       "      <th>Keybert-all-MiniLM-L6-v2</th>\n",
       "    </tr>\n",
       "  </thead>\n",
       "  <tbody>\n",
       "    <tr>\n",
       "      <th>0</th>\n",
       "      <td>1</td>\n",
       "      <td>Scope</td>\n",
       "      <td>This document is intended to be applied to saf...</td>\n",
       "      <td>safety related systems</td>\n",
       "    </tr>\n",
       "    <tr>\n",
       "      <th>1</th>\n",
       "      <td>2</td>\n",
       "      <td>Normative references</td>\n",
       "      <td>The following documents are referred to in the...</td>\n",
       "      <td>functional safety automotive</td>\n",
       "    </tr>\n",
       "    <tr>\n",
       "      <th>2</th>\n",
       "      <td>3</td>\n",
       "      <td>Terms and definitions</td>\n",
       "      <td>For the purposes of this document, the terms, ...</td>\n",
       "      <td>iec maintain terminological</td>\n",
       "    </tr>\n",
       "    <tr>\n",
       "      <th>3</th>\n",
       "      <td>4</td>\n",
       "      <td>Requirements for compliance</td>\n",
       "      <td></td>\n",
       "      <td></td>\n",
       "    </tr>\n",
       "    <tr>\n",
       "      <th>4</th>\n",
       "      <td>4.1</td>\n",
       "      <td>Purpose</td>\n",
       "      <td>This clause describes how: - a) to achieve com...</td>\n",
       "      <td>compliance iso 26262</td>\n",
       "    </tr>\n",
       "  </tbody>\n",
       "</table>\n",
       "</div>"
      ]
     },
     "execution_count": 35,
     "metadata": {},
     "output_type": "execute_result"
    }
   ],
   "execution_count": 35
  },
  {
   "metadata": {},
   "cell_type": "markdown",
   "source": "### pegasus",
   "id": "1cab958c12c41318"
  },
  {
   "metadata": {
    "ExecuteTime": {
     "end_time": "2025-01-05T11:11:47.879190Z",
     "start_time": "2025-01-05T11:11:44.132367Z"
    }
   },
   "cell_type": "code",
   "source": "pegasus_summarizer = pipeline(\"summarization\", model=\"google/pegasus-xsum\")",
   "id": "550ea70670bfdaf9",
   "outputs": [
    {
     "name": "stderr",
     "output_type": "stream",
     "text": [
      "Some weights of PegasusForConditionalGeneration were not initialized from the model checkpoint at google/pegasus-xsum and are newly initialized: ['model.decoder.embed_positions.weight', 'model.encoder.embed_positions.weight']\n",
      "You should probably TRAIN this model on a down-stream task to be able to use it for predictions and inference.\n",
      "Device set to use cpu\n"
     ]
    }
   ],
   "execution_count": 51
  },
  {
   "metadata": {
    "ExecuteTime": {
     "end_time": "2025-01-05T10:39:40.444271Z",
     "start_time": "2025-01-05T10:36:13.215661Z"
    }
   },
   "cell_type": "code",
   "source": "df[\"summarizer-pegasus-xsum\"] = df[\"Clause\"].progress_apply(lambda clause: generate_clause_heading_pipeline_single(clause, pegasus_summarizer, max_length=20, min_length=1))",
   "id": "b9062a18c8fa5992",
   "outputs": [
    {
     "name": "stderr",
     "output_type": "stream",
     "text": [
      "  3%|▎         | 4/139 [00:06<03:38,  1.62s/it]Your max_length is set to 10, but your input_length is only 1. Since this is a summarization task, where outputs shorter than the input are typically wanted, you might consider decreasing max_length manually, e.g. summarizer('...', max_length=0)\n",
      " 76%|███████▌  | 105/139 [02:56<00:47,  1.41s/it]Your max_length is set to 10, but your input_length is only 3. Since this is a summarization task, where outputs shorter than the input are typically wanted, you might consider decreasing max_length manually, e.g. summarizer('...', max_length=1)\n",
      " 81%|████████▏ | 113/139 [03:04<00:23,  1.11it/s]Your max_length is set to 10, but your input_length is only 3. Since this is a summarization task, where outputs shorter than the input are typically wanted, you might consider decreasing max_length manually, e.g. summarizer('...', max_length=1)\n",
      "100%|██████████| 139/139 [03:27<00:00,  1.49s/it]\n"
     ]
    }
   ],
   "execution_count": 45
  },
  {
   "metadata": {
    "ExecuteTime": {
     "end_time": "2025-01-05T11:08:01.168454Z",
     "start_time": "2025-01-05T11:08:01.161270Z"
    }
   },
   "cell_type": "code",
   "source": "df.head(20)",
   "id": "b9c13bae95a4be67",
   "outputs": [
    {
     "data": {
      "text/plain": [
       "    Number                                            Heading  \\\n",
       "0        1                                              Scope   \n",
       "1        2                               Normative references   \n",
       "2        3                              Terms and definitions   \n",
       "3        4                        Requirements for compliance   \n",
       "4      4.1                                            Purpose   \n",
       "5      4.2                               General requirements   \n",
       "6      4.3                          Interpretations of tables   \n",
       "7      4.4    ASIL-dependent requirements and recommendations   \n",
       "8      4.5                         Adaptation for motorcycles   \n",
       "9      4.6  Adaptation for trucks, buses, trailers and sem...   \n",
       "10       5         Interfaces within distributed developments   \n",
       "11     5.1                                         Objectives   \n",
       "12     5.2                                            General   \n",
       "13      12               Qualification of software components   \n",
       "14    12.1                                         Objectives   \n",
       "15    12.2                                            General   \n",
       "16    12.3                              Inputs to this clause   \n",
       "17  12.3.1                                      Prerequisites   \n",
       "18  12.3.2                     Further supporting information   \n",
       "19    12.4                   Requirements and recommendations   \n",
       "\n",
       "                                               Clause  \\\n",
       "0   This document is intended to be applied to saf...   \n",
       "1   The following documents are referred to in the...   \n",
       "2   For the purposes of this document, the terms, ...   \n",
       "3                                                       \n",
       "4   This clause describes how: - a) to achieve com...   \n",
       "5   When claiming compliance with the ISO 26262 se...   \n",
       "6   Tables are normative or informative depending ...   \n",
       "7   The requirements or recommendations of each su...   \n",
       "8   For items or elements of motorcycles for which...   \n",
       "9   Content that is intended to be unique for truc...   \n",
       "10                                                      \n",
       "11  The objectives of this clause are: - a) to def...   \n",
       "12  The customer (e.g. vehicle manufacturer) and t...   \n",
       "13                                                      \n",
       "14  The objective of the qualification of software...   \n",
       "15  The use of qualified software components avoid...   \n",
       "16                                                      \n",
       "17  The following information shall be available: ...   \n",
       "18  The following information can be considered: -...   \n",
       "19                                                      \n",
       "\n",
       "                Keybert-all-MiniLM-L6-v2  \\\n",
       "0                 safety related systems   \n",
       "1           functional safety automotive   \n",
       "2            iec maintain terminological   \n",
       "3                                          \n",
       "4                   compliance iso 26262   \n",
       "5                   compliance iso 26262   \n",
       "6                   table methods listed   \n",
       "7                 asil given parentheses   \n",
       "8           motorcycles requirements iso   \n",
       "9                  trucks buses trailers   \n",
       "10                                         \n",
       "11              objectives clause define   \n",
       "12  developments supplier responsibility   \n",
       "13                                         \n",
       "14     qualification software components   \n",
       "15             software automotive spice   \n",
       "16                                         \n",
       "17          functional safety accordance   \n",
       "18           measures software component   \n",
       "19                                         \n",
       "\n",
       "                              summerizer-pegasus-xsum  \n",
       "0                 This document is part of the ISO 26  \n",
       "1              ISO 26262-1 Road vehicles - Functional  \n",
       "2   The International Electrotechnical Commission ...  \n",
       "3         A selection of photos from around the world  \n",
       "4                     This clause describes how: - a)  \n",
       "5                  ISO 26262 is a series of standards  \n",
       "6   The following table lists the recommended meth...  \n",
       "7                            ISO 26262-9:2018, Clause  \n",
       "8   This document has been prepared in accordance ...  \n",
       "9               The following content is copyrighted.  \n",
       "10        A selection of photos from around the world  \n",
       "11       This clause is part of the agreement between  \n",
       "12              The ISO 26262 series of standards for  \n",
       "13        A selection of photos from around the world  \n",
       "14          The European Commission (EC) has launched  \n",
       "15    The use of qualified software components in the  \n",
       "16        A selection of photos from around the world  \n",
       "17      The following information shall be available:  \n",
       "18       The following information can be considered:  \n",
       "19        A selection of photos from around the world  "
      ],
      "text/html": [
       "<div>\n",
       "<style scoped>\n",
       "    .dataframe tbody tr th:only-of-type {\n",
       "        vertical-align: middle;\n",
       "    }\n",
       "\n",
       "    .dataframe tbody tr th {\n",
       "        vertical-align: top;\n",
       "    }\n",
       "\n",
       "    .dataframe thead th {\n",
       "        text-align: right;\n",
       "    }\n",
       "</style>\n",
       "<table border=\"1\" class=\"dataframe\">\n",
       "  <thead>\n",
       "    <tr style=\"text-align: right;\">\n",
       "      <th></th>\n",
       "      <th>Number</th>\n",
       "      <th>Heading</th>\n",
       "      <th>Clause</th>\n",
       "      <th>Keybert-all-MiniLM-L6-v2</th>\n",
       "      <th>summerizer-pegasus-xsum</th>\n",
       "    </tr>\n",
       "  </thead>\n",
       "  <tbody>\n",
       "    <tr>\n",
       "      <th>0</th>\n",
       "      <td>1</td>\n",
       "      <td>Scope</td>\n",
       "      <td>This document is intended to be applied to saf...</td>\n",
       "      <td>safety related systems</td>\n",
       "      <td>This document is part of the ISO 26</td>\n",
       "    </tr>\n",
       "    <tr>\n",
       "      <th>1</th>\n",
       "      <td>2</td>\n",
       "      <td>Normative references</td>\n",
       "      <td>The following documents are referred to in the...</td>\n",
       "      <td>functional safety automotive</td>\n",
       "      <td>ISO 26262-1 Road vehicles - Functional</td>\n",
       "    </tr>\n",
       "    <tr>\n",
       "      <th>2</th>\n",
       "      <td>3</td>\n",
       "      <td>Terms and definitions</td>\n",
       "      <td>For the purposes of this document, the terms, ...</td>\n",
       "      <td>iec maintain terminological</td>\n",
       "      <td>The International Electrotechnical Commission ...</td>\n",
       "    </tr>\n",
       "    <tr>\n",
       "      <th>3</th>\n",
       "      <td>4</td>\n",
       "      <td>Requirements for compliance</td>\n",
       "      <td></td>\n",
       "      <td></td>\n",
       "      <td>A selection of photos from around the world</td>\n",
       "    </tr>\n",
       "    <tr>\n",
       "      <th>4</th>\n",
       "      <td>4.1</td>\n",
       "      <td>Purpose</td>\n",
       "      <td>This clause describes how: - a) to achieve com...</td>\n",
       "      <td>compliance iso 26262</td>\n",
       "      <td>This clause describes how: - a)</td>\n",
       "    </tr>\n",
       "    <tr>\n",
       "      <th>5</th>\n",
       "      <td>4.2</td>\n",
       "      <td>General requirements</td>\n",
       "      <td>When claiming compliance with the ISO 26262 se...</td>\n",
       "      <td>compliance iso 26262</td>\n",
       "      <td>ISO 26262 is a series of standards</td>\n",
       "    </tr>\n",
       "    <tr>\n",
       "      <th>6</th>\n",
       "      <td>4.3</td>\n",
       "      <td>Interpretations of tables</td>\n",
       "      <td>Tables are normative or informative depending ...</td>\n",
       "      <td>table methods listed</td>\n",
       "      <td>The following table lists the recommended meth...</td>\n",
       "    </tr>\n",
       "    <tr>\n",
       "      <th>7</th>\n",
       "      <td>4.4</td>\n",
       "      <td>ASIL-dependent requirements and recommendations</td>\n",
       "      <td>The requirements or recommendations of each su...</td>\n",
       "      <td>asil given parentheses</td>\n",
       "      <td>ISO 26262-9:2018, Clause</td>\n",
       "    </tr>\n",
       "    <tr>\n",
       "      <th>8</th>\n",
       "      <td>4.5</td>\n",
       "      <td>Adaptation for motorcycles</td>\n",
       "      <td>For items or elements of motorcycles for which...</td>\n",
       "      <td>motorcycles requirements iso</td>\n",
       "      <td>This document has been prepared in accordance ...</td>\n",
       "    </tr>\n",
       "    <tr>\n",
       "      <th>9</th>\n",
       "      <td>4.6</td>\n",
       "      <td>Adaptation for trucks, buses, trailers and sem...</td>\n",
       "      <td>Content that is intended to be unique for truc...</td>\n",
       "      <td>trucks buses trailers</td>\n",
       "      <td>The following content is copyrighted.</td>\n",
       "    </tr>\n",
       "    <tr>\n",
       "      <th>10</th>\n",
       "      <td>5</td>\n",
       "      <td>Interfaces within distributed developments</td>\n",
       "      <td></td>\n",
       "      <td></td>\n",
       "      <td>A selection of photos from around the world</td>\n",
       "    </tr>\n",
       "    <tr>\n",
       "      <th>11</th>\n",
       "      <td>5.1</td>\n",
       "      <td>Objectives</td>\n",
       "      <td>The objectives of this clause are: - a) to def...</td>\n",
       "      <td>objectives clause define</td>\n",
       "      <td>This clause is part of the agreement between</td>\n",
       "    </tr>\n",
       "    <tr>\n",
       "      <th>12</th>\n",
       "      <td>5.2</td>\n",
       "      <td>General</td>\n",
       "      <td>The customer (e.g. vehicle manufacturer) and t...</td>\n",
       "      <td>developments supplier responsibility</td>\n",
       "      <td>The ISO 26262 series of standards for</td>\n",
       "    </tr>\n",
       "    <tr>\n",
       "      <th>13</th>\n",
       "      <td>12</td>\n",
       "      <td>Qualification of software components</td>\n",
       "      <td></td>\n",
       "      <td></td>\n",
       "      <td>A selection of photos from around the world</td>\n",
       "    </tr>\n",
       "    <tr>\n",
       "      <th>14</th>\n",
       "      <td>12.1</td>\n",
       "      <td>Objectives</td>\n",
       "      <td>The objective of the qualification of software...</td>\n",
       "      <td>qualification software components</td>\n",
       "      <td>The European Commission (EC) has launched</td>\n",
       "    </tr>\n",
       "    <tr>\n",
       "      <th>15</th>\n",
       "      <td>12.2</td>\n",
       "      <td>General</td>\n",
       "      <td>The use of qualified software components avoid...</td>\n",
       "      <td>software automotive spice</td>\n",
       "      <td>The use of qualified software components in the</td>\n",
       "    </tr>\n",
       "    <tr>\n",
       "      <th>16</th>\n",
       "      <td>12.3</td>\n",
       "      <td>Inputs to this clause</td>\n",
       "      <td></td>\n",
       "      <td></td>\n",
       "      <td>A selection of photos from around the world</td>\n",
       "    </tr>\n",
       "    <tr>\n",
       "      <th>17</th>\n",
       "      <td>12.3.1</td>\n",
       "      <td>Prerequisites</td>\n",
       "      <td>The following information shall be available: ...</td>\n",
       "      <td>functional safety accordance</td>\n",
       "      <td>The following information shall be available:</td>\n",
       "    </tr>\n",
       "    <tr>\n",
       "      <th>18</th>\n",
       "      <td>12.3.2</td>\n",
       "      <td>Further supporting information</td>\n",
       "      <td>The following information can be considered: -...</td>\n",
       "      <td>measures software component</td>\n",
       "      <td>The following information can be considered:</td>\n",
       "    </tr>\n",
       "    <tr>\n",
       "      <th>19</th>\n",
       "      <td>12.4</td>\n",
       "      <td>Requirements and recommendations</td>\n",
       "      <td></td>\n",
       "      <td></td>\n",
       "      <td>A selection of photos from around the world</td>\n",
       "    </tr>\n",
       "  </tbody>\n",
       "</table>\n",
       "</div>"
      ]
     },
     "execution_count": 47,
     "metadata": {},
     "output_type": "execute_result"
    }
   ],
   "execution_count": 47
  },
  {
   "metadata": {},
   "cell_type": "markdown",
   "source": "### T5",
   "id": "fc42b9fc206f7940"
  },
  {
   "metadata": {
    "ExecuteTime": {
     "end_time": "2025-01-05T11:11:10.930925Z",
     "start_time": "2025-01-05T11:11:10.409134Z"
    }
   },
   "cell_type": "code",
   "source": "t5_summarizer = pipeline(\"summarization\", model=\"t5-small\", tokenizer=\"t5-small\")",
   "id": "3c9108a42664f3b",
   "outputs": [
    {
     "name": "stderr",
     "output_type": "stream",
     "text": [
      "Device set to use cpu\n"
     ]
    }
   ],
   "execution_count": 50
  },
  {
   "metadata": {
    "ExecuteTime": {
     "end_time": "2025-01-05T11:12:41.377710Z",
     "start_time": "2025-01-05T11:12:12.942265Z"
    }
   },
   "cell_type": "code",
   "source": "df[\"summarizer-t5-small\"] = df[\"Clause\"].progress_apply(lambda clause: generate_clause_heading_pipeline_single(clause, t5_summarizer, max_length=10, min_length=1))",
   "id": "d422bdb625caba37",
   "outputs": [
    {
     "name": "stderr",
     "output_type": "stream",
     "text": [
      "  3%|▎         | 4/139 [00:01<00:40,  3.35it/s]Your max_length is set to 10, but your input_length is only 3. Since this is a summarization task, where outputs shorter than the input are typically wanted, you might consider decreasing max_length manually, e.g. summarizer('...', max_length=1)\n",
      " 53%|█████▎    | 74/139 [00:14<00:09,  6.51it/s]Token indices sequence length is longer than the specified maximum sequence length for this model (541 > 512). Running this sequence through the model will result in indexing errors\n",
      " 76%|███████▌  | 105/139 [00:20<00:08,  4.03it/s]Your max_length is set to 10, but your input_length is only 5. Since this is a summarization task, where outputs shorter than the input are typically wanted, you might consider decreasing max_length manually, e.g. summarizer('...', max_length=2)\n",
      " 81%|████████▏ | 113/139 [00:21<00:04,  6.44it/s]Your max_length is set to 10, but your input_length is only 5. Since this is a summarization task, where outputs shorter than the input are typically wanted, you might consider decreasing max_length manually, e.g. summarizer('...', max_length=2)\n",
      "100%|██████████| 139/139 [00:28<00:00,  4.89it/s]\n"
     ]
    }
   ],
   "execution_count": 52
  },
  {
   "metadata": {
    "ExecuteTime": {
     "end_time": "2025-01-05T12:12:31.910336Z",
     "start_time": "2025-01-05T12:12:31.898490Z"
    }
   },
   "cell_type": "code",
   "source": "df.iloc[90:110]",
   "id": "69576dee6d24a78a",
   "outputs": [
    {
     "data": {
      "text/plain": [
       "         Number                                            Heading  \\\n",
       "90     14.4.4.2  Modifications to items introduced for a future...   \n",
       "91     14.4.4.3  Modifications to elements introduced for a fut...   \n",
       "92     14.4.4.4  Modifications to candidate independent of futu...   \n",
       "93       14.4.5                             Analysis of field data   \n",
       "94     14.4.5.1     Configuration management and change management   \n",
       "95     14.4.5.2                    Target values for proven in use   \n",
       "96   14.4.5.2.1                                                NaN   \n",
       "97   14.4.5.2.2                                                NaN   \n",
       "98   14.4.5.2.3                                                NaN   \n",
       "99   14.4.5.2.4                                                NaN   \n",
       "100  14.4.5.2.5                                                NaN   \n",
       "101  14.4.5.2.6                                                NaN   \n",
       "102  14.4.5.2.7                                                NaN   \n",
       "103    14.4.5.3                                                NaN   \n",
       "104        14.5                                                NaN   \n",
       "105      14.5.1                                                NaN   \n",
       "106      14.5.2                                                NaN   \n",
       "107          15  Interfacing an application that is out of scop...   \n",
       "108        15.1                                         Objectives   \n",
       "109        15.2                                            General   \n",
       "\n",
       "                                                Clause  \\\n",
       "90   Modifications to items and their environment i...   \n",
       "91   Modifications to elements and their environmen...   \n",
       "92   Modifications to a candidate introduced after ...   \n",
       "93                                                       \n",
       "94   Evidence shall be provided that the candidate ...   \n",
       "95   NOTE When any ASIL is not yet assigned to the ...   \n",
       "96   The rationale for the calculation of the evalu...   \n",
       "97   The evaluation period of the candidate shall r...   \n",
       "98   The observation period of each specimen with t...   \n",
       "99   For a proven in use status to be obtained by t...   \n",
       "100  The application of the proven in use credit ma...   \n",
       "101  In the case of any observed incident in the fi...   \n",
       "102  In the case of a candidate with a non-constant...   \n",
       "103  Field problems The problem reporting system sh...   \n",
       "104                                      Work products   \n",
       "105  Description of candidate for proven in use arg...   \n",
       "106  Proven in use analysis reports resulting from ...   \n",
       "107                                                      \n",
       "108  This clause applies to T&B, where the objectiv...   \n",
       "109  The application of this clause is intended for...   \n",
       "\n",
       "               Keybert-all-MiniLM-L6-v2  \\\n",
       "90                     comply iso 26262   \n",
       "91   modifications elements environment   \n",
       "92   modifications candidate introduced   \n",
       "93                                        \n",
       "94         candidate kept configuration   \n",
       "95              asil assigned candidate   \n",
       "96          evaluation period candidate   \n",
       "97         observation period specimens   \n",
       "98               vehicle operating time   \n",
       "99             observable incident rate   \n",
       "100                    incident rate 10   \n",
       "101             cause observed incident   \n",
       "102               constant failure rate   \n",
       "103             problem reporting shall   \n",
       "104                       work products   \n",
       "105                candidate proven use   \n",
       "106                 proven use analysis   \n",
       "107                                       \n",
       "108                     scope iso 26262   \n",
       "109                 according iso 26262   \n",
       "\n",
       "                               summerizer-pegasus-xsum  \\\n",
       "90   Changes to items and their environment introdu...   \n",
       "91   Changes to elements or their environment intro...   \n",
       "92                 The European Medicines Agency (EMA)   \n",
       "93         A selection of photos from around the world   \n",
       "94        The candidate will be evaluated on the basis   \n",
       "95              The following table lists all the ASIL   \n",
       "96      The evaluation period of the candidate will be   \n",
       "97     The evaluation period of the candidate shall be   \n",
       "98        The evaluation period of a candidate for the   \n",
       "99       The minimum evaluation period for a proven in   \n",
       "100              A proven in use credit may be awarded   \n",
       "101            In the case of any observed incident in   \n",
       "102   Candidates with a constant failure rate shall be   \n",
       "103  Field problems The problem reporting system sh...   \n",
       "104                        All images are copyrighted.   \n",
       "105  Description of candidate for proven in use arg...   \n",
       "106  Proven in use analysis reports and requirement...   \n",
       "107        A selection of photos from around the world   \n",
       "108      ISO 26262 covers the development, manufacture   \n",
       "109  This clause applies to items developed accordi...   \n",
       "\n",
       "                                   summerizer-t5-small  \n",
       "90                             ISO 26262-2:2018, 6.4.3  \n",
       "91                             ISO 26262-2:2018, 6.4.4  \n",
       "92            the proven in use status remains valid .  \n",
       "93                                                      \n",
       "94   evidence will be provided that the candidate h...  \n",
       "95           ASIL D target is selected conservatively   \n",
       "96   the rationale for the calculation of the evalu...  \n",
       "97   the evaluation period of the candidate shall r...  \n",
       "98   the observation period of each specimen with t...  \n",
       "99             a proven in use status must be obtained  \n",
       "100  proven in use credit may be anticipated provis...  \n",
       "101        in the case of any observed incident in the  \n",
       "102                        a candidate with a non-cons  \n",
       "103  problem reporting system ensures that any obse...  \n",
       "104                                      work products  \n",
       "105  candidate for proven in use argument resulting...  \n",
       "106                    requirements 14.4.4 to 14.4.5 .  \n",
       "107                                                     \n",
       "108                  this clause applies to T&B, where  \n",
       "109  application of this clause is intended for com...  "
      ],
      "text/html": [
       "<div>\n",
       "<style scoped>\n",
       "    .dataframe tbody tr th:only-of-type {\n",
       "        vertical-align: middle;\n",
       "    }\n",
       "\n",
       "    .dataframe tbody tr th {\n",
       "        vertical-align: top;\n",
       "    }\n",
       "\n",
       "    .dataframe thead th {\n",
       "        text-align: right;\n",
       "    }\n",
       "</style>\n",
       "<table border=\"1\" class=\"dataframe\">\n",
       "  <thead>\n",
       "    <tr style=\"text-align: right;\">\n",
       "      <th></th>\n",
       "      <th>Number</th>\n",
       "      <th>Heading</th>\n",
       "      <th>Clause</th>\n",
       "      <th>Keybert-all-MiniLM-L6-v2</th>\n",
       "      <th>summerizer-pegasus-xsum</th>\n",
       "      <th>summerizer-t5-small</th>\n",
       "    </tr>\n",
       "  </thead>\n",
       "  <tbody>\n",
       "    <tr>\n",
       "      <th>90</th>\n",
       "      <td>14.4.4.2</td>\n",
       "      <td>Modifications to items introduced for a future...</td>\n",
       "      <td>Modifications to items and their environment i...</td>\n",
       "      <td>comply iso 26262</td>\n",
       "      <td>Changes to items and their environment introdu...</td>\n",
       "      <td>ISO 26262-2:2018, 6.4.3</td>\n",
       "    </tr>\n",
       "    <tr>\n",
       "      <th>91</th>\n",
       "      <td>14.4.4.3</td>\n",
       "      <td>Modifications to elements introduced for a fut...</td>\n",
       "      <td>Modifications to elements and their environmen...</td>\n",
       "      <td>modifications elements environment</td>\n",
       "      <td>Changes to elements or their environment intro...</td>\n",
       "      <td>ISO 26262-2:2018, 6.4.4</td>\n",
       "    </tr>\n",
       "    <tr>\n",
       "      <th>92</th>\n",
       "      <td>14.4.4.4</td>\n",
       "      <td>Modifications to candidate independent of futu...</td>\n",
       "      <td>Modifications to a candidate introduced after ...</td>\n",
       "      <td>modifications candidate introduced</td>\n",
       "      <td>The European Medicines Agency (EMA)</td>\n",
       "      <td>the proven in use status remains valid .</td>\n",
       "    </tr>\n",
       "    <tr>\n",
       "      <th>93</th>\n",
       "      <td>14.4.5</td>\n",
       "      <td>Analysis of field data</td>\n",
       "      <td></td>\n",
       "      <td></td>\n",
       "      <td>A selection of photos from around the world</td>\n",
       "      <td></td>\n",
       "    </tr>\n",
       "    <tr>\n",
       "      <th>94</th>\n",
       "      <td>14.4.5.1</td>\n",
       "      <td>Configuration management and change management</td>\n",
       "      <td>Evidence shall be provided that the candidate ...</td>\n",
       "      <td>candidate kept configuration</td>\n",
       "      <td>The candidate will be evaluated on the basis</td>\n",
       "      <td>evidence will be provided that the candidate h...</td>\n",
       "    </tr>\n",
       "    <tr>\n",
       "      <th>95</th>\n",
       "      <td>14.4.5.2</td>\n",
       "      <td>Target values for proven in use</td>\n",
       "      <td>NOTE When any ASIL is not yet assigned to the ...</td>\n",
       "      <td>asil assigned candidate</td>\n",
       "      <td>The following table lists all the ASIL</td>\n",
       "      <td>ASIL D target is selected conservatively</td>\n",
       "    </tr>\n",
       "    <tr>\n",
       "      <th>96</th>\n",
       "      <td>14.4.5.2.1</td>\n",
       "      <td>NaN</td>\n",
       "      <td>The rationale for the calculation of the evalu...</td>\n",
       "      <td>evaluation period candidate</td>\n",
       "      <td>The evaluation period of the candidate will be</td>\n",
       "      <td>the rationale for the calculation of the evalu...</td>\n",
       "    </tr>\n",
       "    <tr>\n",
       "      <th>97</th>\n",
       "      <td>14.4.5.2.2</td>\n",
       "      <td>NaN</td>\n",
       "      <td>The evaluation period of the candidate shall r...</td>\n",
       "      <td>observation period specimens</td>\n",
       "      <td>The evaluation period of the candidate shall be</td>\n",
       "      <td>the evaluation period of the candidate shall r...</td>\n",
       "    </tr>\n",
       "    <tr>\n",
       "      <th>98</th>\n",
       "      <td>14.4.5.2.3</td>\n",
       "      <td>NaN</td>\n",
       "      <td>The observation period of each specimen with t...</td>\n",
       "      <td>vehicle operating time</td>\n",
       "      <td>The evaluation period of a candidate for the</td>\n",
       "      <td>the observation period of each specimen with t...</td>\n",
       "    </tr>\n",
       "    <tr>\n",
       "      <th>99</th>\n",
       "      <td>14.4.5.2.4</td>\n",
       "      <td>NaN</td>\n",
       "      <td>For a proven in use status to be obtained by t...</td>\n",
       "      <td>observable incident rate</td>\n",
       "      <td>The minimum evaluation period for a proven in</td>\n",
       "      <td>a proven in use status must be obtained</td>\n",
       "    </tr>\n",
       "    <tr>\n",
       "      <th>100</th>\n",
       "      <td>14.4.5.2.5</td>\n",
       "      <td>NaN</td>\n",
       "      <td>The application of the proven in use credit ma...</td>\n",
       "      <td>incident rate 10</td>\n",
       "      <td>A proven in use credit may be awarded</td>\n",
       "      <td>proven in use credit may be anticipated provis...</td>\n",
       "    </tr>\n",
       "    <tr>\n",
       "      <th>101</th>\n",
       "      <td>14.4.5.2.6</td>\n",
       "      <td>NaN</td>\n",
       "      <td>In the case of any observed incident in the fi...</td>\n",
       "      <td>cause observed incident</td>\n",
       "      <td>In the case of any observed incident in</td>\n",
       "      <td>in the case of any observed incident in the</td>\n",
       "    </tr>\n",
       "    <tr>\n",
       "      <th>102</th>\n",
       "      <td>14.4.5.2.7</td>\n",
       "      <td>NaN</td>\n",
       "      <td>In the case of a candidate with a non-constant...</td>\n",
       "      <td>constant failure rate</td>\n",
       "      <td>Candidates with a constant failure rate shall be</td>\n",
       "      <td>a candidate with a non-cons</td>\n",
       "    </tr>\n",
       "    <tr>\n",
       "      <th>103</th>\n",
       "      <td>14.4.5.3</td>\n",
       "      <td>NaN</td>\n",
       "      <td>Field problems The problem reporting system sh...</td>\n",
       "      <td>problem reporting shall</td>\n",
       "      <td>Field problems The problem reporting system sh...</td>\n",
       "      <td>problem reporting system ensures that any obse...</td>\n",
       "    </tr>\n",
       "    <tr>\n",
       "      <th>104</th>\n",
       "      <td>14.5</td>\n",
       "      <td>NaN</td>\n",
       "      <td>Work products</td>\n",
       "      <td>work products</td>\n",
       "      <td>All images are copyrighted.</td>\n",
       "      <td>work products</td>\n",
       "    </tr>\n",
       "    <tr>\n",
       "      <th>105</th>\n",
       "      <td>14.5.1</td>\n",
       "      <td>NaN</td>\n",
       "      <td>Description of candidate for proven in use arg...</td>\n",
       "      <td>candidate proven use</td>\n",
       "      <td>Description of candidate for proven in use arg...</td>\n",
       "      <td>candidate for proven in use argument resulting...</td>\n",
       "    </tr>\n",
       "    <tr>\n",
       "      <th>106</th>\n",
       "      <td>14.5.2</td>\n",
       "      <td>NaN</td>\n",
       "      <td>Proven in use analysis reports resulting from ...</td>\n",
       "      <td>proven use analysis</td>\n",
       "      <td>Proven in use analysis reports and requirement...</td>\n",
       "      <td>requirements 14.4.4 to 14.4.5 .</td>\n",
       "    </tr>\n",
       "    <tr>\n",
       "      <th>107</th>\n",
       "      <td>15</td>\n",
       "      <td>Interfacing an application that is out of scop...</td>\n",
       "      <td></td>\n",
       "      <td></td>\n",
       "      <td>A selection of photos from around the world</td>\n",
       "      <td></td>\n",
       "    </tr>\n",
       "    <tr>\n",
       "      <th>108</th>\n",
       "      <td>15.1</td>\n",
       "      <td>Objectives</td>\n",
       "      <td>This clause applies to T&amp;B, where the objectiv...</td>\n",
       "      <td>scope iso 26262</td>\n",
       "      <td>ISO 26262 covers the development, manufacture</td>\n",
       "      <td>this clause applies to T&amp;B, where</td>\n",
       "    </tr>\n",
       "    <tr>\n",
       "      <th>109</th>\n",
       "      <td>15.2</td>\n",
       "      <td>General</td>\n",
       "      <td>The application of this clause is intended for...</td>\n",
       "      <td>according iso 26262</td>\n",
       "      <td>This clause applies to items developed accordi...</td>\n",
       "      <td>application of this clause is intended for com...</td>\n",
       "    </tr>\n",
       "  </tbody>\n",
       "</table>\n",
       "</div>"
      ]
     },
     "execution_count": 63,
     "metadata": {},
     "output_type": "execute_result"
    }
   ],
   "execution_count": 63
  },
  {
   "metadata": {},
   "cell_type": "markdown",
   "source": "### Evaluation",
   "id": "2d006c4bdf9d197"
  },
  {
   "metadata": {},
   "cell_type": "markdown",
   "source": "#### Genrerate embeddings",
   "id": "3c744e99507aff38"
  },
  {
   "metadata": {},
   "cell_type": "markdown",
   "source": "##### all-MiniLM-L6-v2",
   "id": "bc838f880cdcf1be"
  },
  {
   "metadata": {
    "ExecuteTime": {
     "end_time": "2025-01-05T15:51:54.400160Z",
     "start_time": "2025-01-05T15:51:52.504624Z"
    }
   },
   "cell_type": "code",
   "source": "embeddings_model = SentenceTransformer('all-MiniLM-L6-v2')",
   "id": "6597085f2912eaad",
   "outputs": [],
   "execution_count": 64
  },
  {
   "metadata": {
    "ExecuteTime": {
     "end_time": "2025-01-05T15:57:31.846485Z",
     "start_time": "2025-01-05T15:57:31.842531Z"
    }
   },
   "cell_type": "code",
   "source": [
    "# Cache function to store embeddings\n",
    "@lru_cache(maxsize=100)  # Cache up to 100 entries, adjust as needed\n",
    "def get_embedding(text, embeddings_model = embeddings_model, show_progress=True):\n",
    "    \"\"\"\n",
    "    Compute and cache the embedding for a given text.\n",
    "    \"\"\"\n",
    "    embedding = embeddings_model.encode(text, show_progress_bar=show_progress)\n",
    "    return tuple(embedding)  # Tuples are hashable and compatible with lru_cache"
   ],
   "id": "2bc4bbf4e5a9b44d",
   "outputs": [],
   "execution_count": 71
  },
  {
   "metadata": {
    "ExecuteTime": {
     "end_time": "2025-01-05T16:35:44.543269Z",
     "start_time": "2025-01-05T16:35:44.251Z"
    }
   },
   "cell_type": "code",
   "source": "df[\"embeddings-Heading\"] = df[\"Heading\"].progress_apply(lambda summary: get_embedding(str(summary), show_progress=False))",
   "id": "7bdc8d9bbed9c9fa",
   "outputs": [
    {
     "name": "stderr",
     "output_type": "stream",
     "text": [
      "100%|██████████| 139/139 [00:00<00:00, 486.13it/s]\n"
     ]
    }
   ],
   "execution_count": 95
  },
  {
   "metadata": {
    "ExecuteTime": {
     "end_time": "2025-01-05T15:57:34.036598Z",
     "start_time": "2025-01-05T15:57:33.144069Z"
    }
   },
   "cell_type": "code",
   "source": "df[\"embeddings-Keybert-all-MiniLM-L6-v2\"] = df[\"Keybert-all-MiniLM-L6-v2\"].progress_apply(lambda summary: get_embedding(summary, show_progress=False))",
   "id": "4a0da1f6120e9b03",
   "outputs": [
    {
     "name": "stderr",
     "output_type": "stream",
     "text": [
      "100%|██████████| 139/139 [00:00<00:00, 156.79it/s]\n"
     ]
    }
   ],
   "execution_count": 72
  },
  {
   "metadata": {
    "ExecuteTime": {
     "end_time": "2025-01-05T16:06:54.852933Z",
     "start_time": "2025-01-05T16:06:54.839895Z"
    }
   },
   "cell_type": "code",
   "source": "df.head()",
   "id": "a89652694ede7a52",
   "outputs": [
    {
     "data": {
      "text/plain": [
       "  Number                      Heading  \\\n",
       "0      1                        Scope   \n",
       "1      2         Normative references   \n",
       "2      3        Terms and definitions   \n",
       "3      4  Requirements for compliance   \n",
       "4    4.1                      Purpose   \n",
       "\n",
       "                                              Clause  \\\n",
       "0  This document is intended to be applied to saf...   \n",
       "1  The following documents are referred to in the...   \n",
       "2  For the purposes of this document, the terms, ...   \n",
       "3                                                      \n",
       "4  This clause describes how: - a) to achieve com...   \n",
       "\n",
       "       Keybert-all-MiniLM-L6-v2  \\\n",
       "0        safety related systems   \n",
       "1  functional safety automotive   \n",
       "2   iec maintain terminological   \n",
       "3                                 \n",
       "4          compliance iso 26262   \n",
       "\n",
       "                             summarizer-pegasus-xsum  \\\n",
       "0                This document is part of the ISO 26   \n",
       "1             ISO 26262-1 Road vehicles - Functional   \n",
       "2  The International Electrotechnical Commission ...   \n",
       "3        A selection of photos from around the world   \n",
       "4                    This clause describes how: - a)   \n",
       "\n",
       "                                 summarizer-t5-small  \\\n",
       "0  this document addresses alterations to existin...   \n",
       "1            for dated references, only the edition    \n",
       "2                 the terms, definitions and abbrevi   \n",
       "3                                                      \n",
       "4  clause describes how to achieve compliance wit...   \n",
       "\n",
       "                 embeddings-Keybert-all-MiniLM-L6-v2  \\\n",
       "0  (0.00024321438, 0.017188108, -0.08307219, -0.0...   \n",
       "1  (-0.010115299, 0.008408629, -0.01936752, -0.02...   \n",
       "2  (0.03567835, 0.0017828565, -0.016467225, -0.01...   \n",
       "3  (-0.11883839, 0.0482987, -0.0025480397, -0.011...   \n",
       "4  (-0.03331215, -0.04106421, -0.022296954, -0.04...   \n",
       "\n",
       "                  embeddings-summarizer-pegasus-xsum  \n",
       "0  (-0.045288987, 0.07363569, -0.0129171545, -0.0...  \n",
       "1  (-0.03941023, -0.05288473, 0.01065546, 0.01957...  \n",
       "2  (-0.06120717, 0.05262086, 0.017590819, -0.0105...  \n",
       "3  (-0.0034427606, 0.0112391515, 0.036631856, 0.0...  \n",
       "4  (-0.008398117, 0.09367979, 6.166728e-05, 0.045...  "
      ],
      "text/html": [
       "<div>\n",
       "<style scoped>\n",
       "    .dataframe tbody tr th:only-of-type {\n",
       "        vertical-align: middle;\n",
       "    }\n",
       "\n",
       "    .dataframe tbody tr th {\n",
       "        vertical-align: top;\n",
       "    }\n",
       "\n",
       "    .dataframe thead th {\n",
       "        text-align: right;\n",
       "    }\n",
       "</style>\n",
       "<table border=\"1\" class=\"dataframe\">\n",
       "  <thead>\n",
       "    <tr style=\"text-align: right;\">\n",
       "      <th></th>\n",
       "      <th>Number</th>\n",
       "      <th>Heading</th>\n",
       "      <th>Clause</th>\n",
       "      <th>Keybert-all-MiniLM-L6-v2</th>\n",
       "      <th>summarizer-pegasus-xsum</th>\n",
       "      <th>summarizer-t5-small</th>\n",
       "      <th>embeddings-Keybert-all-MiniLM-L6-v2</th>\n",
       "      <th>embeddings-summarizer-pegasus-xsum</th>\n",
       "    </tr>\n",
       "  </thead>\n",
       "  <tbody>\n",
       "    <tr>\n",
       "      <th>0</th>\n",
       "      <td>1</td>\n",
       "      <td>Scope</td>\n",
       "      <td>This document is intended to be applied to saf...</td>\n",
       "      <td>safety related systems</td>\n",
       "      <td>This document is part of the ISO 26</td>\n",
       "      <td>this document addresses alterations to existin...</td>\n",
       "      <td>(0.00024321438, 0.017188108, -0.08307219, -0.0...</td>\n",
       "      <td>(-0.045288987, 0.07363569, -0.0129171545, -0.0...</td>\n",
       "    </tr>\n",
       "    <tr>\n",
       "      <th>1</th>\n",
       "      <td>2</td>\n",
       "      <td>Normative references</td>\n",
       "      <td>The following documents are referred to in the...</td>\n",
       "      <td>functional safety automotive</td>\n",
       "      <td>ISO 26262-1 Road vehicles - Functional</td>\n",
       "      <td>for dated references, only the edition</td>\n",
       "      <td>(-0.010115299, 0.008408629, -0.01936752, -0.02...</td>\n",
       "      <td>(-0.03941023, -0.05288473, 0.01065546, 0.01957...</td>\n",
       "    </tr>\n",
       "    <tr>\n",
       "      <th>2</th>\n",
       "      <td>3</td>\n",
       "      <td>Terms and definitions</td>\n",
       "      <td>For the purposes of this document, the terms, ...</td>\n",
       "      <td>iec maintain terminological</td>\n",
       "      <td>The International Electrotechnical Commission ...</td>\n",
       "      <td>the terms, definitions and abbrevi</td>\n",
       "      <td>(0.03567835, 0.0017828565, -0.016467225, -0.01...</td>\n",
       "      <td>(-0.06120717, 0.05262086, 0.017590819, -0.0105...</td>\n",
       "    </tr>\n",
       "    <tr>\n",
       "      <th>3</th>\n",
       "      <td>4</td>\n",
       "      <td>Requirements for compliance</td>\n",
       "      <td></td>\n",
       "      <td></td>\n",
       "      <td>A selection of photos from around the world</td>\n",
       "      <td></td>\n",
       "      <td>(-0.11883839, 0.0482987, -0.0025480397, -0.011...</td>\n",
       "      <td>(-0.0034427606, 0.0112391515, 0.036631856, 0.0...</td>\n",
       "    </tr>\n",
       "    <tr>\n",
       "      <th>4</th>\n",
       "      <td>4.1</td>\n",
       "      <td>Purpose</td>\n",
       "      <td>This clause describes how: - a) to achieve com...</td>\n",
       "      <td>compliance iso 26262</td>\n",
       "      <td>This clause describes how: - a)</td>\n",
       "      <td>clause describes how to achieve compliance wit...</td>\n",
       "      <td>(-0.03331215, -0.04106421, -0.022296954, -0.04...</td>\n",
       "      <td>(-0.008398117, 0.09367979, 6.166728e-05, 0.045...</td>\n",
       "    </tr>\n",
       "  </tbody>\n",
       "</table>\n",
       "</div>"
      ]
     },
     "execution_count": 78,
     "metadata": {},
     "output_type": "execute_result"
    }
   ],
   "execution_count": 78
  },
  {
   "metadata": {
    "ExecuteTime": {
     "end_time": "2025-01-05T16:06:49.980906Z",
     "start_time": "2025-01-05T16:06:48.983970Z"
    }
   },
   "cell_type": "code",
   "source": "df[\"embeddings-summarizer-pegasus-xsum\"] = df[\"summarizer-pegasus-xsum\"].progress_apply(lambda summary: get_embedding(summary, show_progress=False))",
   "id": "a3a12e466ca3730",
   "outputs": [
    {
     "name": "stderr",
     "output_type": "stream",
     "text": [
      "100%|██████████| 139/139 [00:00<00:00, 140.48it/s]\n"
     ]
    }
   ],
   "execution_count": 77
  },
  {
   "metadata": {
    "ExecuteTime": {
     "end_time": "2025-01-05T16:08:03.667836Z",
     "start_time": "2025-01-05T16:08:02.535047Z"
    }
   },
   "cell_type": "code",
   "source": "df[\"embeddings-summarizer-t5-small\"] = df[\"summarizer-t5-small\"].progress_apply(lambda summary: get_embedding(summary, show_progress=False))\n",
   "id": "b661db7eec87038a",
   "outputs": [
    {
     "name": "stderr",
     "output_type": "stream",
     "text": [
      "100%|██████████| 139/139 [00:01<00:00, 123.36it/s]\n"
     ]
    }
   ],
   "execution_count": 79
  },
  {
   "metadata": {},
   "cell_type": "markdown",
   "source": "### Evaluation",
   "id": "16e84349d1acba27"
  },
  {
   "metadata": {},
   "cell_type": "markdown",
   "source": "#### ROUGE",
   "id": "a7d0bc4ffad3dbde"
  },
  {
   "metadata": {
    "ExecuteTime": {
     "end_time": "2025-01-05T16:17:40.972804Z",
     "start_time": "2025-01-05T16:17:40.969369Z"
    }
   },
   "cell_type": "code",
   "source": "import evaluate",
   "id": "824bd45ea9403d09",
   "outputs": [],
   "execution_count": 80
  },
  {
   "metadata": {
    "ExecuteTime": {
     "end_time": "2025-01-05T16:17:58.707669Z",
     "start_time": "2025-01-05T16:17:55.951624Z"
    }
   },
   "cell_type": "code",
   "source": "rouge = evaluate.load('rouge')",
   "id": "a9ca64eac3f48189",
   "outputs": [],
   "execution_count": 81
  },
  {
   "metadata": {
    "ExecuteTime": {
     "end_time": "2025-01-05T16:26:19.526715Z",
     "start_time": "2025-01-05T16:26:19.521994Z"
    }
   },
   "cell_type": "code",
   "source": [
    "def compute_rouge_row(reference, prediction, rouge_type=\"rougeL\"):\n",
    "    \"\"\"\n",
    "    Compute ROUGE scores for a single reference and prediction pair.\n",
    "    \n",
    "    Args:\n",
    "        reference (str): The reference heading (gold standard).\n",
    "        prediction (str): The generated summary (KeyBERT summary).\n",
    "        rouge_type (str): The type of ROUGE score to compute (\"rouge1\", \"rouge2\", \"rougeL\").\n",
    "\n",
    "    Returns:\n",
    "        float: ROUGE F1 score of the specified type.\n",
    "    \"\"\"\n",
    "    # Handle missing values\n",
    "    reference = reference if pd.notna(reference) else \"\"\n",
    "    prediction = prediction if pd.notna(prediction) else \"\"\n",
    "\n",
    "    # Compute ROUGE score\n",
    "    score = rouge.compute(predictions=[prediction], references=[reference])\n",
    "    return score[rouge_type]"
   ],
   "id": "f3f120e624ef3dca",
   "outputs": [],
   "execution_count": 82
  },
  {
   "metadata": {
    "ExecuteTime": {
     "end_time": "2025-01-05T16:27:52.567606Z",
     "start_time": "2025-01-05T16:27:42.570228Z"
    }
   },
   "cell_type": "code",
   "source": "df[\"rouge-1-Keybert-all-MiniLM-L6-v2\"] = df.progress_apply(lambda row: compute_rouge_row(row[\"Heading\"], row[\"Keybert-all-MiniLM-L6-v2\"], 'rouge1'), axis=1)",
   "id": "839e3e5a705a5a55",
   "outputs": [
    {
     "name": "stderr",
     "output_type": "stream",
     "text": [
      "100%|██████████| 139/139 [00:09<00:00, 13.91it/s]\n"
     ]
    }
   ],
   "execution_count": 83
  },
  {
   "metadata": {
    "ExecuteTime": {
     "end_time": "2025-01-05T16:29:40.942239Z",
     "start_time": "2025-01-05T16:29:32.236094Z"
    }
   },
   "cell_type": "code",
   "source": "df[\"rouge-L-Keybert-all-MiniLM-L6-v2\"] = df.progress_apply(lambda row: compute_rouge_row(row[\"Heading\"], row[\"Keybert-all-MiniLM-L6-v2\"], 'rougeL'), axis=1)",
   "id": "38dcd590146a711f",
   "outputs": [
    {
     "name": "stderr",
     "output_type": "stream",
     "text": [
      "100%|██████████| 139/139 [00:08<00:00, 15.98it/s]\n"
     ]
    }
   ],
   "execution_count": 87
  },
  {
   "metadata": {
    "ExecuteTime": {
     "end_time": "2025-01-05T16:30:29.820597Z",
     "start_time": "2025-01-05T16:30:19.425274Z"
    }
   },
   "cell_type": "code",
   "source": "df[\"rouge-1-summarizer-pegasus-xsum\"] = df.progress_apply(lambda row: compute_rouge_row(row[\"Heading\"], row[\"summarizer-pegasus-xsum\"], 'rouge1'), axis=1)",
   "id": "826990f1e006ccba",
   "outputs": [
    {
     "name": "stderr",
     "output_type": "stream",
     "text": [
      "100%|██████████| 139/139 [00:10<00:00, 13.38it/s]\n"
     ]
    }
   ],
   "execution_count": 88
  },
  {
   "metadata": {
    "ExecuteTime": {
     "end_time": "2025-01-05T16:30:57.979726Z",
     "start_time": "2025-01-05T16:30:49.235714Z"
    }
   },
   "cell_type": "code",
   "source": "df[\"rouge-L-summarizer-pegasus-xsum\"] = df.progress_apply(lambda row: compute_rouge_row(row[\"Heading\"], row[\"summarizer-pegasus-xsum\"], 'rougeL'), axis=1)",
   "id": "d3cfe6dcf61c71a1",
   "outputs": [
    {
     "name": "stderr",
     "output_type": "stream",
     "text": [
      "100%|██████████| 139/139 [00:08<00:00, 15.91it/s]\n"
     ]
    }
   ],
   "execution_count": 89
  },
  {
   "metadata": {
    "ExecuteTime": {
     "end_time": "2025-01-05T16:31:41.659057Z",
     "start_time": "2025-01-05T16:31:31.257963Z"
    }
   },
   "cell_type": "code",
   "source": "df[\"rouge-1-summarizer-t5-small\"] = df.progress_apply(lambda row: compute_rouge_row(row[\"Heading\"], row[\"summarizer-t5-small\"], 'rouge1'), axis=1)",
   "id": "fd76a1d662cb6857",
   "outputs": [
    {
     "name": "stderr",
     "output_type": "stream",
     "text": [
      "100%|██████████| 139/139 [00:10<00:00, 13.37it/s]\n"
     ]
    }
   ],
   "execution_count": 90
  },
  {
   "metadata": {
    "ExecuteTime": {
     "end_time": "2025-01-05T16:31:50.196485Z",
     "start_time": "2025-01-05T16:31:41.665064Z"
    }
   },
   "cell_type": "code",
   "source": "df[\"rouge-L-summarizer-t5-small\"] = df.progress_apply(lambda row: compute_rouge_row(row[\"Heading\"], row[\"summarizer-t5-small\"], 'rougeL'), axis=1)",
   "id": "d8dcb3a4886beaeb",
   "outputs": [
    {
     "name": "stderr",
     "output_type": "stream",
     "text": [
      "100%|██████████| 139/139 [00:08<00:00, 16.30it/s]\n"
     ]
    }
   ],
   "execution_count": 91
  },
  {
   "metadata": {
    "ExecuteTime": {
     "end_time": "2025-01-05T16:35:58.944978Z",
     "start_time": "2025-01-05T16:35:58.926342Z"
    }
   },
   "cell_type": "code",
   "source": "df.head()",
   "id": "721de4e15c450f0a",
   "outputs": [
    {
     "data": {
      "text/plain": [
       "  Number                      Heading  \\\n",
       "0      1                        Scope   \n",
       "1      2         Normative references   \n",
       "2      3        Terms and definitions   \n",
       "3      4  Requirements for compliance   \n",
       "4    4.1                      Purpose   \n",
       "\n",
       "                                              Clause  \\\n",
       "0  This document is intended to be applied to saf...   \n",
       "1  The following documents are referred to in the...   \n",
       "2  For the purposes of this document, the terms, ...   \n",
       "3                                                      \n",
       "4  This clause describes how: - a) to achieve com...   \n",
       "\n",
       "       Keybert-all-MiniLM-L6-v2  \\\n",
       "0        safety related systems   \n",
       "1  functional safety automotive   \n",
       "2   iec maintain terminological   \n",
       "3                                 \n",
       "4          compliance iso 26262   \n",
       "\n",
       "                             summarizer-pegasus-xsum  \\\n",
       "0                This document is part of the ISO 26   \n",
       "1             ISO 26262-1 Road vehicles - Functional   \n",
       "2  The International Electrotechnical Commission ...   \n",
       "3        A selection of photos from around the world   \n",
       "4                    This clause describes how: - a)   \n",
       "\n",
       "                                 summarizer-t5-small  \\\n",
       "0  this document addresses alterations to existin...   \n",
       "1            for dated references, only the edition    \n",
       "2                 the terms, definitions and abbrevi   \n",
       "3                                                      \n",
       "4  clause describes how to achieve compliance wit...   \n",
       "\n",
       "                 embeddings-Keybert-all-MiniLM-L6-v2  \\\n",
       "0  (0.00024321438, 0.017188108, -0.08307219, -0.0...   \n",
       "1  (-0.010115299, 0.008408629, -0.01936752, -0.02...   \n",
       "2  (0.03567835, 0.0017828565, -0.016467225, -0.01...   \n",
       "3  (-0.11883839, 0.0482987, -0.0025480397, -0.011...   \n",
       "4  (-0.03331215, -0.04106421, -0.022296954, -0.04...   \n",
       "\n",
       "                  embeddings-summarizer-pegasus-xsum  \\\n",
       "0  (-0.045288987, 0.07363569, -0.0129171545, -0.0...   \n",
       "1  (-0.03941023, -0.05288473, 0.01065546, 0.01957...   \n",
       "2  (-0.06120717, 0.05262086, 0.017590819, -0.0105...   \n",
       "3  (-0.0034427606, 0.0112391515, 0.036631856, 0.0...   \n",
       "4  (-0.008398117, 0.09367979, 6.166728e-05, 0.045...   \n",
       "\n",
       "                      embeddings-summarizer-t5-small  \\\n",
       "0  (-0.06798153, 0.007992299, 0.0014251253, -0.04...   \n",
       "1  (-0.06080737, 0.062627256, 0.028489335, 0.0181...   \n",
       "2  (-0.012951015, -0.015076252, 0.005015996, -0.0...   \n",
       "3  (-0.11883839, 0.0482987, -0.0025480397, -0.011...   \n",
       "4  (0.009528824, 0.044791028, 0.022504808, -0.037...   \n",
       "\n",
       "   rouge-1-Keybert-all-MiniLM-L6-v2  rouge-L-Keybert-all-MiniLM-L6-v2  \\\n",
       "0                               0.0                               0.0   \n",
       "1                               0.0                               0.0   \n",
       "2                               0.0                               0.0   \n",
       "3                               0.0                               0.0   \n",
       "4                               0.0                               0.0   \n",
       "\n",
       "   rouge-1-summarizer-pegasus-xsum  rouge-L-summarizer-pegasus-xsum  \\\n",
       "0                              0.0                              0.0   \n",
       "1                              0.0                              0.0   \n",
       "2                              0.0                              0.0   \n",
       "3                              0.0                              0.0   \n",
       "4                              0.0                              0.0   \n",
       "\n",
       "   rouge-1-summarizer-t5-small  rouge-L-summarizer-t5-small  \\\n",
       "0                         0.00                         0.00   \n",
       "1                         0.25                         0.25   \n",
       "2                         0.75                         0.50   \n",
       "3                         0.00                         0.00   \n",
       "4                         0.00                         0.00   \n",
       "\n",
       "                                  embeddings-Heading  \n",
       "0  (0.009632393, 0.03896258, -0.034440175, 0.0282...  \n",
       "1  (0.013763759, -0.019944215, -0.084395476, -0.0...  \n",
       "2  (-0.001810635, 0.00937886, -0.05257231, 0.0194...  \n",
       "3  (-0.021838276, 0.010609712, -0.004405861, -0.0...  \n",
       "4  (-0.05731007, 0.07535276, -0.024127811, 0.0117...  "
      ],
      "text/html": [
       "<div>\n",
       "<style scoped>\n",
       "    .dataframe tbody tr th:only-of-type {\n",
       "        vertical-align: middle;\n",
       "    }\n",
       "\n",
       "    .dataframe tbody tr th {\n",
       "        vertical-align: top;\n",
       "    }\n",
       "\n",
       "    .dataframe thead th {\n",
       "        text-align: right;\n",
       "    }\n",
       "</style>\n",
       "<table border=\"1\" class=\"dataframe\">\n",
       "  <thead>\n",
       "    <tr style=\"text-align: right;\">\n",
       "      <th></th>\n",
       "      <th>Number</th>\n",
       "      <th>Heading</th>\n",
       "      <th>Clause</th>\n",
       "      <th>Keybert-all-MiniLM-L6-v2</th>\n",
       "      <th>summarizer-pegasus-xsum</th>\n",
       "      <th>summarizer-t5-small</th>\n",
       "      <th>embeddings-Keybert-all-MiniLM-L6-v2</th>\n",
       "      <th>embeddings-summarizer-pegasus-xsum</th>\n",
       "      <th>embeddings-summarizer-t5-small</th>\n",
       "      <th>rouge-1-Keybert-all-MiniLM-L6-v2</th>\n",
       "      <th>rouge-L-Keybert-all-MiniLM-L6-v2</th>\n",
       "      <th>rouge-1-summarizer-pegasus-xsum</th>\n",
       "      <th>rouge-L-summarizer-pegasus-xsum</th>\n",
       "      <th>rouge-1-summarizer-t5-small</th>\n",
       "      <th>rouge-L-summarizer-t5-small</th>\n",
       "      <th>embeddings-Heading</th>\n",
       "    </tr>\n",
       "  </thead>\n",
       "  <tbody>\n",
       "    <tr>\n",
       "      <th>0</th>\n",
       "      <td>1</td>\n",
       "      <td>Scope</td>\n",
       "      <td>This document is intended to be applied to saf...</td>\n",
       "      <td>safety related systems</td>\n",
       "      <td>This document is part of the ISO 26</td>\n",
       "      <td>this document addresses alterations to existin...</td>\n",
       "      <td>(0.00024321438, 0.017188108, -0.08307219, -0.0...</td>\n",
       "      <td>(-0.045288987, 0.07363569, -0.0129171545, -0.0...</td>\n",
       "      <td>(-0.06798153, 0.007992299, 0.0014251253, -0.04...</td>\n",
       "      <td>0.0</td>\n",
       "      <td>0.0</td>\n",
       "      <td>0.0</td>\n",
       "      <td>0.0</td>\n",
       "      <td>0.00</td>\n",
       "      <td>0.00</td>\n",
       "      <td>(0.009632393, 0.03896258, -0.034440175, 0.0282...</td>\n",
       "    </tr>\n",
       "    <tr>\n",
       "      <th>1</th>\n",
       "      <td>2</td>\n",
       "      <td>Normative references</td>\n",
       "      <td>The following documents are referred to in the...</td>\n",
       "      <td>functional safety automotive</td>\n",
       "      <td>ISO 26262-1 Road vehicles - Functional</td>\n",
       "      <td>for dated references, only the edition</td>\n",
       "      <td>(-0.010115299, 0.008408629, -0.01936752, -0.02...</td>\n",
       "      <td>(-0.03941023, -0.05288473, 0.01065546, 0.01957...</td>\n",
       "      <td>(-0.06080737, 0.062627256, 0.028489335, 0.0181...</td>\n",
       "      <td>0.0</td>\n",
       "      <td>0.0</td>\n",
       "      <td>0.0</td>\n",
       "      <td>0.0</td>\n",
       "      <td>0.25</td>\n",
       "      <td>0.25</td>\n",
       "      <td>(0.013763759, -0.019944215, -0.084395476, -0.0...</td>\n",
       "    </tr>\n",
       "    <tr>\n",
       "      <th>2</th>\n",
       "      <td>3</td>\n",
       "      <td>Terms and definitions</td>\n",
       "      <td>For the purposes of this document, the terms, ...</td>\n",
       "      <td>iec maintain terminological</td>\n",
       "      <td>The International Electrotechnical Commission ...</td>\n",
       "      <td>the terms, definitions and abbrevi</td>\n",
       "      <td>(0.03567835, 0.0017828565, -0.016467225, -0.01...</td>\n",
       "      <td>(-0.06120717, 0.05262086, 0.017590819, -0.0105...</td>\n",
       "      <td>(-0.012951015, -0.015076252, 0.005015996, -0.0...</td>\n",
       "      <td>0.0</td>\n",
       "      <td>0.0</td>\n",
       "      <td>0.0</td>\n",
       "      <td>0.0</td>\n",
       "      <td>0.75</td>\n",
       "      <td>0.50</td>\n",
       "      <td>(-0.001810635, 0.00937886, -0.05257231, 0.0194...</td>\n",
       "    </tr>\n",
       "    <tr>\n",
       "      <th>3</th>\n",
       "      <td>4</td>\n",
       "      <td>Requirements for compliance</td>\n",
       "      <td></td>\n",
       "      <td></td>\n",
       "      <td>A selection of photos from around the world</td>\n",
       "      <td></td>\n",
       "      <td>(-0.11883839, 0.0482987, -0.0025480397, -0.011...</td>\n",
       "      <td>(-0.0034427606, 0.0112391515, 0.036631856, 0.0...</td>\n",
       "      <td>(-0.11883839, 0.0482987, -0.0025480397, -0.011...</td>\n",
       "      <td>0.0</td>\n",
       "      <td>0.0</td>\n",
       "      <td>0.0</td>\n",
       "      <td>0.0</td>\n",
       "      <td>0.00</td>\n",
       "      <td>0.00</td>\n",
       "      <td>(-0.021838276, 0.010609712, -0.004405861, -0.0...</td>\n",
       "    </tr>\n",
       "    <tr>\n",
       "      <th>4</th>\n",
       "      <td>4.1</td>\n",
       "      <td>Purpose</td>\n",
       "      <td>This clause describes how: - a) to achieve com...</td>\n",
       "      <td>compliance iso 26262</td>\n",
       "      <td>This clause describes how: - a)</td>\n",
       "      <td>clause describes how to achieve compliance wit...</td>\n",
       "      <td>(-0.03331215, -0.04106421, -0.022296954, -0.04...</td>\n",
       "      <td>(-0.008398117, 0.09367979, 6.166728e-05, 0.045...</td>\n",
       "      <td>(0.009528824, 0.044791028, 0.022504808, -0.037...</td>\n",
       "      <td>0.0</td>\n",
       "      <td>0.0</td>\n",
       "      <td>0.0</td>\n",
       "      <td>0.0</td>\n",
       "      <td>0.00</td>\n",
       "      <td>0.00</td>\n",
       "      <td>(-0.05731007, 0.07535276, -0.024127811, 0.0117...</td>\n",
       "    </tr>\n",
       "  </tbody>\n",
       "</table>\n",
       "</div>"
      ]
     },
     "execution_count": 96,
     "metadata": {},
     "output_type": "execute_result"
    }
   ],
   "execution_count": 96
  },
  {
   "metadata": {},
   "cell_type": "markdown",
   "source": "#### semantic",
   "id": "fbbd2f752e4d2be7"
  },
  {
   "metadata": {
    "ExecuteTime": {
     "end_time": "2025-01-05T16:42:42.299360Z",
     "start_time": "2025-01-05T16:42:42.295140Z"
    }
   },
   "cell_type": "code",
   "source": "import numpy as np",
   "id": "e4005caebeef88c2",
   "outputs": [],
   "execution_count": 98
  },
  {
   "metadata": {
    "ExecuteTime": {
     "end_time": "2025-01-05T16:43:20.214600Z",
     "start_time": "2025-01-05T16:43:20.209606Z"
    }
   },
   "cell_type": "code",
   "source": [
    "def compute_row_similarity(embedding1, embedding2):\n",
    "    \"\"\"\n",
    "    Compute the cosine similarity between two embeddings with validation.\n",
    "    \n",
    "    Args:\n",
    "        embedding1 (array-like or None): First embedding.\n",
    "        embedding2 (array-like or None): Second embedding.\n",
    "        \n",
    "    Returns:\n",
    "        float: Cosine similarity score if embeddings are valid, otherwise NaN.\n",
    "    \"\"\"\n",
    "    # Check for None or NaN embeddings\n",
    "    if pd.isna(embedding1) or pd.isna(embedding2):\n",
    "        return np.nan  # Return NaN if any embedding is missing\n",
    "    \n",
    "    # Convert tuples/lists to NumPy arrays for cosine similarity\n",
    "    if isinstance(embedding1, (tuple, list)):\n",
    "        embedding1 = np.array(embedding1)\n",
    "    if isinstance(embedding2, (tuple, list)):\n",
    "        embedding2 = np.array(embedding2)\n",
    "    \n",
    "    # Check that embeddings have the same length\n",
    "    if embedding1.shape != embedding2.shape:\n",
    "        return np.nan  # Return NaN if embeddings are not of the same shape\n",
    "    \n",
    "    # Compute and return cosine similarity\n",
    "    return cosine_similarity([embedding1], [embedding2])[0][0]"
   ],
   "id": "b6f982d4ef6ff43",
   "outputs": [],
   "execution_count": 99
  },
  {
   "metadata": {
    "ExecuteTime": {
     "end_time": "2025-01-05T16:43:54.410890Z",
     "start_time": "2025-01-05T16:43:54.369812Z"
    }
   },
   "cell_type": "code",
   "source": "df[\"cosine-Keybert-all-MiniLM-L6-v2\"] = df.progress_apply(lambda row: compute_row_similarity(row[\"embeddings-Heading\"], row[\"embeddings-Keybert-all-MiniLM-L6-v2\"]),axis=1)",
   "id": "fd03071811bb3cf6",
   "outputs": [
    {
     "name": "stderr",
     "output_type": "stream",
     "text": [
      "100%|██████████| 139/139 [00:00<00:00, 4212.67it/s]\n"
     ]
    }
   ],
   "execution_count": 100
  },
  {
   "metadata": {
    "ExecuteTime": {
     "end_time": "2025-01-05T16:45:20.140297Z",
     "start_time": "2025-01-05T16:45:20.097467Z"
    }
   },
   "cell_type": "code",
   "source": "df[\"cosine-summarizer-pegasus-xsum\"] = df.progress_apply(lambda row: compute_row_similarity(row[\"embeddings-Heading\"], row[\"embeddings-summarizer-pegasus-xsum\"]),axis=1)",
   "id": "c7fd5137116e5506",
   "outputs": [
    {
     "name": "stderr",
     "output_type": "stream",
     "text": [
      "100%|██████████| 139/139 [00:00<00:00, 4074.56it/s]\n"
     ]
    }
   ],
   "execution_count": 102
  },
  {
   "metadata": {
    "ExecuteTime": {
     "end_time": "2025-01-05T16:45:42.248249Z",
     "start_time": "2025-01-05T16:45:42.211125Z"
    }
   },
   "cell_type": "code",
   "source": "df[\"cosine-summarizer-t5-small\"] = df.progress_apply(lambda row: compute_row_similarity(row[\"embeddings-Heading\"], row[\"embeddings-summarizer-t5-small\"]),axis=1)",
   "id": "267da6540867180b",
   "outputs": [
    {
     "name": "stderr",
     "output_type": "stream",
     "text": [
      "100%|██████████| 139/139 [00:00<00:00, 4625.65it/s]\n"
     ]
    }
   ],
   "execution_count": 103
  },
  {
   "metadata": {
    "ExecuteTime": {
     "end_time": "2025-01-05T16:45:47.972276Z",
     "start_time": "2025-01-05T16:45:47.952181Z"
    }
   },
   "cell_type": "code",
   "source": "df.head()",
   "id": "7f526d23242a0752",
   "outputs": [
    {
     "data": {
      "text/plain": [
       "  Number                      Heading  \\\n",
       "0      1                        Scope   \n",
       "1      2         Normative references   \n",
       "2      3        Terms and definitions   \n",
       "3      4  Requirements for compliance   \n",
       "4    4.1                      Purpose   \n",
       "\n",
       "                                              Clause  \\\n",
       "0  This document is intended to be applied to saf...   \n",
       "1  The following documents are referred to in the...   \n",
       "2  For the purposes of this document, the terms, ...   \n",
       "3                                                      \n",
       "4  This clause describes how: - a) to achieve com...   \n",
       "\n",
       "       Keybert-all-MiniLM-L6-v2  \\\n",
       "0        safety related systems   \n",
       "1  functional safety automotive   \n",
       "2   iec maintain terminological   \n",
       "3                                 \n",
       "4          compliance iso 26262   \n",
       "\n",
       "                             summarizer-pegasus-xsum  \\\n",
       "0                This document is part of the ISO 26   \n",
       "1             ISO 26262-1 Road vehicles - Functional   \n",
       "2  The International Electrotechnical Commission ...   \n",
       "3        A selection of photos from around the world   \n",
       "4                    This clause describes how: - a)   \n",
       "\n",
       "                                 summarizer-t5-small  \\\n",
       "0  this document addresses alterations to existin...   \n",
       "1            for dated references, only the edition    \n",
       "2                 the terms, definitions and abbrevi   \n",
       "3                                                      \n",
       "4  clause describes how to achieve compliance wit...   \n",
       "\n",
       "                 embeddings-Keybert-all-MiniLM-L6-v2  \\\n",
       "0  (0.00024321438, 0.017188108, -0.08307219, -0.0...   \n",
       "1  (-0.010115299, 0.008408629, -0.01936752, -0.02...   \n",
       "2  (0.03567835, 0.0017828565, -0.016467225, -0.01...   \n",
       "3  (-0.11883839, 0.0482987, -0.0025480397, -0.011...   \n",
       "4  (-0.03331215, -0.04106421, -0.022296954, -0.04...   \n",
       "\n",
       "                  embeddings-summarizer-pegasus-xsum  \\\n",
       "0  (-0.045288987, 0.07363569, -0.0129171545, -0.0...   \n",
       "1  (-0.03941023, -0.05288473, 0.01065546, 0.01957...   \n",
       "2  (-0.06120717, 0.05262086, 0.017590819, -0.0105...   \n",
       "3  (-0.0034427606, 0.0112391515, 0.036631856, 0.0...   \n",
       "4  (-0.008398117, 0.09367979, 6.166728e-05, 0.045...   \n",
       "\n",
       "                      embeddings-summarizer-t5-small  \\\n",
       "0  (-0.06798153, 0.007992299, 0.0014251253, -0.04...   \n",
       "1  (-0.06080737, 0.062627256, 0.028489335, 0.0181...   \n",
       "2  (-0.012951015, -0.015076252, 0.005015996, -0.0...   \n",
       "3  (-0.11883839, 0.0482987, -0.0025480397, -0.011...   \n",
       "4  (0.009528824, 0.044791028, 0.022504808, -0.037...   \n",
       "\n",
       "   rouge-1-Keybert-all-MiniLM-L6-v2  rouge-L-Keybert-all-MiniLM-L6-v2  \\\n",
       "0                               0.0                               0.0   \n",
       "1                               0.0                               0.0   \n",
       "2                               0.0                               0.0   \n",
       "3                               0.0                               0.0   \n",
       "4                               0.0                               0.0   \n",
       "\n",
       "   rouge-1-summarizer-pegasus-xsum  rouge-L-summarizer-pegasus-xsum  \\\n",
       "0                              0.0                              0.0   \n",
       "1                              0.0                              0.0   \n",
       "2                              0.0                              0.0   \n",
       "3                              0.0                              0.0   \n",
       "4                              0.0                              0.0   \n",
       "\n",
       "   rouge-1-summarizer-t5-small  rouge-L-summarizer-t5-small  \\\n",
       "0                         0.00                         0.00   \n",
       "1                         0.25                         0.25   \n",
       "2                         0.75                         0.50   \n",
       "3                         0.00                         0.00   \n",
       "4                         0.00                         0.00   \n",
       "\n",
       "                                  embeddings-Heading  \\\n",
       "0  (0.009632393, 0.03896258, -0.034440175, 0.0282...   \n",
       "1  (0.013763759, -0.019944215, -0.084395476, -0.0...   \n",
       "2  (-0.001810635, 0.00937886, -0.05257231, 0.0194...   \n",
       "3  (-0.021838276, 0.010609712, -0.004405861, -0.0...   \n",
       "4  (-0.05731007, 0.07535276, -0.024127811, 0.0117...   \n",
       "\n",
       "   cosine-Keybert-all-MiniLM-L6-v2  cosine-summarizer-pegasus-xsum  \\\n",
       "0                         0.138062                        0.115446   \n",
       "1                         0.165755                        0.076162   \n",
       "2                         0.405215                        0.076031   \n",
       "3                         0.062570                        0.042225   \n",
       "4                         0.178330                        0.233528   \n",
       "\n",
       "   cosine-summarizer-t5-small  \n",
       "0                    0.209955  \n",
       "1                    0.334459  \n",
       "2                    0.649881  \n",
       "3                    0.062570  \n",
       "4                    0.158197  "
      ],
      "text/html": [
       "<div>\n",
       "<style scoped>\n",
       "    .dataframe tbody tr th:only-of-type {\n",
       "        vertical-align: middle;\n",
       "    }\n",
       "\n",
       "    .dataframe tbody tr th {\n",
       "        vertical-align: top;\n",
       "    }\n",
       "\n",
       "    .dataframe thead th {\n",
       "        text-align: right;\n",
       "    }\n",
       "</style>\n",
       "<table border=\"1\" class=\"dataframe\">\n",
       "  <thead>\n",
       "    <tr style=\"text-align: right;\">\n",
       "      <th></th>\n",
       "      <th>Number</th>\n",
       "      <th>Heading</th>\n",
       "      <th>Clause</th>\n",
       "      <th>Keybert-all-MiniLM-L6-v2</th>\n",
       "      <th>summarizer-pegasus-xsum</th>\n",
       "      <th>summarizer-t5-small</th>\n",
       "      <th>embeddings-Keybert-all-MiniLM-L6-v2</th>\n",
       "      <th>embeddings-summarizer-pegasus-xsum</th>\n",
       "      <th>embeddings-summarizer-t5-small</th>\n",
       "      <th>rouge-1-Keybert-all-MiniLM-L6-v2</th>\n",
       "      <th>rouge-L-Keybert-all-MiniLM-L6-v2</th>\n",
       "      <th>rouge-1-summarizer-pegasus-xsum</th>\n",
       "      <th>rouge-L-summarizer-pegasus-xsum</th>\n",
       "      <th>rouge-1-summarizer-t5-small</th>\n",
       "      <th>rouge-L-summarizer-t5-small</th>\n",
       "      <th>embeddings-Heading</th>\n",
       "      <th>cosine-Keybert-all-MiniLM-L6-v2</th>\n",
       "      <th>cosine-summarizer-pegasus-xsum</th>\n",
       "      <th>cosine-summarizer-t5-small</th>\n",
       "    </tr>\n",
       "  </thead>\n",
       "  <tbody>\n",
       "    <tr>\n",
       "      <th>0</th>\n",
       "      <td>1</td>\n",
       "      <td>Scope</td>\n",
       "      <td>This document is intended to be applied to saf...</td>\n",
       "      <td>safety related systems</td>\n",
       "      <td>This document is part of the ISO 26</td>\n",
       "      <td>this document addresses alterations to existin...</td>\n",
       "      <td>(0.00024321438, 0.017188108, -0.08307219, -0.0...</td>\n",
       "      <td>(-0.045288987, 0.07363569, -0.0129171545, -0.0...</td>\n",
       "      <td>(-0.06798153, 0.007992299, 0.0014251253, -0.04...</td>\n",
       "      <td>0.0</td>\n",
       "      <td>0.0</td>\n",
       "      <td>0.0</td>\n",
       "      <td>0.0</td>\n",
       "      <td>0.00</td>\n",
       "      <td>0.00</td>\n",
       "      <td>(0.009632393, 0.03896258, -0.034440175, 0.0282...</td>\n",
       "      <td>0.138062</td>\n",
       "      <td>0.115446</td>\n",
       "      <td>0.209955</td>\n",
       "    </tr>\n",
       "    <tr>\n",
       "      <th>1</th>\n",
       "      <td>2</td>\n",
       "      <td>Normative references</td>\n",
       "      <td>The following documents are referred to in the...</td>\n",
       "      <td>functional safety automotive</td>\n",
       "      <td>ISO 26262-1 Road vehicles - Functional</td>\n",
       "      <td>for dated references, only the edition</td>\n",
       "      <td>(-0.010115299, 0.008408629, -0.01936752, -0.02...</td>\n",
       "      <td>(-0.03941023, -0.05288473, 0.01065546, 0.01957...</td>\n",
       "      <td>(-0.06080737, 0.062627256, 0.028489335, 0.0181...</td>\n",
       "      <td>0.0</td>\n",
       "      <td>0.0</td>\n",
       "      <td>0.0</td>\n",
       "      <td>0.0</td>\n",
       "      <td>0.25</td>\n",
       "      <td>0.25</td>\n",
       "      <td>(0.013763759, -0.019944215, -0.084395476, -0.0...</td>\n",
       "      <td>0.165755</td>\n",
       "      <td>0.076162</td>\n",
       "      <td>0.334459</td>\n",
       "    </tr>\n",
       "    <tr>\n",
       "      <th>2</th>\n",
       "      <td>3</td>\n",
       "      <td>Terms and definitions</td>\n",
       "      <td>For the purposes of this document, the terms, ...</td>\n",
       "      <td>iec maintain terminological</td>\n",
       "      <td>The International Electrotechnical Commission ...</td>\n",
       "      <td>the terms, definitions and abbrevi</td>\n",
       "      <td>(0.03567835, 0.0017828565, -0.016467225, -0.01...</td>\n",
       "      <td>(-0.06120717, 0.05262086, 0.017590819, -0.0105...</td>\n",
       "      <td>(-0.012951015, -0.015076252, 0.005015996, -0.0...</td>\n",
       "      <td>0.0</td>\n",
       "      <td>0.0</td>\n",
       "      <td>0.0</td>\n",
       "      <td>0.0</td>\n",
       "      <td>0.75</td>\n",
       "      <td>0.50</td>\n",
       "      <td>(-0.001810635, 0.00937886, -0.05257231, 0.0194...</td>\n",
       "      <td>0.405215</td>\n",
       "      <td>0.076031</td>\n",
       "      <td>0.649881</td>\n",
       "    </tr>\n",
       "    <tr>\n",
       "      <th>3</th>\n",
       "      <td>4</td>\n",
       "      <td>Requirements for compliance</td>\n",
       "      <td></td>\n",
       "      <td></td>\n",
       "      <td>A selection of photos from around the world</td>\n",
       "      <td></td>\n",
       "      <td>(-0.11883839, 0.0482987, -0.0025480397, -0.011...</td>\n",
       "      <td>(-0.0034427606, 0.0112391515, 0.036631856, 0.0...</td>\n",
       "      <td>(-0.11883839, 0.0482987, -0.0025480397, -0.011...</td>\n",
       "      <td>0.0</td>\n",
       "      <td>0.0</td>\n",
       "      <td>0.0</td>\n",
       "      <td>0.0</td>\n",
       "      <td>0.00</td>\n",
       "      <td>0.00</td>\n",
       "      <td>(-0.021838276, 0.010609712, -0.004405861, -0.0...</td>\n",
       "      <td>0.062570</td>\n",
       "      <td>0.042225</td>\n",
       "      <td>0.062570</td>\n",
       "    </tr>\n",
       "    <tr>\n",
       "      <th>4</th>\n",
       "      <td>4.1</td>\n",
       "      <td>Purpose</td>\n",
       "      <td>This clause describes how: - a) to achieve com...</td>\n",
       "      <td>compliance iso 26262</td>\n",
       "      <td>This clause describes how: - a)</td>\n",
       "      <td>clause describes how to achieve compliance wit...</td>\n",
       "      <td>(-0.03331215, -0.04106421, -0.022296954, -0.04...</td>\n",
       "      <td>(-0.008398117, 0.09367979, 6.166728e-05, 0.045...</td>\n",
       "      <td>(0.009528824, 0.044791028, 0.022504808, -0.037...</td>\n",
       "      <td>0.0</td>\n",
       "      <td>0.0</td>\n",
       "      <td>0.0</td>\n",
       "      <td>0.0</td>\n",
       "      <td>0.00</td>\n",
       "      <td>0.00</td>\n",
       "      <td>(-0.05731007, 0.07535276, -0.024127811, 0.0117...</td>\n",
       "      <td>0.178330</td>\n",
       "      <td>0.233528</td>\n",
       "      <td>0.158197</td>\n",
       "    </tr>\n",
       "  </tbody>\n",
       "</table>\n",
       "</div>"
      ]
     },
     "execution_count": 104,
     "metadata": {},
     "output_type": "execute_result"
    }
   ],
   "execution_count": 104
  },
  {
   "metadata": {},
   "cell_type": "markdown",
   "source": "### Visualizations",
   "id": "206f5d50a474cf21"
  },
  {
   "metadata": {
    "ExecuteTime": {
     "end_time": "2025-01-05T16:54:36.036567Z",
     "start_time": "2025-01-05T16:54:35.246134Z"
    }
   },
   "cell_type": "code",
   "source": "import matplotlib.pyplot as plt",
   "id": "d5c11175b0c5d019",
   "outputs": [],
   "execution_count": 106
  },
  {
   "metadata": {
    "ExecuteTime": {
     "end_time": "2025-01-05T16:54:37.480013Z",
     "start_time": "2025-01-05T16:54:37.476016Z"
    }
   },
   "cell_type": "code",
   "source": "plt.style.use(\"ggplot\")",
   "id": "2c53ed8af63e536e",
   "outputs": [],
   "execution_count": 107
  },
  {
   "metadata": {},
   "cell_type": "markdown",
   "source": "#### 1. Bar Plot: Mean Scores by Method",
   "id": "fd13b849acae0220"
  },
  {
   "metadata": {
    "ExecuteTime": {
     "end_time": "2025-01-05T16:57:44.474515Z",
     "start_time": "2025-01-05T16:57:44.469808Z"
    }
   },
   "cell_type": "code",
   "source": [
    "def filter_empty_rows(df):\n",
    "    \"\"\"\n",
    "    Remove rows where Heading or Clause columns contain NaN or empty strings.\n",
    "    \"\"\"\n",
    "    return df[(df[\"Heading\"].notna()) & (df[\"Clause\"].notna()) & (df[\"Heading\"].str.strip() != \"\") & (df[\"Clause\"].str.strip() != \"\")]\n"
   ],
   "id": "8848e702d3bb7744",
   "outputs": [],
   "execution_count": 110
  },
  {
   "metadata": {
    "ExecuteTime": {
     "end_time": "2025-01-05T16:58:09.826254Z",
     "start_time": "2025-01-05T16:58:09.818878Z"
    }
   },
   "cell_type": "code",
   "source": [
    "def plot_mean_scores(df):\n",
    "    \"\"\"\n",
    "    Plot the mean ROUGE-1, ROUGE-L, and Cosine Similarity scores for each method.\n",
    "    \"\"\"\n",
    "    # Filter rows\n",
    "    df = filter_empty_rows(df)\n",
    "\n",
    "    # Prepare data for the plot\n",
    "    mean_scores = pd.DataFrame({\n",
    "        \"Method\": [\"KeyBERT\", \"T5-small\", \"Pegasus-xsum\"],\n",
    "        \"ROUGE-1\": [\n",
    "            df[\"rouge-1-Keybert-all-MiniLM-L6-v2\"].mean(),\n",
    "            df[\"rouge-1-summarizer-t5-small\"].mean(),\n",
    "            df[\"rouge-1-summarizer-pegasus-xsum\"].mean()\n",
    "        ],\n",
    "        \"ROUGE-L\": [\n",
    "            df[\"rouge-L-Keybert-all-MiniLM-L6-v2\"].mean(),\n",
    "            df[\"rouge-L-summarizer-t5-small\"].mean(),\n",
    "            df[\"rouge-L-summarizer-pegasus-xsum\"].mean()\n",
    "        ],\n",
    "        \"Cosine Similarity\": [\n",
    "            df[\"cosine-Keybert-all-MiniLM-L6-v2\"].mean(),\n",
    "            df[\"cosine-summarizer-t5-small\"].mean(),\n",
    "            df[\"cosine-summarizer-pegasus-xsum\"].mean()\n",
    "        ]\n",
    "    })\n",
    "\n",
    "    # Plot bar chart\n",
    "    mean_scores.plot(kind='bar', x='Method', y=['ROUGE-1', 'ROUGE-L', 'Cosine Similarity'], figsize=(10, 6))\n",
    "    plt.title(\"Mean ROUGE and Cosine Similarity Scores by Method\")\n",
    "    plt.ylabel(\"Score\")\n",
    "    plt.ylim(0, 1)\n",
    "    plt.xticks(rotation=0)\n",
    "    plt.legend(loc=\"upper left\")\n",
    "    plt.show()\n"
   ],
   "id": "86aee14f706d6b68",
   "outputs": [],
   "execution_count": 111
  },
  {
   "metadata": {
    "ExecuteTime": {
     "end_time": "2025-01-05T16:58:12.004297Z",
     "start_time": "2025-01-05T16:58:11.818724Z"
    }
   },
   "cell_type": "code",
   "source": "plot_mean_scores(df=df)",
   "id": "ef7c17971a9772c1",
   "outputs": [
    {
     "data": {
      "text/plain": [
       "<Figure size 1000x600 with 1 Axes>"
      ],
      "image/png": "[encoded data removed]"
     },
     "metadata": {},
     "output_type": "display_data"
    }
   ],
   "execution_count": 112
  },
  {
   "metadata": {},
   "cell_type": "markdown",
   "source": "#### Box Plot: Score Distributions",
   "id": "2842a1d9e9e62fae"
  },
  {
   "metadata": {
    "ExecuteTime": {
     "end_time": "2025-01-05T16:59:00.925462Z",
     "start_time": "2025-01-05T16:59:00.919608Z"
    }
   },
   "cell_type": "code",
   "source": [
    "def plot_score_distributions(df):\n",
    "    \"\"\"\n",
    "    Plot box plots for score distributions for each method.\n",
    "    \"\"\"\n",
    "    # Filter rows\n",
    "    df = filter_empty_rows(df)\n",
    "\n",
    "    metrics = {\n",
    "        \"ROUGE-1\": [\"rouge-1-Keybert-all-MiniLM-L6-v2\", \"rouge-1-summarizer-t5-small\", \"rouge-1-summarizer-pegasus-xsum\"],\n",
    "        \"ROUGE-L\": [\"rouge-L-Keybert-all-MiniLM-L6-v2\", \"rouge-L-summarizer-t5-small\", \"rouge-L-summarizer-pegasus-xsum\"],\n",
    "        \"Cosine Similarity\": [\"cosine-Keybert-all-MiniLM-L6-v2\", \"cosine-summarizer-t5-small\", \"cosine-summarizer-pegasus-xsum\"]\n",
    "    }\n",
    "\n",
    "    fig, axes = plt.subplots(1, 3, figsize=(18, 6))\n",
    "\n",
    "    for idx, (metric_name, columns) in enumerate(metrics.items()):\n",
    "        melted_df = pd.melt(df, value_vars=columns, var_name=\"Method\", value_name=metric_name)\n",
    "        melted_df[\"Method\"] = melted_df[\"Method\"].map({\n",
    "            \"rouge-1-Keybert-all-MiniLM-L6-v2\": \"KeyBERT\",\n",
    "            \"rouge-1-summarizer-t5-small\": \"T5-small\",\n",
    "            \"rouge-1-summarizer-pegasus-xsum\": \"Pegasus-xsum\",\n",
    "            \"rouge-L-Keybert-all-MiniLM-L6-v2\": \"KeyBERT\",\n",
    "            \"rouge-L-summarizer-t5-small\": \"T5-small\",\n",
    "            \"rouge-L-summarizer-pegasus-xsum\": \"Pegasus-xsum\",\n",
    "            \"cosine-Keybert-all-MiniLM-L6-v2\": \"KeyBERT\",\n",
    "            \"cosine-summarizer-t5-small\": \"T5-small\",\n",
    "            \"cosine-summarizer-pegasus-xsum\": \"Pegasus-xsum\"\n",
    "        })\n",
    "\n",
    "        melted_df.boxplot(column=metric_name, by=\"Method\", ax=axes[idx], grid=False)\n",
    "        axes[idx].set_title(f\"{metric_name} Distribution\")\n",
    "        axes[idx].set_xlabel(\"Method\")\n",
    "        axes[idx].set_ylabel(\"Score\")\n",
    "        axes[idx].set_ylim(0, 1)\n",
    "\n",
    "    plt.suptitle(\"Score Distributions by Method\")\n",
    "    plt.tight_layout(rect=[0, 0, 1, 0.96])\n",
    "    plt.show()"
   ],
   "id": "7a3d3f1a047d0f97",
   "outputs": [],
   "execution_count": 113
  },
  {
   "metadata": {
    "ExecuteTime": {
     "end_time": "2025-01-05T16:59:16.087438Z",
     "start_time": "2025-01-05T16:59:15.781880Z"
    }
   },
   "cell_type": "code",
   "source": "plot_score_distributions(df=df)",
   "id": "820d11f135a6aa94",
   "outputs": [
    {
     "data": {
      "text/plain": [
       "<Figure size 1800x600 with 3 Axes>"
      ],
      "image/png": "[encoded data removed]"
     },
     "metadata": {},
     "output_type": "display_data"
    }
   ],
   "execution_count": 114
  },
  {
   "metadata": {},
   "cell_type": "markdown",
   "source": "#### Scatter Plot: ROUGE vs Cosine Similarity",
   "id": "36122d2de91b78c5"
  },
  {
   "metadata": {
    "ExecuteTime": {
     "end_time": "2025-01-05T17:01:05.987077Z",
     "start_time": "2025-01-05T17:01:05.982082Z"
    }
   },
   "cell_type": "code",
   "source": [
    "def plot_scatter_scores(df):\n",
    "    \"\"\"\n",
    "    Scatter plot showing the relationship between ROUGE-L and Cosine Similarity scores for each method.\n",
    "    \"\"\"\n",
    "    # Filter rows\n",
    "    df = filter_empty_rows(df)\n",
    "\n",
    "    plt.figure(figsize=(10, 6))\n",
    "    colors = {'KeyBERT': 'red', 'T5-small': 'blue', 'Pegasus-xsum': 'green'}\n",
    "\n",
    "    methods = {\n",
    "        \"KeyBERT\": (\"rouge-L-Keybert-all-MiniLM-L6-v2\", \"cosine-Keybert-all-MiniLM-L6-v2\"),\n",
    "        \"T5-small\": (\"rouge-L-summarizer-t5-small\", \"cosine-summarizer-t5-small\"),\n",
    "        \"Pegasus-xsum\": (\"rouge-L-summarizer-pegasus-xsum\", \"cosine-summarizer-pegasus-xsum\")\n",
    "    }\n",
    "\n",
    "    for method, (rouge_col, cosine_col) in methods.items():\n",
    "        plt.scatter(df[rouge_col], df[cosine_col], label=method, color=colors[method], alpha=0.6, s=100)\n",
    "\n",
    "    plt.title(\"ROUGE-L vs Cosine Similarity by Method\")\n",
    "    plt.xlabel(\"ROUGE-L Score\")\n",
    "    plt.ylabel(\"Cosine Similarity\")\n",
    "    plt.legend()\n",
    "    plt.grid(True)\n",
    "    plt.show()\n"
   ],
   "id": "6cbe6b6d4ff55c6d",
   "outputs": [],
   "execution_count": 116
  },
  {
   "metadata": {
    "ExecuteTime": {
     "end_time": "2025-01-05T17:01:07.578396Z",
     "start_time": "2025-01-05T17:01:07.460595Z"
    }
   },
   "cell_type": "code",
   "source": "plot_scatter_scores(df)",
   "id": "e15bc15164d74a22",
   "outputs": [
    {
     "data": {
      "text/plain": [
       "<Figure size 1000x600 with 1 Axes>"
      ],
      "image/png": "[encoded data removed]"
     },
     "metadata": {},
     "output_type": "display_data"
    }
   ],
   "execution_count": 117
  },
  {
   "metadata": {},
   "cell_type": "code",
   "outputs": [],
   "execution_count": null,
   "source": "",
   "id": "235e5cdbd00bda82"
  },
  {
   "metadata": {},
   "cell_type": "code",
   "outputs": [],
   "execution_count": null,
   "source": "",
   "id": "88ba321458c5bafc"
  },
  {
   "metadata": {},
   "cell_type": "code",
   "outputs": [],
   "execution_count": null,
   "source": "",
   "id": "c6ebb7a5ee5a7096"
  }
 ],
 "metadata": {
  "kernelspec": {
   "display_name": "Python 3",
   "language": "python",
   "name": "python3"
  },
  "language_info": {
   "codemirror_mode": {
    "name": "ipython",
    "version": 2
   },
   "file_extension": ".py",
   "mimetype": "text/x-python",
   "name": "python",
   "nbconvert_exporter": "python",
   "pygments_lexer": "ipython2",
   "version": "2.7.6"
  }
 },
 "nbformat": 4,
 "nbformat_minor": 5
}
