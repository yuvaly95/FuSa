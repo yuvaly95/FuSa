{
 "cells": [
  {
   "cell_type": "code",
   "id": "initial_id",
   "metadata": {
    "collapsed": true,
    "ExecuteTime": {
     "end_time": "2025-01-05T07:52:04.770951Z",
     "start_time": "2025-01-05T07:52:01.187688Z"
    }
   },
   "source": [
    "import pandas as pd\n",
    "import re"
   ],
   "outputs": [],
   "execution_count": 1
  },
  {
   "metadata": {},
   "cell_type": "markdown",
   "source": "### parse markdown",
   "id": "f265b11f0715ce6b"
  },
  {
   "metadata": {
    "ExecuteTime": {
     "end_time": "2024-12-18T09:03:24.970607Z",
     "start_time": "2024-12-18T09:03:24.961301Z"
    }
   },
   "cell_type": "code",
   "source": [
    "def parse_markdown_to_dataframe(filepath):\n",
    "    with open(filepath, 'r', encoding='utf-8') as file:\n",
    "        lines = file.readlines()\n",
    "    \n",
    "    data = []\n",
    "    current_number = None\n",
    "    current_heading = None\n",
    "    current_clause = []\n",
    "    \n",
    "    for line in lines:\n",
    "        line = line.strip()\n",
    "        \n",
    "        # Check if the line is a heading\n",
    "        if line.startswith(\"#\"):  \n",
    "            # Save the current clause if there's an active heading\n",
    "            if current_number is not None:\n",
    "                data.append((current_number, current_heading if current_heading else \"\", \" \".join(current_clause).strip()))\n",
    "            \n",
    "            # Extract clause number and heading text (if any)\n",
    "            match = re.match(r'#\\s*([\\d\\.]+)\\s*(.*)', line)\n",
    "            if match:\n",
    "                current_number = match.group(1)  # Clause number\n",
    "                current_heading = match.group(2).strip() if match.group(2) else \"\"  # Heading text (may be empty)\n",
    "                current_clause = []  # Start a new clause\n",
    "        elif line:  # If it's not a heading and not empty\n",
    "            current_clause.append(line)  # Add to the current clause\n",
    "    \n",
    "    # Add the last clause to the DataFrame\n",
    "    if current_number is not None:\n",
    "        data.append((current_number, current_heading if current_heading else \"\", \" \".join(current_clause).strip()))\n",
    "    \n",
    "    # Convert to DataFrame\n",
    "    df = pd.DataFrame(data, columns=[\"Number\", \"Heading\", \"Clause\"])\n",
    "    return df"
   ],
   "id": "194a56e5c1fae5ae",
   "outputs": [],
   "execution_count": 2
  },
  {
   "metadata": {
    "ExecuteTime": {
     "end_time": "2024-12-18T09:03:25.488007Z",
     "start_time": "2024-12-18T09:03:25.482679Z"
    }
   },
   "cell_type": "code",
   "source": [
    "import os\n",
    "from pathlib import Path\n",
    "src_dir = Path(os.getcwd()).parent\n",
    "data_dir_path = Path(src_dir, \"data\")\n",
    "md_path = Path(data_dir_path, \"ISO26262-8.md\")\n",
    "print(md_path)"
   ],
   "id": "a0c8b4a666602c8b",
   "outputs": [
    {
     "name": "stdout",
     "output_type": "stream",
     "text": [
      "C:\\Projects\\Technion\\FuSa\\src\\data\\ISO26262-8.md\n"
     ]
    }
   ],
   "execution_count": 3
  },
  {
   "metadata": {
    "ExecuteTime": {
     "end_time": "2024-12-18T09:03:25.614728Z",
     "start_time": "2024-12-18T09:03:25.591200Z"
    }
   },
   "cell_type": "code",
   "source": "df = parse_markdown_to_dataframe(md_path)",
   "id": "3ff0adf8552164c4",
   "outputs": [],
   "execution_count": 4
  },
  {
   "metadata": {
    "ExecuteTime": {
     "end_time": "2024-12-18T09:03:27.302262Z",
     "start_time": "2024-12-18T09:03:27.286696Z"
    }
   },
   "cell_type": "code",
   "source": "df.head(100)",
   "id": "6077fb0bdccf6ec0",
   "outputs": [
    {
     "data": {
      "text/plain": [
       "        Number                          Heading  \\\n",
       "0            1                            Scope   \n",
       "1            2             Normative references   \n",
       "2            3            Terms and definitions   \n",
       "3            4      Requirements for compliance   \n",
       "4          4.1                          Purpose   \n",
       "..         ...                              ...   \n",
       "95    14.4.5.2  Target values for proven in use   \n",
       "96  14.4.5.2.1                                    \n",
       "97  14.4.5.2.2                                    \n",
       "98  14.4.5.2.3                                    \n",
       "99  14.4.5.2.4                                    \n",
       "\n",
       "                                               Clause  \n",
       "0   This document is intended to be applied to saf...  \n",
       "1   The following documents are referred to in the...  \n",
       "2   For the purposes of this document, the terms, ...  \n",
       "3                                                      \n",
       "4   This clause describes how: - a) to achieve com...  \n",
       "..                                                ...  \n",
       "95  NOTE When any ASIL is not yet assigned to the ...  \n",
       "96  The rationale for the calculation of the evalu...  \n",
       "97  The evaluation period of the candidate shall r...  \n",
       "98  The observation period of each specimen with t...  \n",
       "99  For a proven in use status to be obtained by t...  \n",
       "\n",
       "[100 rows x 3 columns]"
      ],
      "text/html": [
       "<div>\n",
       "<style scoped>\n",
       "    .dataframe tbody tr th:only-of-type {\n",
       "        vertical-align: middle;\n",
       "    }\n",
       "\n",
       "    .dataframe tbody tr th {\n",
       "        vertical-align: top;\n",
       "    }\n",
       "\n",
       "    .dataframe thead th {\n",
       "        text-align: right;\n",
       "    }\n",
       "</style>\n",
       "<table border=\"1\" class=\"dataframe\">\n",
       "  <thead>\n",
       "    <tr style=\"text-align: right;\">\n",
       "      <th></th>\n",
       "      <th>Number</th>\n",
       "      <th>Heading</th>\n",
       "      <th>Clause</th>\n",
       "    </tr>\n",
       "  </thead>\n",
       "  <tbody>\n",
       "    <tr>\n",
       "      <th>0</th>\n",
       "      <td>1</td>\n",
       "      <td>Scope</td>\n",
       "      <td>This document is intended to be applied to saf...</td>\n",
       "    </tr>\n",
       "    <tr>\n",
       "      <th>1</th>\n",
       "      <td>2</td>\n",
       "      <td>Normative references</td>\n",
       "      <td>The following documents are referred to in the...</td>\n",
       "    </tr>\n",
       "    <tr>\n",
       "      <th>2</th>\n",
       "      <td>3</td>\n",
       "      <td>Terms and definitions</td>\n",
       "      <td>For the purposes of this document, the terms, ...</td>\n",
       "    </tr>\n",
       "    <tr>\n",
       "      <th>3</th>\n",
       "      <td>4</td>\n",
       "      <td>Requirements for compliance</td>\n",
       "      <td></td>\n",
       "    </tr>\n",
       "    <tr>\n",
       "      <th>4</th>\n",
       "      <td>4.1</td>\n",
       "      <td>Purpose</td>\n",
       "      <td>This clause describes how: - a) to achieve com...</td>\n",
       "    </tr>\n",
       "    <tr>\n",
       "      <th>...</th>\n",
       "      <td>...</td>\n",
       "      <td>...</td>\n",
       "      <td>...</td>\n",
       "    </tr>\n",
       "    <tr>\n",
       "      <th>95</th>\n",
       "      <td>14.4.5.2</td>\n",
       "      <td>Target values for proven in use</td>\n",
       "      <td>NOTE When any ASIL is not yet assigned to the ...</td>\n",
       "    </tr>\n",
       "    <tr>\n",
       "      <th>96</th>\n",
       "      <td>14.4.5.2.1</td>\n",
       "      <td></td>\n",
       "      <td>The rationale for the calculation of the evalu...</td>\n",
       "    </tr>\n",
       "    <tr>\n",
       "      <th>97</th>\n",
       "      <td>14.4.5.2.2</td>\n",
       "      <td></td>\n",
       "      <td>The evaluation period of the candidate shall r...</td>\n",
       "    </tr>\n",
       "    <tr>\n",
       "      <th>98</th>\n",
       "      <td>14.4.5.2.3</td>\n",
       "      <td></td>\n",
       "      <td>The observation period of each specimen with t...</td>\n",
       "    </tr>\n",
       "    <tr>\n",
       "      <th>99</th>\n",
       "      <td>14.4.5.2.4</td>\n",
       "      <td></td>\n",
       "      <td>For a proven in use status to be obtained by t...</td>\n",
       "    </tr>\n",
       "  </tbody>\n",
       "</table>\n",
       "<p>100 rows × 3 columns</p>\n",
       "</div>"
      ]
     },
     "execution_count": 5,
     "metadata": {},
     "output_type": "execute_result"
    }
   ],
   "execution_count": 5
  },
  {
   "metadata": {
    "ExecuteTime": {
     "end_time": "2024-12-15T11:48:38.117358Z",
     "start_time": "2024-12-15T11:48:38.111106Z"
    }
   },
   "cell_type": "code",
   "source": "len(df)",
   "id": "247d7f40ad56ea1a",
   "outputs": [
    {
     "data": {
      "text/plain": [
       "139"
      ]
     },
     "execution_count": 52,
     "metadata": {},
     "output_type": "execute_result"
    }
   ],
   "execution_count": 52
  },
  {
   "metadata": {},
   "cell_type": "markdown",
   "source": "### Save dataframe",
   "id": "62a705f78bd6aa2c"
  },
  {
   "metadata": {
    "ExecuteTime": {
     "end_time": "2024-12-15T11:54:44.013925Z",
     "start_time": "2024-12-15T11:54:44.009180Z"
    }
   },
   "cell_type": "code",
   "source": [
    "csv_path = Path(data_dir_path, \"ISO26262-8_df.csv\")\n",
    "print(csv_path)"
   ],
   "id": "4504b3f86b2d6dfd",
   "outputs": [
    {
     "name": "stdout",
     "output_type": "stream",
     "text": [
      "C:\\Projects\\Technion\\FuSa\\src\\data\\ISO26262-8_df.csv\n"
     ]
    }
   ],
   "execution_count": 56
  },
  {
   "metadata": {
    "ExecuteTime": {
     "end_time": "2024-12-15T11:54:15.523781Z",
     "start_time": "2024-12-15T11:54:15.508607Z"
    }
   },
   "cell_type": "code",
   "source": "df.to_csv(csv_path)",
   "id": "f321d0838883b184",
   "outputs": [],
   "execution_count": 54
  },
  {
   "metadata": {},
   "cell_type": "code",
   "outputs": [],
   "execution_count": null,
   "source": "",
   "id": "a1a2c20d5d7e912e"
  }
 ],
 "metadata": {
  "kernelspec": {
   "display_name": "Python 3",
   "language": "python",
   "name": "python3"
  },
  "language_info": {
   "codemirror_mode": {
    "name": "ipython",
    "version": 2
   },
   "file_extension": ".py",
   "mimetype": "text/x-python",
   "name": "python",
   "nbconvert_exporter": "python",
   "pygments_lexer": "ipython2",
   "version": "2.7.6"
  }
 },
 "nbformat": 4,
 "nbformat_minor": 5
}
