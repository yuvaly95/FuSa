{
 "cells": [
  {
   "cell_type": "code",
   "id": "initial_id",
   "metadata": {
    "collapsed": true,
    "ExecuteTime": {
     "end_time": "2025-02-24T14:33:06.301212Z",
     "start_time": "2025-02-24T14:33:06.296916Z"
    }
   },
   "source": [
    "import pandas as pd\n",
    "from sentence_transformers import SentenceTransformer\n",
    "from sklearn.metrics.pairwise import cosine_similarity\n",
    "from transformers import pipeline\n",
    "from functools import lru_cache\n",
    "import evaluate\n",
    "from tqdm import tqdm"
   ],
   "outputs": [],
   "execution_count": 2
  },
  {
   "metadata": {
    "ExecuteTime": {
     "end_time": "2025-02-24T14:33:09.326168Z",
     "start_time": "2025-02-24T14:33:09.321163Z"
    }
   },
   "cell_type": "code",
   "source": [
    "@lru_cache(maxsize=512)\n",
    "def generate_clause_heading_pipeline_single(clause, summarizer, max_length=6, min_length=2, max_input_length = 512):\n",
    "    \"\"\"\n",
    "    Generate a heading for a single clause using the summarization pipeline.\n",
    "    Args:\n",
    "        clause (str): A single clause text.\n",
    "        summarizer (pipeline): Hugging Face summarization pipeline.\n",
    "        max_length (int): Maximum length of the generated heading.\n",
    "        min_length (int): Minimum length of the generated heading.\n",
    "        max_input_length(int): Maximum length of the input text.\n",
    "    Returns:\n",
    "        str: The generated heading.\n",
    "    \"\"\"\n",
    "    tokenized_length = len(clause.split())\n",
    "\n",
    "    # Truncate the clause if it's too long\n",
    "    if tokenized_length > max_input_length:\n",
    "        clause = \" \".join(clause.split()[:max_input_length])\n",
    "\n",
    "    # Generate the summary\n",
    "    try:\n",
    "        summary = summarizer(clause, max_length=max_length, min_length=min_length, do_sample=False)[0][\"summary_text\"]\n",
    "    except Exception as e:\n",
    "        return f\"Error generating heading: {str(e)}\"\n",
    "\n",
    "    return summary"
   ],
   "id": "216d748a91f47637",
   "outputs": [],
   "execution_count": 3
  },
  {
   "metadata": {},
   "cell_type": "markdown",
   "source": "### Sanity",
   "id": "e421342187c2760a"
  },
  {
   "metadata": {
    "ExecuteTime": {
     "end_time": "2025-02-24T14:33:17.803623Z",
     "start_time": "2025-02-24T14:33:17.799629Z"
    }
   },
   "cell_type": "code",
   "source": [
    "clauses = [\n",
    "    \"The system shall detect and report any failure in the primary sensor within 10 milliseconds to avoid false readings.\",\n",
    "    \"All redundant control channels must undergo cross-verification every 5 seconds to ensure functional safety and prevent system failure.\",\n",
    "    \"Software components handling safety-critical tasks must log events and errors in compliance with ISO 26262 Part 6, Section 9.\"\n",
    "]"
   ],
   "id": "a807db7cd47771cb",
   "outputs": [],
   "execution_count": 4
  },
  {
   "metadata": {
    "ExecuteTime": {
     "end_time": "2025-02-24T14:33:22.349164Z",
     "start_time": "2025-02-24T14:33:18.153004Z"
    }
   },
   "cell_type": "code",
   "source": "summarizer = pipeline(\"summarization\", model=\"google/pegasus-xsum\")",
   "id": "e3811ede2033ab36",
   "outputs": [
    {
     "name": "stderr",
     "output_type": "stream",
     "text": [
      "Some weights of PegasusForConditionalGeneration were not initialized from the model checkpoint at google/pegasus-xsum and are newly initialized: ['model.decoder.embed_positions.weight', 'model.encoder.embed_positions.weight']\n",
      "You should probably TRAIN this model on a down-stream task to be able to use it for predictions and inference.\n",
      "Device set to use cpu\n"
     ]
    }
   ],
   "execution_count": 5
  },
  {
   "metadata": {
    "ExecuteTime": {
     "end_time": "2025-02-24T14:33:27.857605Z",
     "start_time": "2025-02-24T14:33:26.617919Z"
    }
   },
   "cell_type": "code",
   "source": [
    "heading = generate_clause_heading_pipeline_single(clauses[0], summarizer= summarizer)\n",
    "print(f\"{heading}\")"
   ],
   "id": "2d84abb5d3de454c",
   "outputs": [
    {
     "name": "stdout",
     "output_type": "stream",
     "text": [
      "The purpose of this\n"
     ]
    }
   ],
   "execution_count": 6
  },
  {
   "metadata": {
    "ExecuteTime": {
     "end_time": "2025-02-24T14:33:28.091778Z",
     "start_time": "2025-02-24T14:33:27.964607Z"
    }
   },
   "cell_type": "code",
   "source": "from keybert import KeyBERT",
   "id": "9fa65eb02c7bd5ad",
   "outputs": [],
   "execution_count": 7
  },
  {
   "metadata": {
    "ExecuteTime": {
     "end_time": "2025-02-24T14:33:28.789106Z",
     "start_time": "2025-02-24T14:33:28.781940Z"
    }
   },
   "cell_type": "code",
   "source": [
    "# Function to generate keyword-based heading for a single clause\n",
    "def generate_keyword_heading(clause, num_kw=5, num_kw_to_return=1, kw_model: KeyBERT = None):\n",
    "    \"\"\"\n",
    "    Generate a keyword-based heading for a single clause.\n",
    "    \n",
    "    Args:\n",
    "        clause (str): The clause text.\n",
    "        num_keywords (int): Number of keywords to extract for the heading.\n",
    "        \n",
    "    Returns:\n",
    "        str: A keyword-based heading.\n",
    "    \"\"\"\n",
    "    \n",
    "    keywords = kw_model.extract_keywords(clause, keyphrase_ngram_range=(1, 3), top_n=num_kw)\n",
    "    \n",
    "    keywords_text = \", \".join([kw[0] for kw in keywords[:num_kw_to_return]])  # Join top keywords into a heading\n",
    "    return keywords_text"
   ],
   "id": "c2c64b1958ac702",
   "outputs": [],
   "execution_count": 8
  },
  {
   "metadata": {
    "ExecuteTime": {
     "end_time": "2025-02-24T14:33:32.391901Z",
     "start_time": "2025-02-24T14:33:30.181248Z"
    }
   },
   "cell_type": "code",
   "source": [
    "model = KeyBERT('all-MiniLM-L6-v2')\n",
    "heading = generate_keyword_heading(clauses[0], num_kw=3, num_kw_to_return=1, kw_model=model)\n",
    "print(f\"{heading}\")"
   ],
   "id": "55def7224541bb92",
   "outputs": [
    {
     "name": "stdout",
     "output_type": "stream",
     "text": [
      "failure primary sensor\n"
     ]
    }
   ],
   "execution_count": 9
  },
  {
   "metadata": {},
   "cell_type": "markdown",
   "source": "### Load data",
   "id": "8c8d0019fb9d2035"
  },
  {
   "metadata": {
    "ExecuteTime": {
     "end_time": "2025-02-24T14:33:59.888593Z",
     "start_time": "2025-02-24T14:33:59.884527Z"
    }
   },
   "cell_type": "code",
   "source": "from pathlib import Path",
   "id": "d48f7ccc0698c158",
   "outputs": [],
   "execution_count": 12
  },
  {
   "metadata": {
    "ExecuteTime": {
     "end_time": "2025-02-24T14:35:23.761771Z",
     "start_time": "2025-02-24T14:35:23.757684Z"
    }
   },
   "cell_type": "code",
   "source": "data_dir = Path().cwd().parent.parent.joinpath('sagemaker', 'data')",
   "id": "47981d6f785032fc",
   "outputs": [],
   "execution_count": 14
  },
  {
   "metadata": {
    "ExecuteTime": {
     "end_time": "2025-02-24T14:35:36.007607Z",
     "start_time": "2025-02-24T14:35:36.003608Z"
    }
   },
   "cell_type": "code",
   "source": "file_path = data_dir.joinpath('parsed_docs_w_tags.csv')",
   "id": "583b948cbdee30ad",
   "outputs": [],
   "execution_count": 15
  },
  {
   "metadata": {
    "ExecuteTime": {
     "end_time": "2025-02-24T14:40:49.456793Z",
     "start_time": "2025-02-24T14:40:49.444639Z"
    }
   },
   "cell_type": "code",
   "source": "df = pd.read_csv(file_path, index_col=0)",
   "id": "78dd0b722367cae7",
   "outputs": [],
   "execution_count": 22
  },
  {
   "metadata": {
    "ExecuteTime": {
     "end_time": "2025-02-24T14:40:50.536250Z",
     "start_time": "2025-02-24T14:40:50.527253Z"
    }
   },
   "cell_type": "code",
   "source": "df.head()",
   "id": "bea9442a29e21edc",
   "outputs": [
    {
     "data": {
      "text/plain": [
       "  Document Clause Number Clause Heading  \\\n",
       "0  EN50128             1          Scope   \n",
       "1  EN50128           1.1            NaN   \n",
       "2  EN50128           1.2            NaN   \n",
       "3  EN50128           1.3            NaN   \n",
       "4  EN50128           1.4            NaN   \n",
       "\n",
       "                                         Clause Text Human Heading Tag  \n",
       "0                                                NaN         Scope   u  \n",
       "1  This European Standard specifies the process a...         SCOPE   s  \n",
       "2  This European Standard is applicable exclusive...         SCOPE   s  \n",
       "3  This European Standard is not relevant for sof...         SCOPE   s  \n",
       "4  This European Standard applies to all safety r...         SCOPE   s  "
      ],
      "text/html": [
       "<div>\n",
       "<style scoped>\n",
       "    .dataframe tbody tr th:only-of-type {\n",
       "        vertical-align: middle;\n",
       "    }\n",
       "\n",
       "    .dataframe tbody tr th {\n",
       "        vertical-align: top;\n",
       "    }\n",
       "\n",
       "    .dataframe thead th {\n",
       "        text-align: right;\n",
       "    }\n",
       "</style>\n",
       "<table border=\"1\" class=\"dataframe\">\n",
       "  <thead>\n",
       "    <tr style=\"text-align: right;\">\n",
       "      <th></th>\n",
       "      <th>Document</th>\n",
       "      <th>Clause Number</th>\n",
       "      <th>Clause Heading</th>\n",
       "      <th>Clause Text</th>\n",
       "      <th>Human Heading</th>\n",
       "      <th>Tag</th>\n",
       "    </tr>\n",
       "  </thead>\n",
       "  <tbody>\n",
       "    <tr>\n",
       "      <th>0</th>\n",
       "      <td>EN50128</td>\n",
       "      <td>1</td>\n",
       "      <td>Scope</td>\n",
       "      <td>NaN</td>\n",
       "      <td>Scope</td>\n",
       "      <td>u</td>\n",
       "    </tr>\n",
       "    <tr>\n",
       "      <th>1</th>\n",
       "      <td>EN50128</td>\n",
       "      <td>1.1</td>\n",
       "      <td>NaN</td>\n",
       "      <td>This European Standard specifies the process a...</td>\n",
       "      <td>SCOPE</td>\n",
       "      <td>s</td>\n",
       "    </tr>\n",
       "    <tr>\n",
       "      <th>2</th>\n",
       "      <td>EN50128</td>\n",
       "      <td>1.2</td>\n",
       "      <td>NaN</td>\n",
       "      <td>This European Standard is applicable exclusive...</td>\n",
       "      <td>SCOPE</td>\n",
       "      <td>s</td>\n",
       "    </tr>\n",
       "    <tr>\n",
       "      <th>3</th>\n",
       "      <td>EN50128</td>\n",
       "      <td>1.3</td>\n",
       "      <td>NaN</td>\n",
       "      <td>This European Standard is not relevant for sof...</td>\n",
       "      <td>SCOPE</td>\n",
       "      <td>s</td>\n",
       "    </tr>\n",
       "    <tr>\n",
       "      <th>4</th>\n",
       "      <td>EN50128</td>\n",
       "      <td>1.4</td>\n",
       "      <td>NaN</td>\n",
       "      <td>This European Standard applies to all safety r...</td>\n",
       "      <td>SCOPE</td>\n",
       "      <td>s</td>\n",
       "    </tr>\n",
       "  </tbody>\n",
       "</table>\n",
       "</div>"
      ]
     },
     "execution_count": 23,
     "metadata": {},
     "output_type": "execute_result"
    }
   ],
   "execution_count": 23
  },
  {
   "metadata": {
    "ExecuteTime": {
     "end_time": "2025-02-24T14:40:56.025300Z",
     "start_time": "2025-02-24T14:40:56.019726Z"
    }
   },
   "cell_type": "code",
   "source": "df.shape",
   "id": "c1c93090da500c89",
   "outputs": [
    {
     "data": {
      "text/plain": [
       "(846, 6)"
      ]
     },
     "execution_count": 24,
     "metadata": {},
     "output_type": "execute_result"
    }
   ],
   "execution_count": 24
  },
  {
   "metadata": {},
   "cell_type": "markdown",
   "source": "## Generate headings",
   "id": "73acad840c4525e9"
  },
  {
   "metadata": {
    "ExecuteTime": {
     "end_time": "2025-02-24T14:41:11.217783Z",
     "start_time": "2025-02-24T14:41:11.211332Z"
    }
   },
   "cell_type": "code",
   "source": [
    "df.dropna(subset=['Clause Text'], inplace=True)\n",
    "df.shape"
   ],
   "id": "f5f6daf7fca92a5a",
   "outputs": [
    {
     "data": {
      "text/plain": [
       "(716, 6)"
      ]
     },
     "execution_count": 25,
     "metadata": {},
     "output_type": "execute_result"
    }
   ],
   "execution_count": 25
  },
  {
   "metadata": {
    "ExecuteTime": {
     "end_time": "2025-02-24T14:41:55.569389Z",
     "start_time": "2025-02-24T14:41:55.561388Z"
    }
   },
   "cell_type": "code",
   "source": [
    "df.dropna(subset=['Human Heading'], inplace=True)\n",
    "df.shape"
   ],
   "id": "673e9dbcb4689633",
   "outputs": [
    {
     "data": {
      "text/plain": [
       "(716, 6)"
      ]
     },
     "execution_count": 26,
     "metadata": {},
     "output_type": "execute_result"
    }
   ],
   "execution_count": 26
  },
  {
   "metadata": {},
   "cell_type": "markdown",
   "source": "### keybert",
   "id": "55ca1c6f8d0d703f"
  },
  {
   "metadata": {
    "ExecuteTime": {
     "end_time": "2025-02-24T14:42:03.674067Z",
     "start_time": "2025-02-24T14:42:01.950444Z"
    }
   },
   "cell_type": "code",
   "source": "kw_model = KeyBERT('all-MiniLM-L6-v2')",
   "id": "37ca1f69985201b0",
   "outputs": [],
   "execution_count": 27
  },
  {
   "metadata": {
    "ExecuteTime": {
     "end_time": "2025-02-24T14:42:03.683356Z",
     "start_time": "2025-02-24T14:42:03.679202Z"
    }
   },
   "cell_type": "code",
   "source": "tqdm.pandas()",
   "id": "43cbb71271a4a011",
   "outputs": [],
   "execution_count": 28
  },
  {
   "metadata": {
    "ExecuteTime": {
     "end_time": "2025-02-24T14:45:20.048310Z",
     "start_time": "2025-02-24T14:42:18.461147Z"
    }
   },
   "cell_type": "code",
   "source": "df[\"Keybert-all-MiniLM-L6-v2\"] = df[\"Clause Text\"].progress_apply(lambda clause: generate_keyword_heading(str(clause), kw_model=kw_model))",
   "id": "2044b98eeba2dc73",
   "outputs": [
    {
     "name": "stderr",
     "output_type": "stream",
     "text": [
      "100%|██████████| 716/716 [03:01<00:00,  3.94it/s]\n"
     ]
    }
   ],
   "execution_count": 29
  },
  {
   "metadata": {
    "ExecuteTime": {
     "end_time": "2025-02-24T15:03:23.340455Z",
     "start_time": "2025-02-24T15:03:23.332415Z"
    }
   },
   "cell_type": "code",
   "source": "df.head()",
   "id": "94afc7e95e8b6e24",
   "outputs": [
    {
     "data": {
      "text/plain": [
       "  Document Clause Number Clause Heading  \\\n",
       "1  EN50128           1.1            NaN   \n",
       "2  EN50128           1.2            NaN   \n",
       "3  EN50128           1.3            NaN   \n",
       "4  EN50128           1.4            NaN   \n",
       "5  EN50128           1.5            NaN   \n",
       "\n",
       "                                         Clause Text Human Heading Tag  \\\n",
       "1  This European Standard specifies the process a...         SCOPE   s   \n",
       "2  This European Standard is applicable exclusive...         SCOPE   s   \n",
       "3  This European Standard is not relevant for sof...         SCOPE   s   \n",
       "4  This European Standard applies to all safety r...         SCOPE   s   \n",
       "5  This European Standard also addresses the use ...         SCOPE   s   \n",
       "\n",
       "       Keybert-all-MiniLM-L6-v2  \n",
       "1    railway control protection  \n",
       "2  european standard applicable  \n",
       "3      safety software failures  \n",
       "4         software used railway  \n",
       "5         pre existing software  "
      ],
      "text/html": [
       "<div>\n",
       "<style scoped>\n",
       "    .dataframe tbody tr th:only-of-type {\n",
       "        vertical-align: middle;\n",
       "    }\n",
       "\n",
       "    .dataframe tbody tr th {\n",
       "        vertical-align: top;\n",
       "    }\n",
       "\n",
       "    .dataframe thead th {\n",
       "        text-align: right;\n",
       "    }\n",
       "</style>\n",
       "<table border=\"1\" class=\"dataframe\">\n",
       "  <thead>\n",
       "    <tr style=\"text-align: right;\">\n",
       "      <th></th>\n",
       "      <th>Document</th>\n",
       "      <th>Clause Number</th>\n",
       "      <th>Clause Heading</th>\n",
       "      <th>Clause Text</th>\n",
       "      <th>Human Heading</th>\n",
       "      <th>Tag</th>\n",
       "      <th>Keybert-all-MiniLM-L6-v2</th>\n",
       "    </tr>\n",
       "  </thead>\n",
       "  <tbody>\n",
       "    <tr>\n",
       "      <th>1</th>\n",
       "      <td>EN50128</td>\n",
       "      <td>1.1</td>\n",
       "      <td>NaN</td>\n",
       "      <td>This European Standard specifies the process a...</td>\n",
       "      <td>SCOPE</td>\n",
       "      <td>s</td>\n",
       "      <td>railway control protection</td>\n",
       "    </tr>\n",
       "    <tr>\n",
       "      <th>2</th>\n",
       "      <td>EN50128</td>\n",
       "      <td>1.2</td>\n",
       "      <td>NaN</td>\n",
       "      <td>This European Standard is applicable exclusive...</td>\n",
       "      <td>SCOPE</td>\n",
       "      <td>s</td>\n",
       "      <td>european standard applicable</td>\n",
       "    </tr>\n",
       "    <tr>\n",
       "      <th>3</th>\n",
       "      <td>EN50128</td>\n",
       "      <td>1.3</td>\n",
       "      <td>NaN</td>\n",
       "      <td>This European Standard is not relevant for sof...</td>\n",
       "      <td>SCOPE</td>\n",
       "      <td>s</td>\n",
       "      <td>safety software failures</td>\n",
       "    </tr>\n",
       "    <tr>\n",
       "      <th>4</th>\n",
       "      <td>EN50128</td>\n",
       "      <td>1.4</td>\n",
       "      <td>NaN</td>\n",
       "      <td>This European Standard applies to all safety r...</td>\n",
       "      <td>SCOPE</td>\n",
       "      <td>s</td>\n",
       "      <td>software used railway</td>\n",
       "    </tr>\n",
       "    <tr>\n",
       "      <th>5</th>\n",
       "      <td>EN50128</td>\n",
       "      <td>1.5</td>\n",
       "      <td>NaN</td>\n",
       "      <td>This European Standard also addresses the use ...</td>\n",
       "      <td>SCOPE</td>\n",
       "      <td>s</td>\n",
       "      <td>pre existing software</td>\n",
       "    </tr>\n",
       "  </tbody>\n",
       "</table>\n",
       "</div>"
      ]
     },
     "execution_count": 31,
     "metadata": {},
     "output_type": "execute_result"
    }
   ],
   "execution_count": 31
  },
  {
   "metadata": {},
   "cell_type": "markdown",
   "source": "### pegasus",
   "id": "1cab958c12c41318"
  },
  {
   "metadata": {
    "ExecuteTime": {
     "end_time": "2025-02-24T15:04:03.655091Z",
     "start_time": "2025-02-24T15:03:58.663197Z"
    }
   },
   "cell_type": "code",
   "source": "pegasus_summarizer = pipeline(\"summarization\", model=\"google/pegasus-xsum\")",
   "id": "550ea70670bfdaf9",
   "outputs": [
    {
     "name": "stderr",
     "output_type": "stream",
     "text": [
      "Some weights of PegasusForConditionalGeneration were not initialized from the model checkpoint at google/pegasus-xsum and are newly initialized: ['model.decoder.embed_positions.weight', 'model.encoder.embed_positions.weight']\n",
      "You should probably TRAIN this model on a down-stream task to be able to use it for predictions and inference.\n",
      "Device set to use cpu\n"
     ]
    }
   ],
   "execution_count": 32
  },
  {
   "metadata": {
    "ExecuteTime": {
     "end_time": "2025-02-24T16:09:37.873848Z",
     "start_time": "2025-02-24T15:04:20.706070Z"
    }
   },
   "cell_type": "code",
   "source": "df[\"summarizer-pegasus-xsum\"] = df[\"Clause Text\"].progress_apply(lambda clause: generate_clause_heading_pipeline_single(clause, pegasus_summarizer, max_length=20, min_length=1))",
   "id": "b9062a18c8fa5992",
   "outputs": [
    {
     "name": "stderr",
     "output_type": "stream",
     "text": [
      "  2%|▏         | 11/716 [00:25<30:40,  2.61s/it]Your max_length is set to 20, but your input_length is only 15. Since this is a summarization task, where outputs shorter than the input are typically wanted, you might consider decreasing max_length manually, e.g. summarizer('...', max_length=7)\n",
      "  2%|▏         | 13/716 [00:29<28:51,  2.46s/it]Your max_length is set to 20, but your input_length is only 7. Since this is a summarization task, where outputs shorter than the input are typically wanted, you might consider decreasing max_length manually, e.g. summarizer('...', max_length=3)\n",
      "  2%|▏         | 17/716 [00:38<26:34,  2.28s/it]Your max_length is set to 20, but your input_length is only 13. Since this is a summarization task, where outputs shorter than the input are typically wanted, you might consider decreasing max_length manually, e.g. summarizer('...', max_length=6)\n",
      "  3%|▎         | 18/716 [00:41<27:29,  2.36s/it]Your max_length is set to 20, but your input_length is only 19. Since this is a summarization task, where outputs shorter than the input are typically wanted, you might consider decreasing max_length manually, e.g. summarizer('...', max_length=9)\n",
      "  3%|▎         | 19/716 [00:43<27:57,  2.41s/it]Your max_length is set to 20, but your input_length is only 17. Since this is a summarization task, where outputs shorter than the input are typically wanted, you might consider decreasing max_length manually, e.g. summarizer('...', max_length=8)\n",
      "  3%|▎         | 21/716 [00:48<28:41,  2.48s/it]Your max_length is set to 20, but your input_length is only 8. Since this is a summarization task, where outputs shorter than the input are typically wanted, you might consider decreasing max_length manually, e.g. summarizer('...', max_length=4)\n",
      "  3%|▎         | 25/716 [01:10<1:01:20,  5.33s/it]Your max_length is set to 20, but your input_length is only 10. Since this is a summarization task, where outputs shorter than the input are typically wanted, you might consider decreasing max_length manually, e.g. summarizer('...', max_length=5)\n",
      "  4%|▍         | 27/716 [01:24<1:12:40,  6.33s/it]Your max_length is set to 20, but your input_length is only 7. Since this is a summarization task, where outputs shorter than the input are typically wanted, you might consider decreasing max_length manually, e.g. summarizer('...', max_length=3)\n",
      "  4%|▍         | 29/716 [01:40<1:20:02,  6.99s/it]Your max_length is set to 20, but your input_length is only 16. Since this is a summarization task, where outputs shorter than the input are typically wanted, you might consider decreasing max_length manually, e.g. summarizer('...', max_length=8)\n",
      "  4%|▍         | 31/716 [01:53<1:16:54,  6.74s/it]Your max_length is set to 20, but your input_length is only 14. Since this is a summarization task, where outputs shorter than the input are typically wanted, you might consider decreasing max_length manually, e.g. summarizer('...', max_length=7)\n",
      "  4%|▍         | 32/716 [02:01<1:21:20,  7.13s/it]Your max_length is set to 20, but your input_length is only 7. Since this is a summarization task, where outputs shorter than the input are typically wanted, you might consider decreasing max_length manually, e.g. summarizer('...', max_length=3)\n",
      "  5%|▍         | 33/716 [02:09<1:24:23,  7.41s/it]Your max_length is set to 20, but your input_length is only 19. Since this is a summarization task, where outputs shorter than the input are typically wanted, you might consider decreasing max_length manually, e.g. summarizer('...', max_length=9)\n",
      "  5%|▍         | 34/716 [02:16<1:22:59,  7.30s/it]Your max_length is set to 20, but your input_length is only 11. Since this is a summarization task, where outputs shorter than the input are typically wanted, you might consider decreasing max_length manually, e.g. summarizer('...', max_length=5)\n",
      "  5%|▍         | 35/716 [02:23<1:22:06,  7.23s/it]Your max_length is set to 20, but your input_length is only 7. Since this is a summarization task, where outputs shorter than the input are typically wanted, you might consider decreasing max_length manually, e.g. summarizer('...', max_length=3)\n",
      "  5%|▌         | 38/716 [02:30<45:12,  4.00s/it]  Your max_length is set to 20, but your input_length is only 11. Since this is a summarization task, where outputs shorter than the input are typically wanted, you might consider decreasing max_length manually, e.g. summarizer('...', max_length=5)\n",
      "  5%|▌         | 39/716 [02:32<38:42,  3.43s/it]Your max_length is set to 20, but your input_length is only 17. Since this is a summarization task, where outputs shorter than the input are typically wanted, you might consider decreasing max_length manually, e.g. summarizer('...', max_length=8)\n",
      "  6%|▌         | 40/716 [02:34<34:20,  3.05s/it]Your max_length is set to 20, but your input_length is only 13. Since this is a summarization task, where outputs shorter than the input are typically wanted, you might consider decreasing max_length manually, e.g. summarizer('...', max_length=6)\n",
      "  6%|▌         | 41/716 [02:36<31:04,  2.76s/it]Your max_length is set to 20, but your input_length is only 6. Since this is a summarization task, where outputs shorter than the input are typically wanted, you might consider decreasing max_length manually, e.g. summarizer('...', max_length=3)\n",
      "  6%|▌         | 44/716 [02:43<26:52,  2.40s/it]Your max_length is set to 20, but your input_length is only 17. Since this is a summarization task, where outputs shorter than the input are typically wanted, you might consider decreasing max_length manually, e.g. summarizer('...', max_length=8)\n",
      "  7%|▋         | 49/716 [02:54<24:38,  2.22s/it]Your max_length is set to 20, but your input_length is only 18. Since this is a summarization task, where outputs shorter than the input are typically wanted, you might consider decreasing max_length manually, e.g. summarizer('...', max_length=9)\n",
      "  7%|▋         | 51/716 [02:58<24:02,  2.17s/it]Your max_length is set to 20, but your input_length is only 7. Since this is a summarization task, where outputs shorter than the input are typically wanted, you might consider decreasing max_length manually, e.g. summarizer('...', max_length=3)\n",
      "  8%|▊         | 58/716 [03:22<49:31,  4.52s/it]Your max_length is set to 20, but your input_length is only 8. Since this is a summarization task, where outputs shorter than the input are typically wanted, you might consider decreasing max_length manually, e.g. summarizer('...', max_length=4)\n",
      "  8%|▊         | 60/716 [03:36<1:04:29,  5.90s/it]Your max_length is set to 20, but your input_length is only 11. Since this is a summarization task, where outputs shorter than the input are typically wanted, you might consider decreasing max_length manually, e.g. summarizer('...', max_length=5)\n",
      " 10%|█         | 74/716 [04:55<29:22,  2.75s/it]  Your max_length is set to 20, but your input_length is only 13. Since this is a summarization task, where outputs shorter than the input are typically wanted, you might consider decreasing max_length manually, e.g. summarizer('...', max_length=6)\n",
      " 11%|█         | 76/716 [04:59<25:58,  2.44s/it]Your max_length is set to 20, but your input_length is only 17. Since this is a summarization task, where outputs shorter than the input are typically wanted, you might consider decreasing max_length manually, e.g. summarizer('...', max_length=8)\n",
      " 11%|█         | 78/716 [05:03<24:25,  2.30s/it]Your max_length is set to 20, but your input_length is only 10. Since this is a summarization task, where outputs shorter than the input are typically wanted, you might consider decreasing max_length manually, e.g. summarizer('...', max_length=5)\n",
      " 11%|█         | 79/716 [05:05<23:46,  2.24s/it]Your max_length is set to 20, but your input_length is only 15. Since this is a summarization task, where outputs shorter than the input are typically wanted, you might consider decreasing max_length manually, e.g. summarizer('...', max_length=7)\n",
      " 11%|█         | 80/716 [05:07<23:00,  2.17s/it]Your max_length is set to 20, but your input_length is only 15. Since this is a summarization task, where outputs shorter than the input are typically wanted, you might consider decreasing max_length manually, e.g. summarizer('...', max_length=7)\n",
      " 13%|█▎        | 92/716 [06:14<1:19:10,  7.61s/it]Your max_length is set to 20, but your input_length is only 14. Since this is a summarization task, where outputs shorter than the input are typically wanted, you might consider decreasing max_length manually, e.g. summarizer('...', max_length=7)\n",
      " 13%|█▎        | 93/716 [06:22<1:19:58,  7.70s/it]Your max_length is set to 20, but your input_length is only 16. Since this is a summarization task, where outputs shorter than the input are typically wanted, you might consider decreasing max_length manually, e.g. summarizer('...', max_length=8)\n",
      " 13%|█▎        | 95/716 [06:35<1:15:36,  7.31s/it]Your max_length is set to 20, but your input_length is only 17. Since this is a summarization task, where outputs shorter than the input are typically wanted, you might consider decreasing max_length manually, e.g. summarizer('...', max_length=8)\n",
      " 13%|█▎        | 96/716 [06:44<1:18:12,  7.57s/it]Your max_length is set to 20, but your input_length is only 17. Since this is a summarization task, where outputs shorter than the input are typically wanted, you might consider decreasing max_length manually, e.g. summarizer('...', max_length=8)\n",
      " 14%|█▍        | 99/716 [07:02<1:02:42,  6.10s/it]Your max_length is set to 20, but your input_length is only 17. Since this is a summarization task, where outputs shorter than the input are typically wanted, you might consider decreasing max_length manually, e.g. summarizer('...', max_length=8)\n",
      " 14%|█▍        | 103/716 [07:11<33:49,  3.31s/it] Your max_length is set to 20, but your input_length is only 19. Since this is a summarization task, where outputs shorter than the input are typically wanted, you might consider decreasing max_length manually, e.g. summarizer('...', max_length=9)\n",
      " 15%|█▌        | 109/716 [07:29<32:30,  3.21s/it]Your max_length is set to 20, but your input_length is only 18. Since this is a summarization task, where outputs shorter than the input are typically wanted, you might consider decreasing max_length manually, e.g. summarizer('...', max_length=9)\n",
      " 16%|█▋        | 117/716 [08:03<1:02:10,  6.23s/it]Your max_length is set to 20, but your input_length is only 11. Since this is a summarization task, where outputs shorter than the input are typically wanted, you might consider decreasing max_length manually, e.g. summarizer('...', max_length=5)\n",
      " 19%|█▉        | 135/716 [09:45<30:26,  3.14s/it]  Your max_length is set to 20, but your input_length is only 15. Since this is a summarization task, where outputs shorter than the input are typically wanted, you might consider decreasing max_length manually, e.g. summarizer('...', max_length=7)\n",
      " 19%|█▉        | 136/716 [09:47<27:58,  2.89s/it]Your max_length is set to 20, but your input_length is only 16. Since this is a summarization task, where outputs shorter than the input are typically wanted, you might consider decreasing max_length manually, e.g. summarizer('...', max_length=8)\n",
      " 20%|██        | 144/716 [10:09<26:23,  2.77s/it]Your max_length is set to 20, but your input_length is only 15. Since this is a summarization task, where outputs shorter than the input are typically wanted, you might consider decreasing max_length manually, e.g. summarizer('...', max_length=7)\n",
      " 20%|██        | 145/716 [10:11<25:06,  2.64s/it]Your max_length is set to 20, but your input_length is only 13. Since this is a summarization task, where outputs shorter than the input are typically wanted, you might consider decreasing max_length manually, e.g. summarizer('...', max_length=6)\n",
      " 20%|██        | 146/716 [10:14<25:18,  2.66s/it]Your max_length is set to 20, but your input_length is only 16. Since this is a summarization task, where outputs shorter than the input are typically wanted, you might consider decreasing max_length manually, e.g. summarizer('...', max_length=8)\n",
      " 21%|██        | 151/716 [10:56<1:17:33,  8.24s/it]Your max_length is set to 20, but your input_length is only 18. Since this is a summarization task, where outputs shorter than the input are typically wanted, you might consider decreasing max_length manually, e.g. summarizer('...', max_length=9)\n",
      " 21%|██        | 152/716 [11:04<1:17:05,  8.20s/it]Your max_length is set to 20, but your input_length is only 16. Since this is a summarization task, where outputs shorter than the input are typically wanted, you might consider decreasing max_length manually, e.g. summarizer('...', max_length=8)\n",
      " 21%|██▏       | 153/716 [11:13<1:17:04,  8.21s/it]Your max_length is set to 20, but your input_length is only 13. Since this is a summarization task, where outputs shorter than the input are typically wanted, you might consider decreasing max_length manually, e.g. summarizer('...', max_length=6)\n",
      " 22%|██▏       | 154/716 [11:21<1:17:31,  8.28s/it]Your max_length is set to 20, but your input_length is only 3. Since this is a summarization task, where outputs shorter than the input are typically wanted, you might consider decreasing max_length manually, e.g. summarizer('...', max_length=1)\n",
      " 22%|██▏       | 155/716 [11:29<1:17:43,  8.31s/it]Your max_length is set to 20, but your input_length is only 2. Since this is a summarization task, where outputs shorter than the input are typically wanted, you might consider decreasing max_length manually, e.g. summarizer('...', max_length=1)\n",
      " 22%|██▏       | 159/716 [12:00<1:09:13,  7.46s/it]Your max_length is set to 20, but your input_length is only 16. Since this is a summarization task, where outputs shorter than the input are typically wanted, you might consider decreasing max_length manually, e.g. summarizer('...', max_length=8)\n",
      " 23%|██▎       | 162/716 [12:07<37:16,  4.04s/it]  Your max_length is set to 20, but your input_length is only 17. Since this is a summarization task, where outputs shorter than the input are typically wanted, you might consider decreasing max_length manually, e.g. summarizer('...', max_length=8)\n",
      " 24%|██▍       | 172/716 [12:30<21:45,  2.40s/it]Your max_length is set to 20, but your input_length is only 15. Since this is a summarization task, where outputs shorter than the input are typically wanted, you might consider decreasing max_length manually, e.g. summarizer('...', max_length=7)\n",
      " 25%|██▌       | 180/716 [13:18<1:08:56,  7.72s/it]Your max_length is set to 20, but your input_length is only 13. Since this is a summarization task, where outputs shorter than the input are typically wanted, you might consider decreasing max_length manually, e.g. summarizer('...', max_length=6)\n",
      " 25%|██▌       | 181/716 [13:27<1:13:10,  8.21s/it]Your max_length is set to 20, but your input_length is only 12. Since this is a summarization task, where outputs shorter than the input are typically wanted, you might consider decreasing max_length manually, e.g. summarizer('...', max_length=6)\n",
      " 26%|██▌       | 183/716 [13:52<1:30:55, 10.24s/it]Your max_length is set to 20, but your input_length is only 19. Since this is a summarization task, where outputs shorter than the input are typically wanted, you might consider decreasing max_length manually, e.g. summarizer('...', max_length=9)\n",
      " 27%|██▋       | 193/716 [14:48<31:24,  3.60s/it]  Your max_length is set to 20, but your input_length is only 15. Since this is a summarization task, where outputs shorter than the input are typically wanted, you might consider decreasing max_length manually, e.g. summarizer('...', max_length=7)\n",
      " 28%|██▊       | 201/716 [15:10<23:15,  2.71s/it]Your max_length is set to 20, but your input_length is only 10. Since this is a summarization task, where outputs shorter than the input are typically wanted, you might consider decreasing max_length manually, e.g. summarizer('...', max_length=5)\n",
      " 29%|██▉       | 207/716 [15:43<57:22,  6.76s/it]Your max_length is set to 20, but your input_length is only 6. Since this is a summarization task, where outputs shorter than the input are typically wanted, you might consider decreasing max_length manually, e.g. summarizer('...', max_length=3)\n",
      " 29%|██▉       | 208/716 [15:51<59:29,  7.03s/it]Your max_length is set to 20, but your input_length is only 16. Since this is a summarization task, where outputs shorter than the input are typically wanted, you might consider decreasing max_length manually, e.g. summarizer('...', max_length=8)\n",
      " 31%|███▏      | 225/716 [17:40<24:23,  2.98s/it]  Your max_length is set to 20, but your input_length is only 9. Since this is a summarization task, where outputs shorter than the input are typically wanted, you might consider decreasing max_length manually, e.g. summarizer('...', max_length=4)\n",
      " 32%|███▏      | 227/716 [17:44<20:40,  2.54s/it]Your max_length is set to 20, but your input_length is only 17. Since this is a summarization task, where outputs shorter than the input are typically wanted, you might consider decreasing max_length manually, e.g. summarizer('...', max_length=8)\n",
      " 33%|███▎      | 234/716 [18:17<46:50,  5.83s/it]Your max_length is set to 20, but your input_length is only 15. Since this is a summarization task, where outputs shorter than the input are typically wanted, you might consider decreasing max_length manually, e.g. summarizer('...', max_length=7)\n",
      " 35%|███▍      | 250/716 [19:52<28:31,  3.67s/it]Your max_length is set to 20, but your input_length is only 14. Since this is a summarization task, where outputs shorter than the input are typically wanted, you might consider decreasing max_length manually, e.g. summarizer('...', max_length=7)\n",
      " 35%|███▌      | 251/716 [19:54<23:46,  3.07s/it]Your max_length is set to 20, but your input_length is only 15. Since this is a summarization task, where outputs shorter than the input are typically wanted, you might consider decreasing max_length manually, e.g. summarizer('...', max_length=7)\n",
      " 35%|███▌      | 252/716 [19:56<20:51,  2.70s/it]Your max_length is set to 20, but your input_length is only 14. Since this is a summarization task, where outputs shorter than the input are typically wanted, you might consider decreasing max_length manually, e.g. summarizer('...', max_length=7)\n",
      " 35%|███▌      | 253/716 [19:57<18:16,  2.37s/it]Your max_length is set to 20, but your input_length is only 16. Since this is a summarization task, where outputs shorter than the input are typically wanted, you might consider decreasing max_length manually, e.g. summarizer('...', max_length=8)\n",
      " 36%|███▌      | 255/716 [20:01<17:07,  2.23s/it]Your max_length is set to 20, but your input_length is only 5. Since this is a summarization task, where outputs shorter than the input are typically wanted, you might consider decreasing max_length manually, e.g. summarizer('...', max_length=2)\n",
      " 36%|███▌      | 258/716 [20:08<16:59,  2.23s/it]Your max_length is set to 20, but your input_length is only 16. Since this is a summarization task, where outputs shorter than the input are typically wanted, you might consider decreasing max_length manually, e.g. summarizer('...', max_length=8)\n",
      " 38%|███▊      | 271/716 [21:25<53:53,  7.27s/it]  Your max_length is set to 20, but your input_length is only 14. Since this is a summarization task, where outputs shorter than the input are typically wanted, you might consider decreasing max_length manually, e.g. summarizer('...', max_length=7)\n",
      " 42%|████▏     | 303/716 [23:57<53:39,  7.79s/it]Your max_length is set to 20, but your input_length is only 5. Since this is a summarization task, where outputs shorter than the input are typically wanted, you might consider decreasing max_length manually, e.g. summarizer('...', max_length=2)\n",
      " 42%|████▏     | 304/716 [24:05<53:34,  7.80s/it]Your max_length is set to 20, but your input_length is only 19. Since this is a summarization task, where outputs shorter than the input are typically wanted, you might consider decreasing max_length manually, e.g. summarizer('...', max_length=9)\n",
      " 43%|████▎     | 308/716 [24:43<1:00:06,  8.84s/it]Your max_length is set to 20, but your input_length is only 15. Since this is a summarization task, where outputs shorter than the input are typically wanted, you might consider decreasing max_length manually, e.g. summarizer('...', max_length=7)\n",
      " 43%|████▎     | 309/716 [24:50<55:55,  8.24s/it]  Your max_length is set to 20, but your input_length is only 14. Since this is a summarization task, where outputs shorter than the input are typically wanted, you might consider decreasing max_length manually, e.g. summarizer('...', max_length=7)\n",
      " 45%|████▍     | 319/716 [25:13<16:26,  2.48s/it]Your max_length is set to 20, but your input_length is only 12. Since this is a summarization task, where outputs shorter than the input are typically wanted, you might consider decreasing max_length manually, e.g. summarizer('...', max_length=6)\n",
      " 45%|████▍     | 322/716 [25:20<14:52,  2.26s/it]Your max_length is set to 20, but your input_length is only 14. Since this is a summarization task, where outputs shorter than the input are typically wanted, you might consider decreasing max_length manually, e.g. summarizer('...', max_length=7)\n",
      " 45%|████▌     | 323/716 [25:22<14:37,  2.23s/it]Your max_length is set to 20, but your input_length is only 14. Since this is a summarization task, where outputs shorter than the input are typically wanted, you might consider decreasing max_length manually, e.g. summarizer('...', max_length=7)\n",
      " 45%|████▌     | 324/716 [25:24<14:31,  2.22s/it]Your max_length is set to 20, but your input_length is only 18. Since this is a summarization task, where outputs shorter than the input are typically wanted, you might consider decreasing max_length manually, e.g. summarizer('...', max_length=9)\n",
      " 46%|████▌     | 331/716 [26:00<42:20,  6.60s/it]Your max_length is set to 20, but your input_length is only 11. Since this is a summarization task, where outputs shorter than the input are typically wanted, you might consider decreasing max_length manually, e.g. summarizer('...', max_length=5)\n",
      " 46%|████▋     | 332/716 [26:09<46:24,  7.25s/it]Your max_length is set to 20, but your input_length is only 17. Since this is a summarization task, where outputs shorter than the input are typically wanted, you might consider decreasing max_length manually, e.g. summarizer('...', max_length=8)\n",
      " 47%|████▋     | 333/716 [26:16<45:59,  7.20s/it]Your max_length is set to 20, but your input_length is only 14. Since this is a summarization task, where outputs shorter than the input are typically wanted, you might consider decreasing max_length manually, e.g. summarizer('...', max_length=7)\n",
      " 49%|████▉     | 350/716 [27:45<16:14,  2.66s/it]Your max_length is set to 20, but your input_length is only 15. Since this is a summarization task, where outputs shorter than the input are typically wanted, you might consider decreasing max_length manually, e.g. summarizer('...', max_length=7)\n",
      " 49%|████▉     | 354/716 [27:54<14:12,  2.36s/it]Your max_length is set to 20, but your input_length is only 18. Since this is a summarization task, where outputs shorter than the input are typically wanted, you might consider decreasing max_length manually, e.g. summarizer('...', max_length=9)\n",
      " 52%|█████▏    | 370/716 [29:28<43:21,  7.52s/it]Your max_length is set to 20, but your input_length is only 16. Since this is a summarization task, where outputs shorter than the input are typically wanted, you might consider decreasing max_length manually, e.g. summarizer('...', max_length=8)\n",
      " 53%|█████▎    | 381/716 [30:23<17:20,  3.11s/it]Your max_length is set to 20, but your input_length is only 18. Since this is a summarization task, where outputs shorter than the input are typically wanted, you might consider decreasing max_length manually, e.g. summarizer('...', max_length=9)\n",
      " 53%|█████▎    | 382/716 [30:26<15:31,  2.79s/it]Your max_length is set to 20, but your input_length is only 5. Since this is a summarization task, where outputs shorter than the input are typically wanted, you might consider decreasing max_length manually, e.g. summarizer('...', max_length=2)\n",
      " 56%|█████▌    | 402/716 [32:03<39:28,  7.54s/it]Your max_length is set to 20, but your input_length is only 18. Since this is a summarization task, where outputs shorter than the input are typically wanted, you might consider decreasing max_length manually, e.g. summarizer('...', max_length=9)\n",
      " 58%|█████▊    | 418/716 [33:22<13:00,  2.62s/it]Your max_length is set to 20, but your input_length is only 13. Since this is a summarization task, where outputs shorter than the input are typically wanted, you might consider decreasing max_length manually, e.g. summarizer('...', max_length=6)\n",
      " 59%|█████▊    | 420/716 [33:25<10:58,  2.22s/it]Your max_length is set to 20, but your input_length is only 15. Since this is a summarization task, where outputs shorter than the input are typically wanted, you might consider decreasing max_length manually, e.g. summarizer('...', max_length=7)\n",
      " 59%|█████▉    | 422/716 [33:30<10:53,  2.22s/it]Your max_length is set to 20, but your input_length is only 12. Since this is a summarization task, where outputs shorter than the input are typically wanted, you might consider decreasing max_length manually, e.g. summarizer('...', max_length=6)\n",
      " 59%|█████▉    | 424/716 [33:34<10:40,  2.19s/it]Your max_length is set to 20, but your input_length is only 19. Since this is a summarization task, where outputs shorter than the input are typically wanted, you might consider decreasing max_length manually, e.g. summarizer('...', max_length=9)\n",
      " 59%|█████▉    | 426/716 [33:38<10:21,  2.14s/it]Your max_length is set to 20, but your input_length is only 19. Since this is a summarization task, where outputs shorter than the input are typically wanted, you might consider decreasing max_length manually, e.g. summarizer('...', max_length=9)\n",
      " 60%|█████▉    | 427/716 [33:40<10:15,  2.13s/it]Your max_length is set to 20, but your input_length is only 19. Since this is a summarization task, where outputs shorter than the input are typically wanted, you might consider decreasing max_length manually, e.g. summarizer('...', max_length=9)\n",
      " 60%|██████    | 432/716 [34:15<33:05,  6.99s/it]Your max_length is set to 20, but your input_length is only 18. Since this is a summarization task, where outputs shorter than the input are typically wanted, you might consider decreasing max_length manually, e.g. summarizer('...', max_length=9)\n",
      " 61%|██████    | 435/716 [34:39<34:32,  7.38s/it]Your max_length is set to 20, but your input_length is only 16. Since this is a summarization task, where outputs shorter than the input are typically wanted, you might consider decreasing max_length manually, e.g. summarizer('...', max_length=8)\n",
      " 62%|██████▏   | 442/716 [35:26<30:17,  6.63s/it]Your max_length is set to 20, but your input_length is only 9. Since this is a summarization task, where outputs shorter than the input are typically wanted, you might consider decreasing max_length manually, e.g. summarizer('...', max_length=4)\n",
      " 62%|██████▏   | 446/716 [35:51<28:40,  6.37s/it]Your max_length is set to 20, but your input_length is only 18. Since this is a summarization task, where outputs shorter than the input are typically wanted, you might consider decreasing max_length manually, e.g. summarizer('...', max_length=9)\n",
      " 64%|██████▍   | 458/716 [36:19<10:14,  2.38s/it]Your max_length is set to 20, but your input_length is only 14. Since this is a summarization task, where outputs shorter than the input are typically wanted, you might consider decreasing max_length manually, e.g. summarizer('...', max_length=7)\n",
      " 65%|██████▍   | 462/716 [36:28<10:10,  2.41s/it]Your max_length is set to 20, but your input_length is only 15. Since this is a summarization task, where outputs shorter than the input are typically wanted, you might consider decreasing max_length manually, e.g. summarizer('...', max_length=7)\n",
      " 65%|██████▍   | 465/716 [36:53<32:06,  7.68s/it]Token indices sequence length is longer than the specified maximum sequence length for this model (1228 > 512). Running this sequence through the model will result in indexing errors\n",
      " 80%|███████▉  | 570/716 [50:43<08:17,  3.41s/it]Your max_length is set to 20, but your input_length is only 11. Since this is a summarization task, where outputs shorter than the input are typically wanted, you might consider decreasing max_length manually, e.g. summarizer('...', max_length=5)\n",
      " 80%|███████▉  | 571/716 [50:46<07:38,  3.16s/it]Your max_length is set to 20, but your input_length is only 16. Since this is a summarization task, where outputs shorter than the input are typically wanted, you might consider decreasing max_length manually, e.g. summarizer('...', max_length=8)\n",
      " 80%|███████▉  | 572/716 [50:48<07:02,  2.93s/it]Your max_length is set to 20, but your input_length is only 12. Since this is a summarization task, where outputs shorter than the input are typically wanted, you might consider decreasing max_length manually, e.g. summarizer('...', max_length=6)\n",
      " 82%|████████▏ | 586/716 [52:52<18:06,  8.36s/it]Your max_length is set to 20, but your input_length is only 15. Since this is a summarization task, where outputs shorter than the input are typically wanted, you might consider decreasing max_length manually, e.g. summarizer('...', max_length=7)\n",
      " 83%|████████▎ | 591/716 [53:13<09:05,  4.37s/it]Your max_length is set to 20, but your input_length is only 18. Since this is a summarization task, where outputs shorter than the input are typically wanted, you might consider decreasing max_length manually, e.g. summarizer('...', max_length=9)\n",
      " 83%|████████▎ | 594/716 [53:21<06:32,  3.22s/it]Your max_length is set to 20, but your input_length is only 13. Since this is a summarization task, where outputs shorter than the input are typically wanted, you might consider decreasing max_length manually, e.g. summarizer('...', max_length=6)\n",
      " 84%|████████▎ | 598/716 [53:32<05:53,  2.99s/it]Your max_length is set to 20, but your input_length is only 12. Since this is a summarization task, where outputs shorter than the input are typically wanted, you might consider decreasing max_length manually, e.g. summarizer('...', max_length=6)\n",
      " 84%|████████▎ | 599/716 [53:34<05:07,  2.63s/it]Your max_length is set to 20, but your input_length is only 16. Since this is a summarization task, where outputs shorter than the input are typically wanted, you might consider decreasing max_length manually, e.g. summarizer('...', max_length=8)\n",
      " 87%|████████▋ | 620/716 [56:03<09:21,  5.85s/it]Your max_length is set to 20, but your input_length is only 17. Since this is a summarization task, where outputs shorter than the input are typically wanted, you might consider decreasing max_length manually, e.g. summarizer('...', max_length=8)\n",
      " 88%|████████▊ | 628/716 [56:29<04:47,  3.27s/it]Your max_length is set to 20, but your input_length is only 3. Since this is a summarization task, where outputs shorter than the input are typically wanted, you might consider decreasing max_length manually, e.g. summarizer('...', max_length=1)\n",
      " 88%|████████▊ | 629/716 [56:31<04:11,  2.89s/it]Your max_length is set to 20, but your input_length is only 15. Since this is a summarization task, where outputs shorter than the input are typically wanted, you might consider decreasing max_length manually, e.g. summarizer('...', max_length=7)\n",
      " 88%|████████▊ | 630/716 [56:33<03:46,  2.64s/it]Your max_length is set to 20, but your input_length is only 16. Since this is a summarization task, where outputs shorter than the input are typically wanted, you might consider decreasing max_length manually, e.g. summarizer('...', max_length=8)\n",
      " 89%|████████▊ | 634/716 [57:13<11:52,  8.69s/it]Your max_length is set to 20, but your input_length is only 3. Since this is a summarization task, where outputs shorter than the input are typically wanted, you might consider decreasing max_length manually, e.g. summarizer('...', max_length=1)\n",
      " 89%|████████▊ | 635/716 [57:19<10:35,  7.84s/it]Your max_length is set to 20, but your input_length is only 13. Since this is a summarization task, where outputs shorter than the input are typically wanted, you might consider decreasing max_length manually, e.g. summarizer('...', max_length=6)\n",
      " 90%|████████▉ | 641/716 [58:28<13:26, 10.75s/it]Your max_length is set to 20, but your input_length is only 14. Since this is a summarization task, where outputs shorter than the input are typically wanted, you might consider decreasing max_length manually, e.g. summarizer('...', max_length=7)\n",
      " 90%|█████████ | 646/716 [59:02<09:35,  8.22s/it]Your max_length is set to 20, but your input_length is only 14. Since this is a summarization task, where outputs shorter than the input are typically wanted, you might consider decreasing max_length manually, e.g. summarizer('...', max_length=7)\n",
      " 93%|█████████▎| 666/716 [1:00:33<06:10,  7.41s/it]Your max_length is set to 20, but your input_length is only 14. Since this is a summarization task, where outputs shorter than the input are typically wanted, you might consider decreasing max_length manually, e.g. summarizer('...', max_length=7)\n",
      "100%|██████████| 716/716 [1:05:17<00:00,  5.47s/it]\n"
     ]
    }
   ],
   "execution_count": 33
  },
  {
   "metadata": {
    "ExecuteTime": {
     "end_time": "2025-02-24T16:09:43.833202Z",
     "start_time": "2025-02-24T16:09:43.816963Z"
    }
   },
   "cell_type": "code",
   "source": "df.head(20)",
   "id": "b9c13bae95a4be67",
   "outputs": [
    {
     "data": {
      "text/plain": [
       "   Document Clause Number                            Clause Heading  \\\n",
       "1   EN50128           1.1                                       NaN   \n",
       "2   EN50128           1.2                                       NaN   \n",
       "3   EN50128           1.3                                       NaN   \n",
       "4   EN50128           1.4                                       NaN   \n",
       "5   EN50128           1.5                                       NaN   \n",
       "6   EN50128           1.6                                       NaN   \n",
       "7   EN50128           1.7                                       NaN   \n",
       "8   EN50128           1.8                                       NaN   \n",
       "9   EN50128           1.9                                       NaN   \n",
       "10  EN50128             2                      Normative references   \n",
       "12  EN50128           3.1                     Terms and definitions   \n",
       "13  EN50128         3.1.1                                assessment   \n",
       "14  EN50128         3.1.2                                  assessor   \n",
       "15  EN50128         3.1.3  commercial off-the-shelf (COTS) software   \n",
       "16  EN50128         3.1.4                                 component   \n",
       "17  EN50128         3.1.5                     configuration manager   \n",
       "18  EN50128         3.1.6                                  customer   \n",
       "19  EN50128         3.1.7                                  designer   \n",
       "20  EN50128         3.1.8                                    entity   \n",
       "21  EN50128         3.1.9                              error, fault   \n",
       "\n",
       "                                          Clause Text  \\\n",
       "1   This European Standard specifies the process a...   \n",
       "2   This European Standard is applicable exclusive...   \n",
       "3   This European Standard is not relevant for sof...   \n",
       "4   This European Standard applies to all safety r...   \n",
       "5   This European Standard also addresses the use ...   \n",
       "6   Software developed according to any version of...   \n",
       "7   This European Standard considers that modern a...   \n",
       "8   This European Standard is not intended to addr...   \n",
       "9   This European Standard is not intended to be r...   \n",
       "10  The following referenced documents are indispe...   \n",
       "12  For the purposes of this document, the followi...   \n",
       "13  process of analysis to determine whether softw...   \n",
       "14              entity that carries out an assessment   \n",
       "15  software defined by market-driven need, commer...   \n",
       "16  a constituent part of software which has well-...   \n",
       "17  entity that is responsible for implementing an...   \n",
       "18  entity which purchases a railway control and p...   \n",
       "19  entity that analyses and transforms specified ...   \n",
       "20  person, group or organisation who fulfils a ro...   \n",
       "21  defect, mistake or inaccuracy which could resu...   \n",
       "\n",
       "                               Human Heading Tag  \\\n",
       "1                                      SCOPE   s   \n",
       "2                                      SCOPE   s   \n",
       "3                                      SCOPE   s   \n",
       "4                                      SCOPE   s   \n",
       "5                                      SCOPE   s   \n",
       "6                                      SCOPE   s   \n",
       "7                                      SCOPE   s   \n",
       "8                                      SCOPE   s   \n",
       "9                                      SCOPE   s   \n",
       "10                      Normative references   u   \n",
       "12                     Terms and definitions   u   \n",
       "13                                assessment   t   \n",
       "14                                  Assessor   t   \n",
       "15  commercial off-the-shelf (COTS) software   t   \n",
       "16                                 component   t   \n",
       "17                     Configuration Manager   t   \n",
       "18                                  customer   t   \n",
       "19                                  Designer   t   \n",
       "20                                    entity   t   \n",
       "21                                     error   t   \n",
       "\n",
       "              Keybert-all-MiniLM-L6-v2  \\\n",
       "1           railway control protection   \n",
       "2         european standard applicable   \n",
       "3             safety software failures   \n",
       "4                software used railway   \n",
       "5                pre existing software   \n",
       "6        standard considered compliant   \n",
       "7              generic software clause   \n",
       "8           european standard intended   \n",
       "9           european standard upgrades   \n",
       "10  railway applications specification   \n",
       "12         following terms definitions   \n",
       "13         analysis determine software   \n",
       "14           entity carries assessment   \n",
       "15             software defined market   \n",
       "16        constituent software defined   \n",
       "17  configuration management documents   \n",
       "18           purchases railway control   \n",
       "19           required safety integrity   \n",
       "20               role defined european   \n",
       "21           defect mistake inaccuracy   \n",
       "\n",
       "                              summarizer-pegasus-xsum  \n",
       "1   This standard has been published by the Europe...  \n",
       "2   This Standard is intended for use by software ...  \n",
       "3   This European Standard is not relevant for sof...  \n",
       "4   This European Standard applies to all safety r...  \n",
       "5   This European Standard sets out the requiremen...  \n",
       "6   This European Standard is intended for use by ...  \n",
       "7   This European Standard has been adopted by the...  \n",
       "8   This European Standard should not be confused ...  \n",
       "9        This European Standard covers the following:  \n",
       "10  This document has been prepared by the Interna...  \n",
       "12  The following terms and definitions have been ...  \n",
       "13  Software safety assessments are carried out to...  \n",
       "14  Northern Ireland Secretary James Brokenshire h...  \n",
       "15  Software defined by market-driven need, commer...  \n",
       "16  A component is a part of software which has be...  \n",
       "17  Reporting to the Chief Information Officer, th...  \n",
       "18  A look at some of the key contracts awarded by...  \n",
       "19  Engineering consultancy firm Ramboll has been ...  \n",
       "20  This European Standard has been produced by th...  \n",
       "21                          Details of the following:  "
      ],
      "text/html": [
       "<div>\n",
       "<style scoped>\n",
       "    .dataframe tbody tr th:only-of-type {\n",
       "        vertical-align: middle;\n",
       "    }\n",
       "\n",
       "    .dataframe tbody tr th {\n",
       "        vertical-align: top;\n",
       "    }\n",
       "\n",
       "    .dataframe thead th {\n",
       "        text-align: right;\n",
       "    }\n",
       "</style>\n",
       "<table border=\"1\" class=\"dataframe\">\n",
       "  <thead>\n",
       "    <tr style=\"text-align: right;\">\n",
       "      <th></th>\n",
       "      <th>Document</th>\n",
       "      <th>Clause Number</th>\n",
       "      <th>Clause Heading</th>\n",
       "      <th>Clause Text</th>\n",
       "      <th>Human Heading</th>\n",
       "      <th>Tag</th>\n",
       "      <th>Keybert-all-MiniLM-L6-v2</th>\n",
       "      <th>summarizer-pegasus-xsum</th>\n",
       "    </tr>\n",
       "  </thead>\n",
       "  <tbody>\n",
       "    <tr>\n",
       "      <th>1</th>\n",
       "      <td>EN50128</td>\n",
       "      <td>1.1</td>\n",
       "      <td>NaN</td>\n",
       "      <td>This European Standard specifies the process a...</td>\n",
       "      <td>SCOPE</td>\n",
       "      <td>s</td>\n",
       "      <td>railway control protection</td>\n",
       "      <td>This standard has been published by the Europe...</td>\n",
       "    </tr>\n",
       "    <tr>\n",
       "      <th>2</th>\n",
       "      <td>EN50128</td>\n",
       "      <td>1.2</td>\n",
       "      <td>NaN</td>\n",
       "      <td>This European Standard is applicable exclusive...</td>\n",
       "      <td>SCOPE</td>\n",
       "      <td>s</td>\n",
       "      <td>european standard applicable</td>\n",
       "      <td>This Standard is intended for use by software ...</td>\n",
       "    </tr>\n",
       "    <tr>\n",
       "      <th>3</th>\n",
       "      <td>EN50128</td>\n",
       "      <td>1.3</td>\n",
       "      <td>NaN</td>\n",
       "      <td>This European Standard is not relevant for sof...</td>\n",
       "      <td>SCOPE</td>\n",
       "      <td>s</td>\n",
       "      <td>safety software failures</td>\n",
       "      <td>This European Standard is not relevant for sof...</td>\n",
       "    </tr>\n",
       "    <tr>\n",
       "      <th>4</th>\n",
       "      <td>EN50128</td>\n",
       "      <td>1.4</td>\n",
       "      <td>NaN</td>\n",
       "      <td>This European Standard applies to all safety r...</td>\n",
       "      <td>SCOPE</td>\n",
       "      <td>s</td>\n",
       "      <td>software used railway</td>\n",
       "      <td>This European Standard applies to all safety r...</td>\n",
       "    </tr>\n",
       "    <tr>\n",
       "      <th>5</th>\n",
       "      <td>EN50128</td>\n",
       "      <td>1.5</td>\n",
       "      <td>NaN</td>\n",
       "      <td>This European Standard also addresses the use ...</td>\n",
       "      <td>SCOPE</td>\n",
       "      <td>s</td>\n",
       "      <td>pre existing software</td>\n",
       "      <td>This European Standard sets out the requiremen...</td>\n",
       "    </tr>\n",
       "    <tr>\n",
       "      <th>6</th>\n",
       "      <td>EN50128</td>\n",
       "      <td>1.6</td>\n",
       "      <td>NaN</td>\n",
       "      <td>Software developed according to any version of...</td>\n",
       "      <td>SCOPE</td>\n",
       "      <td>s</td>\n",
       "      <td>standard considered compliant</td>\n",
       "      <td>This European Standard is intended for use by ...</td>\n",
       "    </tr>\n",
       "    <tr>\n",
       "      <th>7</th>\n",
       "      <td>EN50128</td>\n",
       "      <td>1.7</td>\n",
       "      <td>NaN</td>\n",
       "      <td>This European Standard considers that modern a...</td>\n",
       "      <td>SCOPE</td>\n",
       "      <td>s</td>\n",
       "      <td>generic software clause</td>\n",
       "      <td>This European Standard has been adopted by the...</td>\n",
       "    </tr>\n",
       "    <tr>\n",
       "      <th>8</th>\n",
       "      <td>EN50128</td>\n",
       "      <td>1.8</td>\n",
       "      <td>NaN</td>\n",
       "      <td>This European Standard is not intended to addr...</td>\n",
       "      <td>SCOPE</td>\n",
       "      <td>s</td>\n",
       "      <td>european standard intended</td>\n",
       "      <td>This European Standard should not be confused ...</td>\n",
       "    </tr>\n",
       "    <tr>\n",
       "      <th>9</th>\n",
       "      <td>EN50128</td>\n",
       "      <td>1.9</td>\n",
       "      <td>NaN</td>\n",
       "      <td>This European Standard is not intended to be r...</td>\n",
       "      <td>SCOPE</td>\n",
       "      <td>s</td>\n",
       "      <td>european standard upgrades</td>\n",
       "      <td>This European Standard covers the following:</td>\n",
       "    </tr>\n",
       "    <tr>\n",
       "      <th>10</th>\n",
       "      <td>EN50128</td>\n",
       "      <td>2</td>\n",
       "      <td>Normative references</td>\n",
       "      <td>The following referenced documents are indispe...</td>\n",
       "      <td>Normative references</td>\n",
       "      <td>u</td>\n",
       "      <td>railway applications specification</td>\n",
       "      <td>This document has been prepared by the Interna...</td>\n",
       "    </tr>\n",
       "    <tr>\n",
       "      <th>12</th>\n",
       "      <td>EN50128</td>\n",
       "      <td>3.1</td>\n",
       "      <td>Terms and definitions</td>\n",
       "      <td>For the purposes of this document, the followi...</td>\n",
       "      <td>Terms and definitions</td>\n",
       "      <td>u</td>\n",
       "      <td>following terms definitions</td>\n",
       "      <td>The following terms and definitions have been ...</td>\n",
       "    </tr>\n",
       "    <tr>\n",
       "      <th>13</th>\n",
       "      <td>EN50128</td>\n",
       "      <td>3.1.1</td>\n",
       "      <td>assessment</td>\n",
       "      <td>process of analysis to determine whether softw...</td>\n",
       "      <td>assessment</td>\n",
       "      <td>t</td>\n",
       "      <td>analysis determine software</td>\n",
       "      <td>Software safety assessments are carried out to...</td>\n",
       "    </tr>\n",
       "    <tr>\n",
       "      <th>14</th>\n",
       "      <td>EN50128</td>\n",
       "      <td>3.1.2</td>\n",
       "      <td>assessor</td>\n",
       "      <td>entity that carries out an assessment</td>\n",
       "      <td>Assessor</td>\n",
       "      <td>t</td>\n",
       "      <td>entity carries assessment</td>\n",
       "      <td>Northern Ireland Secretary James Brokenshire h...</td>\n",
       "    </tr>\n",
       "    <tr>\n",
       "      <th>15</th>\n",
       "      <td>EN50128</td>\n",
       "      <td>3.1.3</td>\n",
       "      <td>commercial off-the-shelf (COTS) software</td>\n",
       "      <td>software defined by market-driven need, commer...</td>\n",
       "      <td>commercial off-the-shelf (COTS) software</td>\n",
       "      <td>t</td>\n",
       "      <td>software defined market</td>\n",
       "      <td>Software defined by market-driven need, commer...</td>\n",
       "    </tr>\n",
       "    <tr>\n",
       "      <th>16</th>\n",
       "      <td>EN50128</td>\n",
       "      <td>3.1.4</td>\n",
       "      <td>component</td>\n",
       "      <td>a constituent part of software which has well-...</td>\n",
       "      <td>component</td>\n",
       "      <td>t</td>\n",
       "      <td>constituent software defined</td>\n",
       "      <td>A component is a part of software which has be...</td>\n",
       "    </tr>\n",
       "    <tr>\n",
       "      <th>17</th>\n",
       "      <td>EN50128</td>\n",
       "      <td>3.1.5</td>\n",
       "      <td>configuration manager</td>\n",
       "      <td>entity that is responsible for implementing an...</td>\n",
       "      <td>Configuration Manager</td>\n",
       "      <td>t</td>\n",
       "      <td>configuration management documents</td>\n",
       "      <td>Reporting to the Chief Information Officer, th...</td>\n",
       "    </tr>\n",
       "    <tr>\n",
       "      <th>18</th>\n",
       "      <td>EN50128</td>\n",
       "      <td>3.1.6</td>\n",
       "      <td>customer</td>\n",
       "      <td>entity which purchases a railway control and p...</td>\n",
       "      <td>customer</td>\n",
       "      <td>t</td>\n",
       "      <td>purchases railway control</td>\n",
       "      <td>A look at some of the key contracts awarded by...</td>\n",
       "    </tr>\n",
       "    <tr>\n",
       "      <th>19</th>\n",
       "      <td>EN50128</td>\n",
       "      <td>3.1.7</td>\n",
       "      <td>designer</td>\n",
       "      <td>entity that analyses and transforms specified ...</td>\n",
       "      <td>Designer</td>\n",
       "      <td>t</td>\n",
       "      <td>required safety integrity</td>\n",
       "      <td>Engineering consultancy firm Ramboll has been ...</td>\n",
       "    </tr>\n",
       "    <tr>\n",
       "      <th>20</th>\n",
       "      <td>EN50128</td>\n",
       "      <td>3.1.8</td>\n",
       "      <td>entity</td>\n",
       "      <td>person, group or organisation who fulfils a ro...</td>\n",
       "      <td>entity</td>\n",
       "      <td>t</td>\n",
       "      <td>role defined european</td>\n",
       "      <td>This European Standard has been produced by th...</td>\n",
       "    </tr>\n",
       "    <tr>\n",
       "      <th>21</th>\n",
       "      <td>EN50128</td>\n",
       "      <td>3.1.9</td>\n",
       "      <td>error, fault</td>\n",
       "      <td>defect, mistake or inaccuracy which could resu...</td>\n",
       "      <td>error</td>\n",
       "      <td>t</td>\n",
       "      <td>defect mistake inaccuracy</td>\n",
       "      <td>Details of the following:</td>\n",
       "    </tr>\n",
       "  </tbody>\n",
       "</table>\n",
       "</div>"
      ]
     },
     "execution_count": 34,
     "metadata": {},
     "output_type": "execute_result"
    }
   ],
   "execution_count": 34
  },
  {
   "metadata": {
    "ExecuteTime": {
     "end_time": "2025-02-24T16:11:34.975465Z",
     "start_time": "2025-02-24T16:11:34.959363Z"
    }
   },
   "cell_type": "code",
   "source": "df.to_csv(data_dir.joinpath('new_summerries_keybert_pegasus.csv'))",
   "id": "bbdca0506af3ba3",
   "outputs": [],
   "execution_count": 36
  },
  {
   "metadata": {},
   "cell_type": "markdown",
   "source": "### T5",
   "id": "fc42b9fc206f7940"
  },
  {
   "metadata": {
    "ExecuteTime": {
     "end_time": "2025-02-24T16:11:44.488236Z",
     "start_time": "2025-02-24T16:11:43.234262Z"
    }
   },
   "cell_type": "code",
   "source": "t5_summarizer = pipeline(\"summarization\", model=\"t5-small\", tokenizer=\"t5-small\")",
   "id": "3c9108a42664f3b",
   "outputs": [
    {
     "name": "stderr",
     "output_type": "stream",
     "text": [
      "Device set to use cpu\n"
     ]
    }
   ],
   "execution_count": 37
  },
  {
   "metadata": {
    "ExecuteTime": {
     "end_time": "2025-02-24T16:20:18.546793Z",
     "start_time": "2025-02-24T16:12:00.110444Z"
    }
   },
   "cell_type": "code",
   "source": "df[\"summarizer-t5-small\"] = df[\"Clause Text\"].progress_apply(lambda clause: generate_clause_heading_pipeline_single(clause, t5_summarizer, max_length=10, min_length=1))",
   "id": "d422bdb625caba37",
   "outputs": [
    {
     "name": "stderr",
     "output_type": "stream",
     "text": [
      "  6%|▌         | 41/716 [00:31<16:52,  1.50s/it]Your max_length is set to 10, but your input_length is only 9. Since this is a summarization task, where outputs shorter than the input are typically wanted, you might consider decreasing max_length manually, e.g. summarizer('...', max_length=4)\n",
      " 11%|█▏        | 82/716 [01:10<08:07,  1.30it/s]Token indices sequence length is longer than the specified maximum sequence length for this model (541 > 512). Running this sequence through the model will result in indexing errors\n",
      " 22%|██▏       | 154/716 [01:50<02:51,  3.27it/s]Your max_length is set to 10, but your input_length is only 5. Since this is a summarization task, where outputs shorter than the input are typically wanted, you might consider decreasing max_length manually, e.g. summarizer('...', max_length=2)\n",
      " 22%|██▏       | 155/716 [01:50<02:26,  3.84it/s]Your max_length is set to 10, but your input_length is only 4. Since this is a summarization task, where outputs shorter than the input are typically wanted, you might consider decreasing max_length manually, e.g. summarizer('...', max_length=2)\n",
      " 29%|██▉       | 207/716 [02:08<03:00,  2.82it/s]Your max_length is set to 10, but your input_length is only 8. Since this is a summarization task, where outputs shorter than the input are typically wanted, you might consider decreasing max_length manually, e.g. summarizer('...', max_length=4)\n",
      " 42%|████▏     | 303/716 [03:10<04:34,  1.50it/s]Your max_length is set to 10, but your input_length is only 8. Since this is a summarization task, where outputs shorter than the input are typically wanted, you might consider decreasing max_length manually, e.g. summarizer('...', max_length=4)\n",
      " 88%|████████▊ | 628/716 [06:47<01:11,  1.24it/s]Your max_length is set to 10, but your input_length is only 5. Since this is a summarization task, where outputs shorter than the input are typically wanted, you might consider decreasing max_length manually, e.g. summarizer('...', max_length=2)\n",
      " 89%|████████▊ | 634/716 [06:52<01:03,  1.29it/s]Your max_length is set to 10, but your input_length is only 5. Since this is a summarization task, where outputs shorter than the input are typically wanted, you might consider decreasing max_length manually, e.g. summarizer('...', max_length=2)\n",
      "100%|██████████| 716/716 [08:18<00:00,  1.44it/s]\n"
     ]
    }
   ],
   "execution_count": 39
  },
  {
   "metadata": {
    "ExecuteTime": {
     "end_time": "2025-02-24T16:20:40.777946Z",
     "start_time": "2025-02-24T16:20:40.766289Z"
    }
   },
   "cell_type": "code",
   "source": "df.head(20)",
   "id": "69576dee6d24a78a",
   "outputs": [
    {
     "data": {
      "text/plain": [
       "   Document Clause Number                            Clause Heading  \\\n",
       "1   EN50128           1.1                                       NaN   \n",
       "2   EN50128           1.2                                       NaN   \n",
       "3   EN50128           1.3                                       NaN   \n",
       "4   EN50128           1.4                                       NaN   \n",
       "5   EN50128           1.5                                       NaN   \n",
       "6   EN50128           1.6                                       NaN   \n",
       "7   EN50128           1.7                                       NaN   \n",
       "8   EN50128           1.8                                       NaN   \n",
       "9   EN50128           1.9                                       NaN   \n",
       "10  EN50128             2                      Normative references   \n",
       "12  EN50128           3.1                     Terms and definitions   \n",
       "13  EN50128         3.1.1                                assessment   \n",
       "14  EN50128         3.1.2                                  assessor   \n",
       "15  EN50128         3.1.3  commercial off-the-shelf (COTS) software   \n",
       "16  EN50128         3.1.4                                 component   \n",
       "17  EN50128         3.1.5                     configuration manager   \n",
       "18  EN50128         3.1.6                                  customer   \n",
       "19  EN50128         3.1.7                                  designer   \n",
       "20  EN50128         3.1.8                                    entity   \n",
       "21  EN50128         3.1.9                              error, fault   \n",
       "\n",
       "                                          Clause Text  \\\n",
       "1   This European Standard specifies the process a...   \n",
       "2   This European Standard is applicable exclusive...   \n",
       "3   This European Standard is not relevant for sof...   \n",
       "4   This European Standard applies to all safety r...   \n",
       "5   This European Standard also addresses the use ...   \n",
       "6   Software developed according to any version of...   \n",
       "7   This European Standard considers that modern a...   \n",
       "8   This European Standard is not intended to addr...   \n",
       "9   This European Standard is not intended to be r...   \n",
       "10  The following referenced documents are indispe...   \n",
       "12  For the purposes of this document, the followi...   \n",
       "13  process of analysis to determine whether softw...   \n",
       "14              entity that carries out an assessment   \n",
       "15  software defined by market-driven need, commer...   \n",
       "16  a constituent part of software which has well-...   \n",
       "17  entity that is responsible for implementing an...   \n",
       "18  entity which purchases a railway control and p...   \n",
       "19  entity that analyses and transforms specified ...   \n",
       "20  person, group or organisation who fulfils a ro...   \n",
       "21  defect, mistake or inaccuracy which could resu...   \n",
       "\n",
       "                               Human Heading Tag  \\\n",
       "1                                      SCOPE   s   \n",
       "2                                      SCOPE   s   \n",
       "3                                      SCOPE   s   \n",
       "4                                      SCOPE   s   \n",
       "5                                      SCOPE   s   \n",
       "6                                      SCOPE   s   \n",
       "7                                      SCOPE   s   \n",
       "8                                      SCOPE   s   \n",
       "9                                      SCOPE   s   \n",
       "10                      Normative references   u   \n",
       "12                     Terms and definitions   u   \n",
       "13                                assessment   t   \n",
       "14                                  Assessor   t   \n",
       "15  commercial off-the-shelf (COTS) software   t   \n",
       "16                                 component   t   \n",
       "17                     Configuration Manager   t   \n",
       "18                                  customer   t   \n",
       "19                                  Designer   t   \n",
       "20                                    entity   t   \n",
       "21                                     error   t   \n",
       "\n",
       "              Keybert-all-MiniLM-L6-v2  \\\n",
       "1           railway control protection   \n",
       "2         european standard applicable   \n",
       "3             safety software failures   \n",
       "4                software used railway   \n",
       "5                pre existing software   \n",
       "6        standard considered compliant   \n",
       "7              generic software clause   \n",
       "8           european standard intended   \n",
       "9           european standard upgrades   \n",
       "10  railway applications specification   \n",
       "12         following terms definitions   \n",
       "13         analysis determine software   \n",
       "14           entity carries assessment   \n",
       "15             software defined market   \n",
       "16        constituent software defined   \n",
       "17  configuration management documents   \n",
       "18           purchases railway control   \n",
       "19           required safety integrity   \n",
       "20               role defined european   \n",
       "21           defect mistake inaccuracy   \n",
       "\n",
       "                              summarizer-pegasus-xsum  \\\n",
       "1   This standard has been published by the Europe...   \n",
       "2   This Standard is intended for use by software ...   \n",
       "3   This European Standard is not relevant for sof...   \n",
       "4   This European Standard applies to all safety r...   \n",
       "5   This European Standard sets out the requiremen...   \n",
       "6   This European Standard is intended for use by ...   \n",
       "7   This European Standard has been adopted by the...   \n",
       "8   This European Standard should not be confused ...   \n",
       "9        This European Standard covers the following:   \n",
       "10  This document has been prepared by the Interna...   \n",
       "12  The following terms and definitions have been ...   \n",
       "13  Software safety assessments are carried out to...   \n",
       "14  Northern Ireland Secretary James Brokenshire h...   \n",
       "15  Software defined by market-driven need, commer...   \n",
       "16  A component is a part of software which has be...   \n",
       "17  Reporting to the Chief Information Officer, th...   \n",
       "18  A look at some of the key contracts awarded by...   \n",
       "19  Engineering consultancy firm Ramboll has been ...   \n",
       "20  This European Standard has been produced by th...   \n",
       "21                          Details of the following:   \n",
       "\n",
       "                                  summarizer-t5-small  \n",
       "1   programmable electronic systems can be impleme...  \n",
       "2   this European Standard is applicable exclusive...  \n",
       "3   this European Standard is not relevant for sof...  \n",
       "4   application programming comprises high level p...  \n",
       "5                                7.3.4.7 and 6.5.4.16  \n",
       "6   software developed according to any version of...  \n",
       "7                      the general Clauses 1 to 6 and  \n",
       "8   this European Standard is not intended to addr...  \n",
       "9   this European Standard is not intended to be r...  \n",
       "10            for dated references, only the edition   \n",
       "12   for the purposes of this document, the following  \n",
       "13  safety assessment is focused on but not limite...  \n",
       "14      entity that carries out an assessment carries  \n",
       "15  software defined by market-driven need, commer...  \n",
       "16  constituent part of software which has well-de...  \n",
       "17  entity responsible for implementing and carryi...  \n",
       "18  entity which purchases a railway control and p...  \n",
       "19  entity that analyses and transforms specified ...  \n",
       "20         person, group or organisation who fulfils   \n",
       "21                defect, mistake or inaccuracy could  "
      ],
      "text/html": [
       "<div>\n",
       "<style scoped>\n",
       "    .dataframe tbody tr th:only-of-type {\n",
       "        vertical-align: middle;\n",
       "    }\n",
       "\n",
       "    .dataframe tbody tr th {\n",
       "        vertical-align: top;\n",
       "    }\n",
       "\n",
       "    .dataframe thead th {\n",
       "        text-align: right;\n",
       "    }\n",
       "</style>\n",
       "<table border=\"1\" class=\"dataframe\">\n",
       "  <thead>\n",
       "    <tr style=\"text-align: right;\">\n",
       "      <th></th>\n",
       "      <th>Document</th>\n",
       "      <th>Clause Number</th>\n",
       "      <th>Clause Heading</th>\n",
       "      <th>Clause Text</th>\n",
       "      <th>Human Heading</th>\n",
       "      <th>Tag</th>\n",
       "      <th>Keybert-all-MiniLM-L6-v2</th>\n",
       "      <th>summarizer-pegasus-xsum</th>\n",
       "      <th>summarizer-t5-small</th>\n",
       "    </tr>\n",
       "  </thead>\n",
       "  <tbody>\n",
       "    <tr>\n",
       "      <th>1</th>\n",
       "      <td>EN50128</td>\n",
       "      <td>1.1</td>\n",
       "      <td>NaN</td>\n",
       "      <td>This European Standard specifies the process a...</td>\n",
       "      <td>SCOPE</td>\n",
       "      <td>s</td>\n",
       "      <td>railway control protection</td>\n",
       "      <td>This standard has been published by the Europe...</td>\n",
       "      <td>programmable electronic systems can be impleme...</td>\n",
       "    </tr>\n",
       "    <tr>\n",
       "      <th>2</th>\n",
       "      <td>EN50128</td>\n",
       "      <td>1.2</td>\n",
       "      <td>NaN</td>\n",
       "      <td>This European Standard is applicable exclusive...</td>\n",
       "      <td>SCOPE</td>\n",
       "      <td>s</td>\n",
       "      <td>european standard applicable</td>\n",
       "      <td>This Standard is intended for use by software ...</td>\n",
       "      <td>this European Standard is applicable exclusive...</td>\n",
       "    </tr>\n",
       "    <tr>\n",
       "      <th>3</th>\n",
       "      <td>EN50128</td>\n",
       "      <td>1.3</td>\n",
       "      <td>NaN</td>\n",
       "      <td>This European Standard is not relevant for sof...</td>\n",
       "      <td>SCOPE</td>\n",
       "      <td>s</td>\n",
       "      <td>safety software failures</td>\n",
       "      <td>This European Standard is not relevant for sof...</td>\n",
       "      <td>this European Standard is not relevant for sof...</td>\n",
       "    </tr>\n",
       "    <tr>\n",
       "      <th>4</th>\n",
       "      <td>EN50128</td>\n",
       "      <td>1.4</td>\n",
       "      <td>NaN</td>\n",
       "      <td>This European Standard applies to all safety r...</td>\n",
       "      <td>SCOPE</td>\n",
       "      <td>s</td>\n",
       "      <td>software used railway</td>\n",
       "      <td>This European Standard applies to all safety r...</td>\n",
       "      <td>application programming comprises high level p...</td>\n",
       "    </tr>\n",
       "    <tr>\n",
       "      <th>5</th>\n",
       "      <td>EN50128</td>\n",
       "      <td>1.5</td>\n",
       "      <td>NaN</td>\n",
       "      <td>This European Standard also addresses the use ...</td>\n",
       "      <td>SCOPE</td>\n",
       "      <td>s</td>\n",
       "      <td>pre existing software</td>\n",
       "      <td>This European Standard sets out the requiremen...</td>\n",
       "      <td>7.3.4.7 and 6.5.4.16</td>\n",
       "    </tr>\n",
       "    <tr>\n",
       "      <th>6</th>\n",
       "      <td>EN50128</td>\n",
       "      <td>1.6</td>\n",
       "      <td>NaN</td>\n",
       "      <td>Software developed according to any version of...</td>\n",
       "      <td>SCOPE</td>\n",
       "      <td>s</td>\n",
       "      <td>standard considered compliant</td>\n",
       "      <td>This European Standard is intended for use by ...</td>\n",
       "      <td>software developed according to any version of...</td>\n",
       "    </tr>\n",
       "    <tr>\n",
       "      <th>7</th>\n",
       "      <td>EN50128</td>\n",
       "      <td>1.7</td>\n",
       "      <td>NaN</td>\n",
       "      <td>This European Standard considers that modern a...</td>\n",
       "      <td>SCOPE</td>\n",
       "      <td>s</td>\n",
       "      <td>generic software clause</td>\n",
       "      <td>This European Standard has been adopted by the...</td>\n",
       "      <td>the general Clauses 1 to 6 and</td>\n",
       "    </tr>\n",
       "    <tr>\n",
       "      <th>8</th>\n",
       "      <td>EN50128</td>\n",
       "      <td>1.8</td>\n",
       "      <td>NaN</td>\n",
       "      <td>This European Standard is not intended to addr...</td>\n",
       "      <td>SCOPE</td>\n",
       "      <td>s</td>\n",
       "      <td>european standard intended</td>\n",
       "      <td>This European Standard should not be confused ...</td>\n",
       "      <td>this European Standard is not intended to addr...</td>\n",
       "    </tr>\n",
       "    <tr>\n",
       "      <th>9</th>\n",
       "      <td>EN50128</td>\n",
       "      <td>1.9</td>\n",
       "      <td>NaN</td>\n",
       "      <td>This European Standard is not intended to be r...</td>\n",
       "      <td>SCOPE</td>\n",
       "      <td>s</td>\n",
       "      <td>european standard upgrades</td>\n",
       "      <td>This European Standard covers the following:</td>\n",
       "      <td>this European Standard is not intended to be r...</td>\n",
       "    </tr>\n",
       "    <tr>\n",
       "      <th>10</th>\n",
       "      <td>EN50128</td>\n",
       "      <td>2</td>\n",
       "      <td>Normative references</td>\n",
       "      <td>The following referenced documents are indispe...</td>\n",
       "      <td>Normative references</td>\n",
       "      <td>u</td>\n",
       "      <td>railway applications specification</td>\n",
       "      <td>This document has been prepared by the Interna...</td>\n",
       "      <td>for dated references, only the edition</td>\n",
       "    </tr>\n",
       "    <tr>\n",
       "      <th>12</th>\n",
       "      <td>EN50128</td>\n",
       "      <td>3.1</td>\n",
       "      <td>Terms and definitions</td>\n",
       "      <td>For the purposes of this document, the followi...</td>\n",
       "      <td>Terms and definitions</td>\n",
       "      <td>u</td>\n",
       "      <td>following terms definitions</td>\n",
       "      <td>The following terms and definitions have been ...</td>\n",
       "      <td>for the purposes of this document, the following</td>\n",
       "    </tr>\n",
       "    <tr>\n",
       "      <th>13</th>\n",
       "      <td>EN50128</td>\n",
       "      <td>3.1.1</td>\n",
       "      <td>assessment</td>\n",
       "      <td>process of analysis to determine whether softw...</td>\n",
       "      <td>assessment</td>\n",
       "      <td>t</td>\n",
       "      <td>analysis determine software</td>\n",
       "      <td>Software safety assessments are carried out to...</td>\n",
       "      <td>safety assessment is focused on but not limite...</td>\n",
       "    </tr>\n",
       "    <tr>\n",
       "      <th>14</th>\n",
       "      <td>EN50128</td>\n",
       "      <td>3.1.2</td>\n",
       "      <td>assessor</td>\n",
       "      <td>entity that carries out an assessment</td>\n",
       "      <td>Assessor</td>\n",
       "      <td>t</td>\n",
       "      <td>entity carries assessment</td>\n",
       "      <td>Northern Ireland Secretary James Brokenshire h...</td>\n",
       "      <td>entity that carries out an assessment carries</td>\n",
       "    </tr>\n",
       "    <tr>\n",
       "      <th>15</th>\n",
       "      <td>EN50128</td>\n",
       "      <td>3.1.3</td>\n",
       "      <td>commercial off-the-shelf (COTS) software</td>\n",
       "      <td>software defined by market-driven need, commer...</td>\n",
       "      <td>commercial off-the-shelf (COTS) software</td>\n",
       "      <td>t</td>\n",
       "      <td>software defined market</td>\n",
       "      <td>Software defined by market-driven need, commer...</td>\n",
       "      <td>software defined by market-driven need, commer...</td>\n",
       "    </tr>\n",
       "    <tr>\n",
       "      <th>16</th>\n",
       "      <td>EN50128</td>\n",
       "      <td>3.1.4</td>\n",
       "      <td>component</td>\n",
       "      <td>a constituent part of software which has well-...</td>\n",
       "      <td>component</td>\n",
       "      <td>t</td>\n",
       "      <td>constituent software defined</td>\n",
       "      <td>A component is a part of software which has be...</td>\n",
       "      <td>constituent part of software which has well-de...</td>\n",
       "    </tr>\n",
       "    <tr>\n",
       "      <th>17</th>\n",
       "      <td>EN50128</td>\n",
       "      <td>3.1.5</td>\n",
       "      <td>configuration manager</td>\n",
       "      <td>entity that is responsible for implementing an...</td>\n",
       "      <td>Configuration Manager</td>\n",
       "      <td>t</td>\n",
       "      <td>configuration management documents</td>\n",
       "      <td>Reporting to the Chief Information Officer, th...</td>\n",
       "      <td>entity responsible for implementing and carryi...</td>\n",
       "    </tr>\n",
       "    <tr>\n",
       "      <th>18</th>\n",
       "      <td>EN50128</td>\n",
       "      <td>3.1.6</td>\n",
       "      <td>customer</td>\n",
       "      <td>entity which purchases a railway control and p...</td>\n",
       "      <td>customer</td>\n",
       "      <td>t</td>\n",
       "      <td>purchases railway control</td>\n",
       "      <td>A look at some of the key contracts awarded by...</td>\n",
       "      <td>entity which purchases a railway control and p...</td>\n",
       "    </tr>\n",
       "    <tr>\n",
       "      <th>19</th>\n",
       "      <td>EN50128</td>\n",
       "      <td>3.1.7</td>\n",
       "      <td>designer</td>\n",
       "      <td>entity that analyses and transforms specified ...</td>\n",
       "      <td>Designer</td>\n",
       "      <td>t</td>\n",
       "      <td>required safety integrity</td>\n",
       "      <td>Engineering consultancy firm Ramboll has been ...</td>\n",
       "      <td>entity that analyses and transforms specified ...</td>\n",
       "    </tr>\n",
       "    <tr>\n",
       "      <th>20</th>\n",
       "      <td>EN50128</td>\n",
       "      <td>3.1.8</td>\n",
       "      <td>entity</td>\n",
       "      <td>person, group or organisation who fulfils a ro...</td>\n",
       "      <td>entity</td>\n",
       "      <td>t</td>\n",
       "      <td>role defined european</td>\n",
       "      <td>This European Standard has been produced by th...</td>\n",
       "      <td>person, group or organisation who fulfils</td>\n",
       "    </tr>\n",
       "    <tr>\n",
       "      <th>21</th>\n",
       "      <td>EN50128</td>\n",
       "      <td>3.1.9</td>\n",
       "      <td>error, fault</td>\n",
       "      <td>defect, mistake or inaccuracy which could resu...</td>\n",
       "      <td>error</td>\n",
       "      <td>t</td>\n",
       "      <td>defect mistake inaccuracy</td>\n",
       "      <td>Details of the following:</td>\n",
       "      <td>defect, mistake or inaccuracy could</td>\n",
       "    </tr>\n",
       "  </tbody>\n",
       "</table>\n",
       "</div>"
      ]
     },
     "execution_count": 40,
     "metadata": {},
     "output_type": "execute_result"
    }
   ],
   "execution_count": 40
  },
  {
   "metadata": {
    "ExecuteTime": {
     "end_time": "2025-02-24T16:21:19.567218Z",
     "start_time": "2025-02-24T16:21:19.554225Z"
    }
   },
   "cell_type": "code",
   "source": "df.to_csv(data_dir.joinpath('new_summerries_keybert_pegasus_t5.csv'))",
   "id": "3e2c86f743e60a9f",
   "outputs": [],
   "execution_count": 41
  },
  {
   "metadata": {},
   "cell_type": "markdown",
   "source": "### Evaluation",
   "id": "2d006c4bdf9d197"
  },
  {
   "metadata": {},
   "cell_type": "markdown",
   "source": "#### Genrerate embeddings",
   "id": "3c744e99507aff38"
  },
  {
   "metadata": {},
   "cell_type": "markdown",
   "source": "##### all-MiniLM-L6-v2",
   "id": "bc838f880cdcf1be"
  },
  {
   "metadata": {
    "ExecuteTime": {
     "end_time": "2025-02-24T16:21:33.148645Z",
     "start_time": "2025-02-24T16:21:31.372219Z"
    }
   },
   "cell_type": "code",
   "source": "embeddings_model = SentenceTransformer('all-MiniLM-L6-v2')",
   "id": "6597085f2912eaad",
   "outputs": [],
   "execution_count": 42
  },
  {
   "metadata": {
    "ExecuteTime": {
     "end_time": "2025-02-24T16:21:33.172153Z",
     "start_time": "2025-02-24T16:21:33.166036Z"
    }
   },
   "cell_type": "code",
   "source": [
    "# Cache function to store embeddings\n",
    "@lru_cache(maxsize=100)  # Cache up to 100 entries, adjust as needed\n",
    "def get_embedding(text, embeddings_model = embeddings_model, show_progress=True):\n",
    "    \"\"\"\n",
    "    Compute and cache the embedding for a given text.\n",
    "    \"\"\"\n",
    "    embedding = embeddings_model.encode(text, show_progress_bar=show_progress)\n",
    "    return tuple(embedding)  # Tuples are hashable and compatible with lru_cache"
   ],
   "id": "2bc4bbf4e5a9b44d",
   "outputs": [],
   "execution_count": 43
  },
  {
   "metadata": {
    "ExecuteTime": {
     "end_time": "2025-02-24T16:22:36.640018Z",
     "start_time": "2025-02-24T16:22:33.956557Z"
    }
   },
   "cell_type": "code",
   "source": "df[\"embeddings-Heading\"] = df[\"Human Heading\"].progress_apply(lambda summary: get_embedding(str(summary), show_progress=False))",
   "id": "7bdc8d9bbed9c9fa",
   "outputs": [
    {
     "name": "stderr",
     "output_type": "stream",
     "text": [
      "100%|██████████| 716/716 [00:02<00:00, 267.52it/s]\n"
     ]
    }
   ],
   "execution_count": 44
  },
  {
   "metadata": {
    "ExecuteTime": {
     "end_time": "2025-02-24T16:22:58.329440Z",
     "start_time": "2025-02-24T16:22:52.791625Z"
    }
   },
   "cell_type": "code",
   "source": "df[\"embeddings-Keybert-all-MiniLM-L6-v2\"] = df[\"Keybert-all-MiniLM-L6-v2\"].progress_apply(lambda summary: get_embedding(summary, show_progress=False))",
   "id": "4a0da1f6120e9b03",
   "outputs": [
    {
     "name": "stderr",
     "output_type": "stream",
     "text": [
      "100%|██████████| 716/716 [00:05<00:00, 129.46it/s]\n"
     ]
    }
   ],
   "execution_count": 45
  },
  {
   "metadata": {
    "ExecuteTime": {
     "end_time": "2025-02-24T16:22:59.700390Z",
     "start_time": "2025-02-24T16:22:59.686550Z"
    }
   },
   "cell_type": "code",
   "source": "df.head()",
   "id": "a89652694ede7a52",
   "outputs": [
    {
     "data": {
      "text/plain": [
       "  Document Clause Number Clause Heading  \\\n",
       "1  EN50128           1.1            NaN   \n",
       "2  EN50128           1.2            NaN   \n",
       "3  EN50128           1.3            NaN   \n",
       "4  EN50128           1.4            NaN   \n",
       "5  EN50128           1.5            NaN   \n",
       "\n",
       "                                         Clause Text Human Heading Tag  \\\n",
       "1  This European Standard specifies the process a...         SCOPE   s   \n",
       "2  This European Standard is applicable exclusive...         SCOPE   s   \n",
       "3  This European Standard is not relevant for sof...         SCOPE   s   \n",
       "4  This European Standard applies to all safety r...         SCOPE   s   \n",
       "5  This European Standard also addresses the use ...         SCOPE   s   \n",
       "\n",
       "       Keybert-all-MiniLM-L6-v2  \\\n",
       "1    railway control protection   \n",
       "2  european standard applicable   \n",
       "3      safety software failures   \n",
       "4         software used railway   \n",
       "5         pre existing software   \n",
       "\n",
       "                             summarizer-pegasus-xsum  \\\n",
       "1  This standard has been published by the Europe...   \n",
       "2  This Standard is intended for use by software ...   \n",
       "3  This European Standard is not relevant for sof...   \n",
       "4  This European Standard applies to all safety r...   \n",
       "5  This European Standard sets out the requiremen...   \n",
       "\n",
       "                                 summarizer-t5-small  \\\n",
       "1  programmable electronic systems can be impleme...   \n",
       "2  this European Standard is applicable exclusive...   \n",
       "3  this European Standard is not relevant for sof...   \n",
       "4  application programming comprises high level p...   \n",
       "5                               7.3.4.7 and 6.5.4.16   \n",
       "\n",
       "                                  embeddings-Heading  \\\n",
       "1  (0.009632393, 0.03896258, -0.034440175, 0.0282...   \n",
       "2  (0.009632393, 0.03896258, -0.034440175, 0.0282...   \n",
       "3  (0.009632393, 0.03896258, -0.034440175, 0.0282...   \n",
       "4  (0.009632393, 0.03896258, -0.034440175, 0.0282...   \n",
       "5  (0.009632393, 0.03896258, -0.034440175, 0.0282...   \n",
       "\n",
       "                 embeddings-Keybert-all-MiniLM-L6-v2  \n",
       "1  (-0.094804406, 0.012879065, 0.008214989, 0.098...  \n",
       "2  (0.0059420005, 0.023941863, -0.026089476, -0.0...  \n",
       "3  (-0.05027322, 0.017859844, -0.019936524, -0.06...  \n",
       "4  (-0.0715207, -0.014608854, -0.028855726, 0.021...  \n",
       "5  (-0.079993464, -0.036486488, 0.023212254, -0.0...  "
      ],
      "text/html": [
       "<div>\n",
       "<style scoped>\n",
       "    .dataframe tbody tr th:only-of-type {\n",
       "        vertical-align: middle;\n",
       "    }\n",
       "\n",
       "    .dataframe tbody tr th {\n",
       "        vertical-align: top;\n",
       "    }\n",
       "\n",
       "    .dataframe thead th {\n",
       "        text-align: right;\n",
       "    }\n",
       "</style>\n",
       "<table border=\"1\" class=\"dataframe\">\n",
       "  <thead>\n",
       "    <tr style=\"text-align: right;\">\n",
       "      <th></th>\n",
       "      <th>Document</th>\n",
       "      <th>Clause Number</th>\n",
       "      <th>Clause Heading</th>\n",
       "      <th>Clause Text</th>\n",
       "      <th>Human Heading</th>\n",
       "      <th>Tag</th>\n",
       "      <th>Keybert-all-MiniLM-L6-v2</th>\n",
       "      <th>summarizer-pegasus-xsum</th>\n",
       "      <th>summarizer-t5-small</th>\n",
       "      <th>embeddings-Heading</th>\n",
       "      <th>embeddings-Keybert-all-MiniLM-L6-v2</th>\n",
       "    </tr>\n",
       "  </thead>\n",
       "  <tbody>\n",
       "    <tr>\n",
       "      <th>1</th>\n",
       "      <td>EN50128</td>\n",
       "      <td>1.1</td>\n",
       "      <td>NaN</td>\n",
       "      <td>This European Standard specifies the process a...</td>\n",
       "      <td>SCOPE</td>\n",
       "      <td>s</td>\n",
       "      <td>railway control protection</td>\n",
       "      <td>This standard has been published by the Europe...</td>\n",
       "      <td>programmable electronic systems can be impleme...</td>\n",
       "      <td>(0.009632393, 0.03896258, -0.034440175, 0.0282...</td>\n",
       "      <td>(-0.094804406, 0.012879065, 0.008214989, 0.098...</td>\n",
       "    </tr>\n",
       "    <tr>\n",
       "      <th>2</th>\n",
       "      <td>EN50128</td>\n",
       "      <td>1.2</td>\n",
       "      <td>NaN</td>\n",
       "      <td>This European Standard is applicable exclusive...</td>\n",
       "      <td>SCOPE</td>\n",
       "      <td>s</td>\n",
       "      <td>european standard applicable</td>\n",
       "      <td>This Standard is intended for use by software ...</td>\n",
       "      <td>this European Standard is applicable exclusive...</td>\n",
       "      <td>(0.009632393, 0.03896258, -0.034440175, 0.0282...</td>\n",
       "      <td>(0.0059420005, 0.023941863, -0.026089476, -0.0...</td>\n",
       "    </tr>\n",
       "    <tr>\n",
       "      <th>3</th>\n",
       "      <td>EN50128</td>\n",
       "      <td>1.3</td>\n",
       "      <td>NaN</td>\n",
       "      <td>This European Standard is not relevant for sof...</td>\n",
       "      <td>SCOPE</td>\n",
       "      <td>s</td>\n",
       "      <td>safety software failures</td>\n",
       "      <td>This European Standard is not relevant for sof...</td>\n",
       "      <td>this European Standard is not relevant for sof...</td>\n",
       "      <td>(0.009632393, 0.03896258, -0.034440175, 0.0282...</td>\n",
       "      <td>(-0.05027322, 0.017859844, -0.019936524, -0.06...</td>\n",
       "    </tr>\n",
       "    <tr>\n",
       "      <th>4</th>\n",
       "      <td>EN50128</td>\n",
       "      <td>1.4</td>\n",
       "      <td>NaN</td>\n",
       "      <td>This European Standard applies to all safety r...</td>\n",
       "      <td>SCOPE</td>\n",
       "      <td>s</td>\n",
       "      <td>software used railway</td>\n",
       "      <td>This European Standard applies to all safety r...</td>\n",
       "      <td>application programming comprises high level p...</td>\n",
       "      <td>(0.009632393, 0.03896258, -0.034440175, 0.0282...</td>\n",
       "      <td>(-0.0715207, -0.014608854, -0.028855726, 0.021...</td>\n",
       "    </tr>\n",
       "    <tr>\n",
       "      <th>5</th>\n",
       "      <td>EN50128</td>\n",
       "      <td>1.5</td>\n",
       "      <td>NaN</td>\n",
       "      <td>This European Standard also addresses the use ...</td>\n",
       "      <td>SCOPE</td>\n",
       "      <td>s</td>\n",
       "      <td>pre existing software</td>\n",
       "      <td>This European Standard sets out the requiremen...</td>\n",
       "      <td>7.3.4.7 and 6.5.4.16</td>\n",
       "      <td>(0.009632393, 0.03896258, -0.034440175, 0.0282...</td>\n",
       "      <td>(-0.079993464, -0.036486488, 0.023212254, -0.0...</td>\n",
       "    </tr>\n",
       "  </tbody>\n",
       "</table>\n",
       "</div>"
      ]
     },
     "execution_count": 46,
     "metadata": {},
     "output_type": "execute_result"
    }
   ],
   "execution_count": 46
  },
  {
   "metadata": {
    "ExecuteTime": {
     "end_time": "2025-02-24T16:23:26.744215Z",
     "start_time": "2025-02-24T16:23:18.466936Z"
    }
   },
   "cell_type": "code",
   "source": "df[\"embeddings-summarizer-pegasus-xsum\"] = df[\"summarizer-pegasus-xsum\"].progress_apply(lambda summary: get_embedding(summary, show_progress=False))",
   "id": "a3a12e466ca3730",
   "outputs": [
    {
     "name": "stderr",
     "output_type": "stream",
     "text": [
      "100%|██████████| 716/716 [00:08<00:00, 86.58it/s] \n"
     ]
    }
   ],
   "execution_count": 47
  },
  {
   "metadata": {
    "ExecuteTime": {
     "end_time": "2025-02-24T16:23:34.409736Z",
     "start_time": "2025-02-24T16:23:26.765232Z"
    }
   },
   "cell_type": "code",
   "source": "df[\"embeddings-summarizer-t5-small\"] = df[\"summarizer-t5-small\"].progress_apply(lambda summary: get_embedding(summary, show_progress=False))\n",
   "id": "b661db7eec87038a",
   "outputs": [
    {
     "name": "stderr",
     "output_type": "stream",
     "text": [
      "100%|██████████| 716/716 [00:07<00:00, 93.77it/s] \n"
     ]
    }
   ],
   "execution_count": 48
  },
  {
   "metadata": {},
   "cell_type": "markdown",
   "source": "### Evaluation",
   "id": "16e84349d1acba27"
  },
  {
   "metadata": {},
   "cell_type": "markdown",
   "source": "#### ROUGE",
   "id": "a7d0bc4ffad3dbde"
  },
  {
   "metadata": {
    "ExecuteTime": {
     "end_time": "2025-02-24T16:23:37.892414Z",
     "start_time": "2025-02-24T16:23:37.888453Z"
    }
   },
   "cell_type": "code",
   "source": "import evaluate",
   "id": "824bd45ea9403d09",
   "outputs": [],
   "execution_count": 49
  },
  {
   "metadata": {
    "ExecuteTime": {
     "end_time": "2025-02-24T16:23:40.915227Z",
     "start_time": "2025-02-24T16:23:38.996574Z"
    }
   },
   "cell_type": "code",
   "source": "rouge = evaluate.load('rouge')",
   "id": "a9ca64eac3f48189",
   "outputs": [],
   "execution_count": 50
  },
  {
   "metadata": {
    "ExecuteTime": {
     "end_time": "2025-02-24T16:23:41.284541Z",
     "start_time": "2025-02-24T16:23:41.280172Z"
    }
   },
   "cell_type": "code",
   "source": [
    "def compute_rouge_row(reference, prediction, rouge_type=\"rougeL\"):\n",
    "    \"\"\"\n",
    "    Compute ROUGE scores for a single reference and prediction pair.\n",
    "    \n",
    "    Args:\n",
    "        reference (str): The reference heading (gold standard).\n",
    "        prediction (str): The generated summary (KeyBERT summary).\n",
    "        rouge_type (str): The type of ROUGE score to compute (\"rouge1\", \"rouge2\", \"rougeL\").\n",
    "\n",
    "    Returns:\n",
    "        float: ROUGE F1 score of the specified type.\n",
    "    \"\"\"\n",
    "    # Handle missing values\n",
    "    reference = reference if pd.notna(reference) else \"\"\n",
    "    prediction = prediction if pd.notna(prediction) else \"\"\n",
    "\n",
    "    # Compute ROUGE score\n",
    "    score = rouge.compute(predictions=[prediction], references=[reference])\n",
    "    return score[rouge_type]"
   ],
   "id": "f3f120e624ef3dca",
   "outputs": [],
   "execution_count": 51
  },
  {
   "metadata": {
    "ExecuteTime": {
     "end_time": "2025-02-24T16:26:00.716085Z",
     "start_time": "2025-02-24T16:24:32.915734Z"
    }
   },
   "cell_type": "code",
   "source": "df[\"rouge-1-Keybert-all-MiniLM-L6-v2\"] = df.progress_apply(lambda row: compute_rouge_row(row[\"Human Heading\"], row[\"Keybert-all-MiniLM-L6-v2\"], 'rouge1'), axis=1)",
   "id": "839e3e5a705a5a55",
   "outputs": [
    {
     "name": "stderr",
     "output_type": "stream",
     "text": [
      "100%|██████████| 716/716 [01:27<00:00,  8.16it/s]\n"
     ]
    }
   ],
   "execution_count": 55
  },
  {
   "metadata": {
    "ExecuteTime": {
     "end_time": "2025-02-24T16:27:16.817988Z",
     "start_time": "2025-02-24T16:26:00.807303Z"
    }
   },
   "cell_type": "code",
   "source": "df[\"rouge-L-Keybert-all-MiniLM-L6-v2\"] = df.progress_apply(lambda row: compute_rouge_row(row[\"Human Heading\"], row[\"Keybert-all-MiniLM-L6-v2\"], 'rougeL'), axis=1)",
   "id": "38dcd590146a711f",
   "outputs": [
    {
     "name": "stderr",
     "output_type": "stream",
     "text": [
      "100%|██████████| 716/716 [01:15<00:00,  9.42it/s]\n"
     ]
    }
   ],
   "execution_count": 56
  },
  {
   "metadata": {
    "ExecuteTime": {
     "end_time": "2025-02-24T16:29:54.044074Z",
     "start_time": "2025-02-24T16:27:16.914183Z"
    }
   },
   "cell_type": "code",
   "source": "df[\"rouge-1-summarizer-pegasus-xsum\"] = df.progress_apply(lambda row: compute_rouge_row(row[\"Human Heading\"], row[\"summarizer-pegasus-xsum\"], 'rouge1'), axis=1)",
   "id": "826990f1e006ccba",
   "outputs": [
    {
     "name": "stderr",
     "output_type": "stream",
     "text": [
      "100%|██████████| 716/716 [02:37<00:00,  4.56it/s]\n"
     ]
    }
   ],
   "execution_count": 57
  },
  {
   "metadata": {
    "ExecuteTime": {
     "end_time": "2025-02-24T16:32:39.306338Z",
     "start_time": "2025-02-24T16:29:54.099104Z"
    }
   },
   "cell_type": "code",
   "source": "df[\"rouge-L-summarizer-pegasus-xsum\"] = df.progress_apply(lambda row: compute_rouge_row(row[\"Human Heading\"], row[\"summarizer-pegasus-xsum\"], 'rougeL'), axis=1)",
   "id": "d3cfe6dcf61c71a1",
   "outputs": [
    {
     "name": "stderr",
     "output_type": "stream",
     "text": [
      "100%|██████████| 716/716 [02:45<00:00,  4.33it/s]\n"
     ]
    }
   ],
   "execution_count": 58
  },
  {
   "metadata": {
    "ExecuteTime": {
     "end_time": "2025-02-24T16:34:36.865357Z",
     "start_time": "2025-02-24T16:33:44.192425Z"
    }
   },
   "cell_type": "code",
   "source": "df[\"rouge-1-summarizer-t5-small\"] = df.progress_apply(lambda row: compute_rouge_row(row[\"Human Heading\"], row[\"summarizer-t5-small\"], 'rouge1'), axis=1)",
   "id": "fd76a1d662cb6857",
   "outputs": [
    {
     "name": "stderr",
     "output_type": "stream",
     "text": [
      "100%|██████████| 716/716 [00:52<00:00, 13.60it/s]\n"
     ]
    }
   ],
   "execution_count": 60
  },
  {
   "metadata": {
    "ExecuteTime": {
     "end_time": "2025-02-24T16:38:51.365074Z",
     "start_time": "2025-02-24T16:37:59.462329Z"
    }
   },
   "cell_type": "code",
   "source": "df[\"rouge-L-summarizer-t5-small\"] = df.progress_apply(lambda row: compute_rouge_row(row[\"Human Heading\"], row[\"summarizer-t5-small\"], 'rougeL'), axis=1)",
   "id": "d8dcb3a4886beaeb",
   "outputs": [
    {
     "name": "stderr",
     "output_type": "stream",
     "text": [
      "100%|██████████| 716/716 [00:51<00:00, 13.80it/s]\n"
     ]
    }
   ],
   "execution_count": 80
  },
  {
   "metadata": {
    "ExecuteTime": {
     "end_time": "2025-02-24T16:35:19.262118Z",
     "start_time": "2025-02-24T16:35:19.241879Z"
    }
   },
   "cell_type": "code",
   "source": "df.head()",
   "id": "721de4e15c450f0a",
   "outputs": [
    {
     "data": {
      "text/plain": [
       "  Document Clause Number Clause Heading  \\\n",
       "1  EN50128           1.1            NaN   \n",
       "2  EN50128           1.2            NaN   \n",
       "3  EN50128           1.3            NaN   \n",
       "4  EN50128           1.4            NaN   \n",
       "5  EN50128           1.5            NaN   \n",
       "\n",
       "                                         Clause Text Human Heading Tag  \\\n",
       "1  This European Standard specifies the process a...         SCOPE   s   \n",
       "2  This European Standard is applicable exclusive...         SCOPE   s   \n",
       "3  This European Standard is not relevant for sof...         SCOPE   s   \n",
       "4  This European Standard applies to all safety r...         SCOPE   s   \n",
       "5  This European Standard also addresses the use ...         SCOPE   s   \n",
       "\n",
       "       Keybert-all-MiniLM-L6-v2  \\\n",
       "1    railway control protection   \n",
       "2  european standard applicable   \n",
       "3      safety software failures   \n",
       "4         software used railway   \n",
       "5         pre existing software   \n",
       "\n",
       "                             summarizer-pegasus-xsum  \\\n",
       "1  This standard has been published by the Europe...   \n",
       "2  This Standard is intended for use by software ...   \n",
       "3  This European Standard is not relevant for sof...   \n",
       "4  This European Standard applies to all safety r...   \n",
       "5  This European Standard sets out the requiremen...   \n",
       "\n",
       "                                 summarizer-t5-small  \\\n",
       "1  programmable electronic systems can be impleme...   \n",
       "2  this European Standard is applicable exclusive...   \n",
       "3  this European Standard is not relevant for sof...   \n",
       "4  application programming comprises high level p...   \n",
       "5                               7.3.4.7 and 6.5.4.16   \n",
       "\n",
       "                                  embeddings-Heading  \\\n",
       "1  (0.009632393, 0.03896258, -0.034440175, 0.0282...   \n",
       "2  (0.009632393, 0.03896258, -0.034440175, 0.0282...   \n",
       "3  (0.009632393, 0.03896258, -0.034440175, 0.0282...   \n",
       "4  (0.009632393, 0.03896258, -0.034440175, 0.0282...   \n",
       "5  (0.009632393, 0.03896258, -0.034440175, 0.0282...   \n",
       "\n",
       "                 embeddings-Keybert-all-MiniLM-L6-v2  \\\n",
       "1  (-0.094804406, 0.012879065, 0.008214989, 0.098...   \n",
       "2  (0.0059420005, 0.023941863, -0.026089476, -0.0...   \n",
       "3  (-0.05027322, 0.017859844, -0.019936524, -0.06...   \n",
       "4  (-0.0715207, -0.014608854, -0.028855726, 0.021...   \n",
       "5  (-0.079993464, -0.036486488, 0.023212254, -0.0...   \n",
       "\n",
       "                  embeddings-summarizer-pegasus-xsum  \\\n",
       "1  (0.012583623, 0.04773652, -0.090783685, 0.0182...   \n",
       "2  (-0.05959746, 0.009036754, -0.08797326, -0.052...   \n",
       "3  (0.019806987, 0.046919122, -0.048790477, -0.09...   \n",
       "4  (-0.038539495, -0.019001987, -0.056187857, -0....   \n",
       "5  (-0.015493689, 0.037855, -0.06615921, -0.06667...   \n",
       "\n",
       "                      embeddings-summarizer-t5-small  \\\n",
       "1  (-0.06986263, 0.047352523, -0.095013924, -0.06...   \n",
       "2  (-0.013446538, 0.015289357, -0.054077435, -0.1...   \n",
       "3  (0.0054376503, 0.026909212, -0.048973463, -0.1...   \n",
       "4  (-0.03427112, 0.007936827, -0.0047192476, -0.0...   \n",
       "5  (-0.018297635, -0.01638731, 0.021949157, -0.02...   \n",
       "\n",
       "   rouge-1-Keybert-all-MiniLM-L6-v2  rouge-L-Keybert-all-MiniLM-L6-v2  \\\n",
       "1                               0.0                               0.0   \n",
       "2                               0.0                               0.0   \n",
       "3                               0.0                               0.0   \n",
       "4                               0.0                               0.0   \n",
       "5                               0.0                               0.0   \n",
       "\n",
       "   rouge-1-summarizer-pegasus-xsum  rouge-L-summarizer-pegasus-xsum  \\\n",
       "1                              0.0                              0.0   \n",
       "2                              0.0                              0.0   \n",
       "3                              0.0                              0.0   \n",
       "4                              0.0                              0.0   \n",
       "5                              0.0                              0.0   \n",
       "\n",
       "   rouge-1-summarizer-t5-small  \n",
       "1                          0.0  \n",
       "2                          0.0  \n",
       "3                          0.0  \n",
       "4                          0.0  \n",
       "5                          0.0  "
      ],
      "text/html": [
       "<div>\n",
       "<style scoped>\n",
       "    .dataframe tbody tr th:only-of-type {\n",
       "        vertical-align: middle;\n",
       "    }\n",
       "\n",
       "    .dataframe tbody tr th {\n",
       "        vertical-align: top;\n",
       "    }\n",
       "\n",
       "    .dataframe thead th {\n",
       "        text-align: right;\n",
       "    }\n",
       "</style>\n",
       "<table border=\"1\" class=\"dataframe\">\n",
       "  <thead>\n",
       "    <tr style=\"text-align: right;\">\n",
       "      <th></th>\n",
       "      <th>Document</th>\n",
       "      <th>Clause Number</th>\n",
       "      <th>Clause Heading</th>\n",
       "      <th>Clause Text</th>\n",
       "      <th>Human Heading</th>\n",
       "      <th>Tag</th>\n",
       "      <th>Keybert-all-MiniLM-L6-v2</th>\n",
       "      <th>summarizer-pegasus-xsum</th>\n",
       "      <th>summarizer-t5-small</th>\n",
       "      <th>embeddings-Heading</th>\n",
       "      <th>embeddings-Keybert-all-MiniLM-L6-v2</th>\n",
       "      <th>embeddings-summarizer-pegasus-xsum</th>\n",
       "      <th>embeddings-summarizer-t5-small</th>\n",
       "      <th>rouge-1-Keybert-all-MiniLM-L6-v2</th>\n",
       "      <th>rouge-L-Keybert-all-MiniLM-L6-v2</th>\n",
       "      <th>rouge-1-summarizer-pegasus-xsum</th>\n",
       "      <th>rouge-L-summarizer-pegasus-xsum</th>\n",
       "      <th>rouge-1-summarizer-t5-small</th>\n",
       "    </tr>\n",
       "  </thead>\n",
       "  <tbody>\n",
       "    <tr>\n",
       "      <th>1</th>\n",
       "      <td>EN50128</td>\n",
       "      <td>1.1</td>\n",
       "      <td>NaN</td>\n",
       "      <td>This European Standard specifies the process a...</td>\n",
       "      <td>SCOPE</td>\n",
       "      <td>s</td>\n",
       "      <td>railway control protection</td>\n",
       "      <td>This standard has been published by the Europe...</td>\n",
       "      <td>programmable electronic systems can be impleme...</td>\n",
       "      <td>(0.009632393, 0.03896258, -0.034440175, 0.0282...</td>\n",
       "      <td>(-0.094804406, 0.012879065, 0.008214989, 0.098...</td>\n",
       "      <td>(0.012583623, 0.04773652, -0.090783685, 0.0182...</td>\n",
       "      <td>(-0.06986263, 0.047352523, -0.095013924, -0.06...</td>\n",
       "      <td>0.0</td>\n",
       "      <td>0.0</td>\n",
       "      <td>0.0</td>\n",
       "      <td>0.0</td>\n",
       "      <td>0.0</td>\n",
       "    </tr>\n",
       "    <tr>\n",
       "      <th>2</th>\n",
       "      <td>EN50128</td>\n",
       "      <td>1.2</td>\n",
       "      <td>NaN</td>\n",
       "      <td>This European Standard is applicable exclusive...</td>\n",
       "      <td>SCOPE</td>\n",
       "      <td>s</td>\n",
       "      <td>european standard applicable</td>\n",
       "      <td>This Standard is intended for use by software ...</td>\n",
       "      <td>this European Standard is applicable exclusive...</td>\n",
       "      <td>(0.009632393, 0.03896258, -0.034440175, 0.0282...</td>\n",
       "      <td>(0.0059420005, 0.023941863, -0.026089476, -0.0...</td>\n",
       "      <td>(-0.05959746, 0.009036754, -0.08797326, -0.052...</td>\n",
       "      <td>(-0.013446538, 0.015289357, -0.054077435, -0.1...</td>\n",
       "      <td>0.0</td>\n",
       "      <td>0.0</td>\n",
       "      <td>0.0</td>\n",
       "      <td>0.0</td>\n",
       "      <td>0.0</td>\n",
       "    </tr>\n",
       "    <tr>\n",
       "      <th>3</th>\n",
       "      <td>EN50128</td>\n",
       "      <td>1.3</td>\n",
       "      <td>NaN</td>\n",
       "      <td>This European Standard is not relevant for sof...</td>\n",
       "      <td>SCOPE</td>\n",
       "      <td>s</td>\n",
       "      <td>safety software failures</td>\n",
       "      <td>This European Standard is not relevant for sof...</td>\n",
       "      <td>this European Standard is not relevant for sof...</td>\n",
       "      <td>(0.009632393, 0.03896258, -0.034440175, 0.0282...</td>\n",
       "      <td>(-0.05027322, 0.017859844, -0.019936524, -0.06...</td>\n",
       "      <td>(0.019806987, 0.046919122, -0.048790477, -0.09...</td>\n",
       "      <td>(0.0054376503, 0.026909212, -0.048973463, -0.1...</td>\n",
       "      <td>0.0</td>\n",
       "      <td>0.0</td>\n",
       "      <td>0.0</td>\n",
       "      <td>0.0</td>\n",
       "      <td>0.0</td>\n",
       "    </tr>\n",
       "    <tr>\n",
       "      <th>4</th>\n",
       "      <td>EN50128</td>\n",
       "      <td>1.4</td>\n",
       "      <td>NaN</td>\n",
       "      <td>This European Standard applies to all safety r...</td>\n",
       "      <td>SCOPE</td>\n",
       "      <td>s</td>\n",
       "      <td>software used railway</td>\n",
       "      <td>This European Standard applies to all safety r...</td>\n",
       "      <td>application programming comprises high level p...</td>\n",
       "      <td>(0.009632393, 0.03896258, -0.034440175, 0.0282...</td>\n",
       "      <td>(-0.0715207, -0.014608854, -0.028855726, 0.021...</td>\n",
       "      <td>(-0.038539495, -0.019001987, -0.056187857, -0....</td>\n",
       "      <td>(-0.03427112, 0.007936827, -0.0047192476, -0.0...</td>\n",
       "      <td>0.0</td>\n",
       "      <td>0.0</td>\n",
       "      <td>0.0</td>\n",
       "      <td>0.0</td>\n",
       "      <td>0.0</td>\n",
       "    </tr>\n",
       "    <tr>\n",
       "      <th>5</th>\n",
       "      <td>EN50128</td>\n",
       "      <td>1.5</td>\n",
       "      <td>NaN</td>\n",
       "      <td>This European Standard also addresses the use ...</td>\n",
       "      <td>SCOPE</td>\n",
       "      <td>s</td>\n",
       "      <td>pre existing software</td>\n",
       "      <td>This European Standard sets out the requiremen...</td>\n",
       "      <td>7.3.4.7 and 6.5.4.16</td>\n",
       "      <td>(0.009632393, 0.03896258, -0.034440175, 0.0282...</td>\n",
       "      <td>(-0.079993464, -0.036486488, 0.023212254, -0.0...</td>\n",
       "      <td>(-0.015493689, 0.037855, -0.06615921, -0.06667...</td>\n",
       "      <td>(-0.018297635, -0.01638731, 0.021949157, -0.02...</td>\n",
       "      <td>0.0</td>\n",
       "      <td>0.0</td>\n",
       "      <td>0.0</td>\n",
       "      <td>0.0</td>\n",
       "      <td>0.0</td>\n",
       "    </tr>\n",
       "  </tbody>\n",
       "</table>\n",
       "</div>"
      ]
     },
     "execution_count": 61,
     "metadata": {},
     "output_type": "execute_result"
    }
   ],
   "execution_count": 61
  },
  {
   "metadata": {},
   "cell_type": "markdown",
   "source": "#### semantic",
   "id": "fbbd2f752e4d2be7"
  },
  {
   "metadata": {
    "ExecuteTime": {
     "end_time": "2025-02-24T16:35:50.331491Z",
     "start_time": "2025-02-24T16:35:50.328573Z"
    }
   },
   "cell_type": "code",
   "source": "import numpy as np",
   "id": "e4005caebeef88c2",
   "outputs": [],
   "execution_count": 62
  },
  {
   "metadata": {
    "ExecuteTime": {
     "end_time": "2025-02-24T16:35:51.796729Z",
     "start_time": "2025-02-24T16:35:51.793515Z"
    }
   },
   "cell_type": "code",
   "source": [
    "def compute_row_similarity(embedding1, embedding2):\n",
    "    \"\"\"\n",
    "    Compute the cosine similarity between two embeddings with validation.\n",
    "    \n",
    "    Args:\n",
    "        embedding1 (array-like or None): First embedding.\n",
    "        embedding2 (array-like or None): Second embedding.\n",
    "        \n",
    "    Returns:\n",
    "        float: Cosine similarity score if embeddings are valid, otherwise NaN.\n",
    "    \"\"\"\n",
    "    # Check for None or NaN embeddings\n",
    "    if pd.isna(embedding1) or pd.isna(embedding2):\n",
    "        return np.nan  # Return NaN if any embedding is missing\n",
    "    \n",
    "    # Convert tuples/lists to NumPy arrays for cosine similarity\n",
    "    if isinstance(embedding1, (tuple, list)):\n",
    "        embedding1 = np.array(embedding1)\n",
    "    if isinstance(embedding2, (tuple, list)):\n",
    "        embedding2 = np.array(embedding2)\n",
    "    \n",
    "    # Check that embeddings have the same length\n",
    "    if embedding1.shape != embedding2.shape:\n",
    "        return np.nan  # Return NaN if embeddings are not of the same shape\n",
    "    \n",
    "    # Compute and return cosine similarity\n",
    "    return cosine_similarity([embedding1], [embedding2])[0][0]"
   ],
   "id": "b6f982d4ef6ff43",
   "outputs": [],
   "execution_count": 63
  },
  {
   "metadata": {
    "ExecuteTime": {
     "end_time": "2025-02-24T16:36:00.044796Z",
     "start_time": "2025-02-24T16:35:59.889524Z"
    }
   },
   "cell_type": "code",
   "source": "df[\"cosine-Keybert-all-MiniLM-L6-v2\"] = df.progress_apply(lambda row: compute_row_similarity(row[\"embeddings-Heading\"], row[\"embeddings-Keybert-all-MiniLM-L6-v2\"]),axis=1)",
   "id": "fd03071811bb3cf6",
   "outputs": [
    {
     "name": "stderr",
     "output_type": "stream",
     "text": [
      "100%|██████████| 716/716 [00:00<00:00, 4798.02it/s]\n"
     ]
    }
   ],
   "execution_count": 64
  },
  {
   "metadata": {
    "ExecuteTime": {
     "end_time": "2025-02-24T16:36:01.428348Z",
     "start_time": "2025-02-24T16:36:01.270294Z"
    }
   },
   "cell_type": "code",
   "source": "df[\"cosine-summarizer-pegasus-xsum\"] = df.progress_apply(lambda row: compute_row_similarity(row[\"embeddings-Heading\"], row[\"embeddings-summarizer-pegasus-xsum\"]),axis=1)",
   "id": "c7fd5137116e5506",
   "outputs": [
    {
     "name": "stderr",
     "output_type": "stream",
     "text": [
      "100%|██████████| 716/716 [00:00<00:00, 4771.65it/s]\n"
     ]
    }
   ],
   "execution_count": 65
  },
  {
   "metadata": {
    "ExecuteTime": {
     "end_time": "2025-02-24T16:36:02.844216Z",
     "start_time": "2025-02-24T16:36:02.691562Z"
    }
   },
   "cell_type": "code",
   "source": "df[\"cosine-summarizer-t5-small\"] = df.progress_apply(lambda row: compute_row_similarity(row[\"embeddings-Heading\"], row[\"embeddings-summarizer-t5-small\"]),axis=1)",
   "id": "267da6540867180b",
   "outputs": [
    {
     "name": "stderr",
     "output_type": "stream",
     "text": [
      "100%|██████████| 716/716 [00:00<00:00, 4885.84it/s]\n"
     ]
    }
   ],
   "execution_count": 66
  },
  {
   "metadata": {
    "ExecuteTime": {
     "end_time": "2025-02-24T16:37:28.817394Z",
     "start_time": "2025-02-24T16:37:28.798575Z"
    }
   },
   "cell_type": "code",
   "source": "df.head()",
   "id": "7f526d23242a0752",
   "outputs": [
    {
     "data": {
      "text/plain": [
       "  Document Clause Number Clause Heading  \\\n",
       "1  EN50128           1.1            NaN   \n",
       "2  EN50128           1.2            NaN   \n",
       "3  EN50128           1.3            NaN   \n",
       "4  EN50128           1.4            NaN   \n",
       "5  EN50128           1.5            NaN   \n",
       "\n",
       "                                         Clause Text Human Heading Tag  \\\n",
       "1  This European Standard specifies the process a...         SCOPE   s   \n",
       "2  This European Standard is applicable exclusive...         SCOPE   s   \n",
       "3  This European Standard is not relevant for sof...         SCOPE   s   \n",
       "4  This European Standard applies to all safety r...         SCOPE   s   \n",
       "5  This European Standard also addresses the use ...         SCOPE   s   \n",
       "\n",
       "       Keybert-all-MiniLM-L6-v2  \\\n",
       "1    railway control protection   \n",
       "2  european standard applicable   \n",
       "3      safety software failures   \n",
       "4         software used railway   \n",
       "5         pre existing software   \n",
       "\n",
       "                             summarizer-pegasus-xsum  \\\n",
       "1  This standard has been published by the Europe...   \n",
       "2  This Standard is intended for use by software ...   \n",
       "3  This European Standard is not relevant for sof...   \n",
       "4  This European Standard applies to all safety r...   \n",
       "5  This European Standard sets out the requiremen...   \n",
       "\n",
       "                                 summarizer-t5-small  \\\n",
       "1  programmable electronic systems can be impleme...   \n",
       "2  this European Standard is applicable exclusive...   \n",
       "3  this European Standard is not relevant for sof...   \n",
       "4  application programming comprises high level p...   \n",
       "5                               7.3.4.7 and 6.5.4.16   \n",
       "\n",
       "                                  embeddings-Heading  ...  \\\n",
       "1  (0.009632393, 0.03896258, -0.034440175, 0.0282...  ...   \n",
       "2  (0.009632393, 0.03896258, -0.034440175, 0.0282...  ...   \n",
       "3  (0.009632393, 0.03896258, -0.034440175, 0.0282...  ...   \n",
       "4  (0.009632393, 0.03896258, -0.034440175, 0.0282...  ...   \n",
       "5  (0.009632393, 0.03896258, -0.034440175, 0.0282...  ...   \n",
       "\n",
       "                  embeddings-summarizer-pegasus-xsum  \\\n",
       "1  (0.012583623, 0.04773652, -0.090783685, 0.0182...   \n",
       "2  (-0.05959746, 0.009036754, -0.08797326, -0.052...   \n",
       "3  (0.019806987, 0.046919122, -0.048790477, -0.09...   \n",
       "4  (-0.038539495, -0.019001987, -0.056187857, -0....   \n",
       "5  (-0.015493689, 0.037855, -0.06615921, -0.06667...   \n",
       "\n",
       "                      embeddings-summarizer-t5-small  \\\n",
       "1  (-0.06986263, 0.047352523, -0.095013924, -0.06...   \n",
       "2  (-0.013446538, 0.015289357, -0.054077435, -0.1...   \n",
       "3  (0.0054376503, 0.026909212, -0.048973463, -0.1...   \n",
       "4  (-0.03427112, 0.007936827, -0.0047192476, -0.0...   \n",
       "5  (-0.018297635, -0.01638731, 0.021949157, -0.02...   \n",
       "\n",
       "  rouge-1-Keybert-all-MiniLM-L6-v2  rouge-L-Keybert-all-MiniLM-L6-v2  \\\n",
       "1                              0.0                               0.0   \n",
       "2                              0.0                               0.0   \n",
       "3                              0.0                               0.0   \n",
       "4                              0.0                               0.0   \n",
       "5                              0.0                               0.0   \n",
       "\n",
       "   rouge-1-summarizer-pegasus-xsum  rouge-L-summarizer-pegasus-xsum  \\\n",
       "1                              0.0                              0.0   \n",
       "2                              0.0                              0.0   \n",
       "3                              0.0                              0.0   \n",
       "4                              0.0                              0.0   \n",
       "5                              0.0                              0.0   \n",
       "\n",
       "   rouge-1-summarizer-t5-small  cosine-Keybert-all-MiniLM-L6-v2  \\\n",
       "1                          0.0                         0.096626   \n",
       "2                          0.0                         0.145781   \n",
       "3                          0.0                         0.109187   \n",
       "4                          0.0                         0.106486   \n",
       "5                          0.0                         0.146125   \n",
       "\n",
       "   cosine-summarizer-pegasus-xsum  cosine-summarizer-t5-small  \n",
       "1                        0.149391                    0.083334  \n",
       "2                        0.156084                    0.124848  \n",
       "3                        0.123902                    0.149423  \n",
       "4                        0.047205                    0.211130  \n",
       "5                        0.213242                    0.134241  \n",
       "\n",
       "[5 rows x 21 columns]"
      ],
      "text/html": [
       "<div>\n",
       "<style scoped>\n",
       "    .dataframe tbody tr th:only-of-type {\n",
       "        vertical-align: middle;\n",
       "    }\n",
       "\n",
       "    .dataframe tbody tr th {\n",
       "        vertical-align: top;\n",
       "    }\n",
       "\n",
       "    .dataframe thead th {\n",
       "        text-align: right;\n",
       "    }\n",
       "</style>\n",
       "<table border=\"1\" class=\"dataframe\">\n",
       "  <thead>\n",
       "    <tr style=\"text-align: right;\">\n",
       "      <th></th>\n",
       "      <th>Document</th>\n",
       "      <th>Clause Number</th>\n",
       "      <th>Clause Heading</th>\n",
       "      <th>Clause Text</th>\n",
       "      <th>Human Heading</th>\n",
       "      <th>Tag</th>\n",
       "      <th>Keybert-all-MiniLM-L6-v2</th>\n",
       "      <th>summarizer-pegasus-xsum</th>\n",
       "      <th>summarizer-t5-small</th>\n",
       "      <th>embeddings-Heading</th>\n",
       "      <th>...</th>\n",
       "      <th>embeddings-summarizer-pegasus-xsum</th>\n",
       "      <th>embeddings-summarizer-t5-small</th>\n",
       "      <th>rouge-1-Keybert-all-MiniLM-L6-v2</th>\n",
       "      <th>rouge-L-Keybert-all-MiniLM-L6-v2</th>\n",
       "      <th>rouge-1-summarizer-pegasus-xsum</th>\n",
       "      <th>rouge-L-summarizer-pegasus-xsum</th>\n",
       "      <th>rouge-1-summarizer-t5-small</th>\n",
       "      <th>cosine-Keybert-all-MiniLM-L6-v2</th>\n",
       "      <th>cosine-summarizer-pegasus-xsum</th>\n",
       "      <th>cosine-summarizer-t5-small</th>\n",
       "    </tr>\n",
       "  </thead>\n",
       "  <tbody>\n",
       "    <tr>\n",
       "      <th>1</th>\n",
       "      <td>EN50128</td>\n",
       "      <td>1.1</td>\n",
       "      <td>NaN</td>\n",
       "      <td>This European Standard specifies the process a...</td>\n",
       "      <td>SCOPE</td>\n",
       "      <td>s</td>\n",
       "      <td>railway control protection</td>\n",
       "      <td>This standard has been published by the Europe...</td>\n",
       "      <td>programmable electronic systems can be impleme...</td>\n",
       "      <td>(0.009632393, 0.03896258, -0.034440175, 0.0282...</td>\n",
       "      <td>...</td>\n",
       "      <td>(0.012583623, 0.04773652, -0.090783685, 0.0182...</td>\n",
       "      <td>(-0.06986263, 0.047352523, -0.095013924, -0.06...</td>\n",
       "      <td>0.0</td>\n",
       "      <td>0.0</td>\n",
       "      <td>0.0</td>\n",
       "      <td>0.0</td>\n",
       "      <td>0.0</td>\n",
       "      <td>0.096626</td>\n",
       "      <td>0.149391</td>\n",
       "      <td>0.083334</td>\n",
       "    </tr>\n",
       "    <tr>\n",
       "      <th>2</th>\n",
       "      <td>EN50128</td>\n",
       "      <td>1.2</td>\n",
       "      <td>NaN</td>\n",
       "      <td>This European Standard is applicable exclusive...</td>\n",
       "      <td>SCOPE</td>\n",
       "      <td>s</td>\n",
       "      <td>european standard applicable</td>\n",
       "      <td>This Standard is intended for use by software ...</td>\n",
       "      <td>this European Standard is applicable exclusive...</td>\n",
       "      <td>(0.009632393, 0.03896258, -0.034440175, 0.0282...</td>\n",
       "      <td>...</td>\n",
       "      <td>(-0.05959746, 0.009036754, -0.08797326, -0.052...</td>\n",
       "      <td>(-0.013446538, 0.015289357, -0.054077435, -0.1...</td>\n",
       "      <td>0.0</td>\n",
       "      <td>0.0</td>\n",
       "      <td>0.0</td>\n",
       "      <td>0.0</td>\n",
       "      <td>0.0</td>\n",
       "      <td>0.145781</td>\n",
       "      <td>0.156084</td>\n",
       "      <td>0.124848</td>\n",
       "    </tr>\n",
       "    <tr>\n",
       "      <th>3</th>\n",
       "      <td>EN50128</td>\n",
       "      <td>1.3</td>\n",
       "      <td>NaN</td>\n",
       "      <td>This European Standard is not relevant for sof...</td>\n",
       "      <td>SCOPE</td>\n",
       "      <td>s</td>\n",
       "      <td>safety software failures</td>\n",
       "      <td>This European Standard is not relevant for sof...</td>\n",
       "      <td>this European Standard is not relevant for sof...</td>\n",
       "      <td>(0.009632393, 0.03896258, -0.034440175, 0.0282...</td>\n",
       "      <td>...</td>\n",
       "      <td>(0.019806987, 0.046919122, -0.048790477, -0.09...</td>\n",
       "      <td>(0.0054376503, 0.026909212, -0.048973463, -0.1...</td>\n",
       "      <td>0.0</td>\n",
       "      <td>0.0</td>\n",
       "      <td>0.0</td>\n",
       "      <td>0.0</td>\n",
       "      <td>0.0</td>\n",
       "      <td>0.109187</td>\n",
       "      <td>0.123902</td>\n",
       "      <td>0.149423</td>\n",
       "    </tr>\n",
       "    <tr>\n",
       "      <th>4</th>\n",
       "      <td>EN50128</td>\n",
       "      <td>1.4</td>\n",
       "      <td>NaN</td>\n",
       "      <td>This European Standard applies to all safety r...</td>\n",
       "      <td>SCOPE</td>\n",
       "      <td>s</td>\n",
       "      <td>software used railway</td>\n",
       "      <td>This European Standard applies to all safety r...</td>\n",
       "      <td>application programming comprises high level p...</td>\n",
       "      <td>(0.009632393, 0.03896258, -0.034440175, 0.0282...</td>\n",
       "      <td>...</td>\n",
       "      <td>(-0.038539495, -0.019001987, -0.056187857, -0....</td>\n",
       "      <td>(-0.03427112, 0.007936827, -0.0047192476, -0.0...</td>\n",
       "      <td>0.0</td>\n",
       "      <td>0.0</td>\n",
       "      <td>0.0</td>\n",
       "      <td>0.0</td>\n",
       "      <td>0.0</td>\n",
       "      <td>0.106486</td>\n",
       "      <td>0.047205</td>\n",
       "      <td>0.211130</td>\n",
       "    </tr>\n",
       "    <tr>\n",
       "      <th>5</th>\n",
       "      <td>EN50128</td>\n",
       "      <td>1.5</td>\n",
       "      <td>NaN</td>\n",
       "      <td>This European Standard also addresses the use ...</td>\n",
       "      <td>SCOPE</td>\n",
       "      <td>s</td>\n",
       "      <td>pre existing software</td>\n",
       "      <td>This European Standard sets out the requiremen...</td>\n",
       "      <td>7.3.4.7 and 6.5.4.16</td>\n",
       "      <td>(0.009632393, 0.03896258, -0.034440175, 0.0282...</td>\n",
       "      <td>...</td>\n",
       "      <td>(-0.015493689, 0.037855, -0.06615921, -0.06667...</td>\n",
       "      <td>(-0.018297635, -0.01638731, 0.021949157, -0.02...</td>\n",
       "      <td>0.0</td>\n",
       "      <td>0.0</td>\n",
       "      <td>0.0</td>\n",
       "      <td>0.0</td>\n",
       "      <td>0.0</td>\n",
       "      <td>0.146125</td>\n",
       "      <td>0.213242</td>\n",
       "      <td>0.134241</td>\n",
       "    </tr>\n",
       "  </tbody>\n",
       "</table>\n",
       "<p>5 rows × 21 columns</p>\n",
       "</div>"
      ]
     },
     "execution_count": 79,
     "metadata": {},
     "output_type": "execute_result"
    }
   ],
   "execution_count": 79
  },
  {
   "metadata": {},
   "cell_type": "markdown",
   "source": "### Visualizations",
   "id": "206f5d50a474cf21"
  },
  {
   "metadata": {
    "ExecuteTime": {
     "end_time": "2025-02-24T16:36:11.656183Z",
     "start_time": "2025-02-24T16:36:11.652299Z"
    }
   },
   "cell_type": "code",
   "source": "import matplotlib.pyplot as plt",
   "id": "d5c11175b0c5d019",
   "outputs": [],
   "execution_count": 68
  },
  {
   "metadata": {
    "ExecuteTime": {
     "end_time": "2025-02-24T16:36:12.544594Z",
     "start_time": "2025-02-24T16:36:12.539563Z"
    }
   },
   "cell_type": "code",
   "source": "plt.style.use(\"ggplot\")",
   "id": "2c53ed8af63e536e",
   "outputs": [],
   "execution_count": 69
  },
  {
   "metadata": {},
   "cell_type": "markdown",
   "source": "#### 1. Bar Plot: Mean Scores by Method",
   "id": "fd13b849acae0220"
  },
  {
   "metadata": {
    "ExecuteTime": {
     "end_time": "2025-02-24T16:37:12.436685Z",
     "start_time": "2025-02-24T16:37:12.432525Z"
    }
   },
   "cell_type": "code",
   "source": [
    "def filter_empty_rows(df):\n",
    "    \"\"\"\n",
    "    Remove rows where Heading or Clause columns contain NaN or empty strings.\n",
    "    \"\"\"\n",
    "    return df[(df[\"Human Heading\"].notna()) & (df[\"Clause Text\"].notna()) & (df[\"Human Heading\"].str.strip() != \"\") & (df[\"Clause Text\"].str.strip() != \"\")]\n"
   ],
   "id": "8848e702d3bb7744",
   "outputs": [],
   "execution_count": 76
  },
  {
   "metadata": {
    "ExecuteTime": {
     "end_time": "2025-02-24T16:37:12.803406Z",
     "start_time": "2025-02-24T16:37:12.798406Z"
    }
   },
   "cell_type": "code",
   "source": [
    "def plot_mean_scores(df):\n",
    "    \"\"\"\n",
    "    Plot the mean ROUGE-1, ROUGE-L, and Cosine Similarity scores for each method.\n",
    "    \"\"\"\n",
    "    # Filter rows\n",
    "    df = filter_empty_rows(df)\n",
    "\n",
    "    # Prepare data for the plot\n",
    "    mean_scores = pd.DataFrame({\n",
    "        \"Method\": [\"KeyBERT\", \"T5-small\", \"Pegasus-xsum\"],\n",
    "        \"ROUGE-1\": [\n",
    "            df[\"rouge-1-Keybert-all-MiniLM-L6-v2\"].mean(),\n",
    "            df[\"rouge-1-summarizer-t5-small\"].mean(),\n",
    "            df[\"rouge-1-summarizer-pegasus-xsum\"].mean()\n",
    "        ],\n",
    "        \"ROUGE-L\": [\n",
    "            df[\"rouge-L-Keybert-all-MiniLM-L6-v2\"].mean(),\n",
    "            df[\"rouge-L-summarizer-t5-small\"].mean(),\n",
    "            df[\"rouge-L-summarizer-pegasus-xsum\"].mean()\n",
    "        ],\n",
    "        \"Cosine Similarity\": [\n",
    "            df[\"cosine-Keybert-all-MiniLM-L6-v2\"].mean(),\n",
    "            df[\"cosine-summarizer-t5-small\"].mean(),\n",
    "            df[\"cosine-summarizer-pegasus-xsum\"].mean()\n",
    "        ]\n",
    "    })\n",
    "\n",
    "    # Plot bar chart\n",
    "    mean_scores.plot(kind='bar', x='Method', y=['ROUGE-1', 'ROUGE-L', 'Cosine Similarity'], figsize=(10, 6))\n",
    "    plt.title(\"Mean ROUGE and Cosine Similarity Scores by Method\")\n",
    "    plt.ylabel(\"Score\")\n",
    "    plt.ylim(0, 1)\n",
    "    plt.xticks(rotation=0)\n",
    "    plt.legend(loc=\"upper left\")\n",
    "    plt.show()\n"
   ],
   "id": "86aee14f706d6b68",
   "outputs": [],
   "execution_count": 77
  },
  {
   "metadata": {
    "ExecuteTime": {
     "end_time": "2025-02-24T16:39:41.486092Z",
     "start_time": "2025-02-24T16:39:40.770924Z"
    }
   },
   "cell_type": "code",
   "source": "plot_mean_scores(df=df)",
   "id": "ef7c17971a9772c1",
   "outputs": [
    {
     "data": {
      "text/plain": [
       "<Figure size 1000x600 with 1 Axes>"
      ],
      "image/png": "[encoded data removed]"
     },
     "metadata": {},
     "output_type": "display_data"
    }
   ],
   "execution_count": 81
  },
  {
   "metadata": {
    "ExecuteTime": {
     "end_time": "2025-02-24T16:45:16.677059Z",
     "start_time": "2025-02-24T16:45:16.671216Z"
    }
   },
   "cell_type": "code",
   "source": [
    "mean_scores = pd.DataFrame({\n",
    "        \"Method\": [\"KeyBERT\", \"T5-small\", \"Pegasus-xsum\"],\n",
    "        \"ROUGE-1\": [\n",
    "            df[\"rouge-1-Keybert-all-MiniLM-L6-v2\"].mean(),\n",
    "            df[\"rouge-1-summarizer-t5-small\"].mean(),\n",
    "            df[\"rouge-1-summarizer-pegasus-xsum\"].mean()\n",
    "        ],\n",
    "        \"ROUGE-L\": [\n",
    "            df[\"rouge-L-Keybert-all-MiniLM-L6-v2\"].mean(),\n",
    "            df[\"rouge-L-summarizer-t5-small\"].mean(),\n",
    "            df[\"rouge-L-summarizer-pegasus-xsum\"].mean()\n",
    "        ],\n",
    "        \"Cosine Similarity\": [\n",
    "            df[\"cosine-Keybert-all-MiniLM-L6-v2\"].mean(),\n",
    "            df[\"cosine-summarizer-t5-small\"].mean(),\n",
    "            df[\"cosine-summarizer-pegasus-xsum\"].mean()\n",
    "        ]\n",
    "    })"
   ],
   "id": "2fc62981d008f32e",
   "outputs": [],
   "execution_count": 82
  },
  {
   "metadata": {
    "ExecuteTime": {
     "end_time": "2025-02-24T16:45:23.255915Z",
     "start_time": "2025-02-24T16:45:23.251915Z"
    }
   },
   "cell_type": "code",
   "source": [
    "print(\"\\nSummarization Results:\\n\")\n",
    "print(mean_scores.to_string(index=False, float_format=\"{:.4f}\".format))"
   ],
   "id": "f5a845812985b902",
   "outputs": [
    {
     "name": "stdout",
     "output_type": "stream",
     "text": [
      "\n",
      "Summarization Results:\n",
      "\n",
      "      Method  ROUGE-1  ROUGE-L  Cosine Similarity\n",
      "     KeyBERT   0.0860   0.0843             0.3224\n",
      "    T5-small   0.0650   0.0623             0.3068\n",
      "Pegasus-xsum   0.0474   0.0452             0.2828\n"
     ]
    }
   ],
   "execution_count": 83
  },
  {
   "metadata": {},
   "cell_type": "markdown",
   "source": "#### Box Plot: Score Distributions",
   "id": "2842a1d9e9e62fae"
  },
  {
   "metadata": {
    "ExecuteTime": {
     "end_time": "2025-01-05T16:59:00.925462Z",
     "start_time": "2025-01-05T16:59:00.919608Z"
    }
   },
   "cell_type": "code",
   "source": [
    "def plot_score_distributions(df):\n",
    "    \"\"\"\n",
    "    Plot box plots for score distributions for each method.\n",
    "    \"\"\"\n",
    "    # Filter rows\n",
    "    df = filter_empty_rows(df)\n",
    "\n",
    "    metrics = {\n",
    "        \"ROUGE-1\": [\"rouge-1-Keybert-all-MiniLM-L6-v2\", \"rouge-1-summarizer-t5-small\", \"rouge-1-summarizer-pegasus-xsum\"],\n",
    "        \"ROUGE-L\": [\"rouge-L-Keybert-all-MiniLM-L6-v2\", \"rouge-L-summarizer-t5-small\", \"rouge-L-summarizer-pegasus-xsum\"],\n",
    "        \"Cosine Similarity\": [\"cosine-Keybert-all-MiniLM-L6-v2\", \"cosine-summarizer-t5-small\", \"cosine-summarizer-pegasus-xsum\"]\n",
    "    }\n",
    "\n",
    "    fig, axes = plt.subplots(1, 3, figsize=(18, 6))\n",
    "\n",
    "    for idx, (metric_name, columns) in enumerate(metrics.items()):\n",
    "        melted_df = pd.melt(df, value_vars=columns, var_name=\"Method\", value_name=metric_name)\n",
    "        melted_df[\"Method\"] = melted_df[\"Method\"].map({\n",
    "            \"rouge-1-Keybert-all-MiniLM-L6-v2\": \"KeyBERT\",\n",
    "            \"rouge-1-summarizer-t5-small\": \"T5-small\",\n",
    "            \"rouge-1-summarizer-pegasus-xsum\": \"Pegasus-xsum\",\n",
    "            \"rouge-L-Keybert-all-MiniLM-L6-v2\": \"KeyBERT\",\n",
    "            \"rouge-L-summarizer-t5-small\": \"T5-small\",\n",
    "            \"rouge-L-summarizer-pegasus-xsum\": \"Pegasus-xsum\",\n",
    "            \"cosine-Keybert-all-MiniLM-L6-v2\": \"KeyBERT\",\n",
    "            \"cosine-summarizer-t5-small\": \"T5-small\",\n",
    "            \"cosine-summarizer-pegasus-xsum\": \"Pegasus-xsum\"\n",
    "        })\n",
    "\n",
    "        melted_df.boxplot(column=metric_name, by=\"Method\", ax=axes[idx], grid=False)\n",
    "        axes[idx].set_title(f\"{metric_name} Distribution\")\n",
    "        axes[idx].set_xlabel(\"Method\")\n",
    "        axes[idx].set_ylabel(\"Score\")\n",
    "        axes[idx].set_ylim(0, 1)\n",
    "\n",
    "    plt.suptitle(\"Score Distributions by Method\")\n",
    "    plt.tight_layout(rect=[0, 0, 1, 0.96])\n",
    "    plt.show()"
   ],
   "id": "7a3d3f1a047d0f97",
   "outputs": [],
   "execution_count": 113
  },
  {
   "metadata": {
    "ExecuteTime": {
     "end_time": "2025-01-05T16:59:16.087438Z",
     "start_time": "2025-01-05T16:59:15.781880Z"
    }
   },
   "cell_type": "code",
   "source": "plot_score_distributions(df=df)",
   "id": "820d11f135a6aa94",
   "outputs": [
    {
     "data": {
      "text/plain": [
       "<Figure size 1800x600 with 3 Axes>"
      ],
      "image/png": "[encoded data removed]"
     },
     "metadata": {},
     "output_type": "display_data"
    }
   ],
   "execution_count": 114
  },
  {
   "metadata": {},
   "cell_type": "markdown",
   "source": "#### Scatter Plot: ROUGE vs Cosine Similarity",
   "id": "36122d2de91b78c5"
  },
  {
   "metadata": {
    "ExecuteTime": {
     "end_time": "2025-01-05T17:01:05.987077Z",
     "start_time": "2025-01-05T17:01:05.982082Z"
    }
   },
   "cell_type": "code",
   "source": [
    "def plot_scatter_scores(df):\n",
    "    \"\"\"\n",
    "    Scatter plot showing the relationship between ROUGE-L and Cosine Similarity scores for each method.\n",
    "    \"\"\"\n",
    "    # Filter rows\n",
    "    df = filter_empty_rows(df)\n",
    "\n",
    "    plt.figure(figsize=(10, 6))\n",
    "    colors = {'KeyBERT': 'red', 'T5-small': 'blue', 'Pegasus-xsum': 'green'}\n",
    "\n",
    "    methods = {\n",
    "        \"KeyBERT\": (\"rouge-L-Keybert-all-MiniLM-L6-v2\", \"cosine-Keybert-all-MiniLM-L6-v2\"),\n",
    "        \"T5-small\": (\"rouge-L-summarizer-t5-small\", \"cosine-summarizer-t5-small\"),\n",
    "        \"Pegasus-xsum\": (\"rouge-L-summarizer-pegasus-xsum\", \"cosine-summarizer-pegasus-xsum\")\n",
    "    }\n",
    "\n",
    "    for method, (rouge_col, cosine_col) in methods.items():\n",
    "        plt.scatter(df[rouge_col], df[cosine_col], label=method, color=colors[method], alpha=0.6, s=100)\n",
    "\n",
    "    plt.title(\"ROUGE-L vs Cosine Similarity by Method\")\n",
    "    plt.xlabel(\"ROUGE-L Score\")\n",
    "    plt.ylabel(\"Cosine Similarity\")\n",
    "    plt.legend()\n",
    "    plt.grid(True)\n",
    "    plt.show()\n"
   ],
   "id": "6cbe6b6d4ff55c6d",
   "outputs": [],
   "execution_count": 116
  },
  {
   "metadata": {
    "ExecuteTime": {
     "end_time": "2025-01-05T17:01:07.578396Z",
     "start_time": "2025-01-05T17:01:07.460595Z"
    }
   },
   "cell_type": "code",
   "source": "plot_scatter_scores(df)",
   "id": "e15bc15164d74a22",
   "outputs": [
    {
     "data": {
      "text/plain": [
       "<Figure size 1000x600 with 1 Axes>"
      ],
      "image/png": "[encoded data removed]"
     },
     "metadata": {},
     "output_type": "display_data"
    }
   ],
   "execution_count": 117
  },
  {
   "metadata": {},
   "cell_type": "code",
   "outputs": [],
   "execution_count": null,
   "source": "",
   "id": "235e5cdbd00bda82"
  },
  {
   "metadata": {},
   "cell_type": "code",
   "outputs": [],
   "execution_count": null,
   "source": "",
   "id": "88ba321458c5bafc"
  },
  {
   "metadata": {},
   "cell_type": "code",
   "outputs": [],
   "execution_count": null,
   "source": "",
   "id": "c6ebb7a5ee5a7096"
  }
 ],
 "metadata": {
  "kernelspec": {
   "display_name": "Python 3",
   "language": "python",
   "name": "python3"
  },
  "language_info": {
   "codemirror_mode": {
    "name": "ipython",
    "version": 2
   },
   "file_extension": ".py",
   "mimetype": "text/x-python",
   "name": "python",
   "nbconvert_exporter": "python",
   "pygments_lexer": "ipython2",
   "version": "2.7.6"
  }
 },
 "nbformat": 4,
 "nbformat_minor": 5
}
